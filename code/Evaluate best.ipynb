{
 "cells": [
  {
   "cell_type": "code",
   "execution_count": 1,
   "id": "66ac330b",
   "metadata": {},
   "outputs": [],
   "source": [
    "import models\n",
    "import datasets\n",
    "import tensorflow as tf\n",
    "import tensorflow.keras as keras\n",
    "from os import path\n",
    "import json\n",
    "import keras.backend as K\n",
    "import numpy as np\n",
    "from keras_flops import get_flops"
   ]
  },
  {
   "cell_type": "markdown",
   "id": "28a4c79c",
   "metadata": {},
   "source": [
    "# Evaluate"
   ]
  },
  {
   "cell_type": "code",
   "execution_count": 2,
   "id": "58463f12",
   "metadata": {},
   "outputs": [],
   "source": [
    "def get_accuracy(model, dataset_name, img_size):\n",
    "    data_train, data_val, data_test, info = datasets.load_data(dataset_name)\n",
    "    data_train, data_val, data_test = datasets.preprocess_data(data_train, data_val, data_test, img_size)\n",
    "    \n",
    "    result = model.evaluate(data_test)\n",
    "    return result[1]\n",
    "\n",
    "\n",
    "def evaluate(backbone_names, dataset_names):\n",
    "    for dataset_name in dataset_names:\n",
    "        specs = {}\n",
    "        for backbone_name in backbone_names:\n",
    "            specs_one = {}\n",
    "            model_path = path.join(\"models\", dataset_name, backbone_name)\n",
    "            model = keras.models.load_model(model_path)\n",
    "            img_size = models.get_image_size(backbone_name)\n",
    "            \n",
    "            acc = get_accuracy(model, dataset_name, img_size)\n",
    "            specs_one[\"accuracy\"] = acc\n",
    "            \n",
    "            specs_one[\"parameters\"] = model.count_params()\n",
    "            \n",
    "            # iz nekog razloga vraca fuplo FLOPs pa podijeli s 2\n",
    "            specs_one[\"flops\"] = get_flops(model, batch_size=1) / 2\n",
    "            \n",
    "            specs[backbone_name] = specs_one\n",
    "            \n",
    "        save_path = path.join(\"best_models_log\", dataset_name, \"evaluate.txt\")\n",
    "        with open(save_path, \"w\") as file:\n",
    "            file.write(json.dumps(specs))"
   ]
  },
  {
   "cell_type": "code",
   "execution_count": 3,
   "id": "1c722bbf",
   "metadata": {},
   "outputs": [],
   "source": [
    "backbone_names = [\"effnetB0\", \"effnetB1\", \"effnetB2\", \"effnetB3\",\n",
    "                  \"densenet121\", \"densenet169\",\n",
    "                  \"resnet101v2\", \"resnet152v2\",\n",
    "                  \"mobilenetv2\"]"
   ]
  },
  {
   "cell_type": "code",
   "execution_count": 4,
   "id": "9d64e317",
   "metadata": {},
   "outputs": [
    {
     "name": "stdout",
     "output_type": "stream",
     "text": [
      "115/115 [==============================] - 18s 88ms/step - loss: 0.3335 - accuracy: 0.9041\n",
      "WARNING:tensorflow:From C:\\Users\\renato\\Desktop\\FER\\6semestar\\ZAVRAD\\zavrsni_env\\lib\\site-packages\\tensorflow\\python\\profiler\\internal\\flops_registry.py:138: tensor_shape_from_node_def_name (from tensorflow.python.framework.graph_util_impl) is deprecated and will be removed in a future version.\n",
      "Instructions for updating:\n",
      "Use `tf.compat.v1.graph_util.tensor_shape_from_node_def_name`\n"
     ]
    },
    {
     "name": "stderr",
     "output_type": "stream",
     "text": [
      "WARNING:tensorflow:From C:\\Users\\renato\\Desktop\\FER\\6semestar\\ZAVRAD\\zavrsni_env\\lib\\site-packages\\tensorflow\\python\\profiler\\internal\\flops_registry.py:138: tensor_shape_from_node_def_name (from tensorflow.python.framework.graph_util_impl) is deprecated and will be removed in a future version.\n",
      "Instructions for updating:\n",
      "Use `tf.compat.v1.graph_util.tensor_shape_from_node_def_name`\n"
     ]
    },
    {
     "name": "stdout",
     "output_type": "stream",
     "text": [
      "115/115 [==============================] - 18s 136ms/step - loss: 0.2926 - accuracy: 0.9092\n",
      "115/115 [==============================] - 21s 163ms/step - loss: 0.3077 - accuracy: 0.9180\n",
      "115/115 [==============================] - 35s 271ms/step - loss: 0.2593 - accuracy: 0.9310\n",
      "115/115 [==============================] - 18s 125ms/step - loss: 0.2888 - accuracy: 0.9109\n",
      "115/115 [==============================] - 20s 144ms/step - loss: 0.2939 - accuracy: 0.9131\n",
      "115/115 [==============================] - 25s 197ms/step - loss: 0.5556 - accuracy: 0.8904\n",
      "115/115 [==============================] - 33s 272ms/step - loss: 0.4288 - accuracy: 0.8825\n",
      "115/115 [==============================] - 7s 53ms/step - loss: 0.3835 - accuracy: 0.9005\n"
     ]
    }
   ],
   "source": [
    "dataset_names = [\"oxford_iiit_pet\"]\n",
    "evaluate(backbone_names, dataset_names)"
   ]
  },
  {
   "cell_type": "code",
   "execution_count": 5,
   "id": "c8b47236",
   "metadata": {},
   "outputs": [
    {
     "name": "stdout",
     "output_type": "stream",
     "text": [
      "32/32 [==============================] - 5s 109ms/step - loss: 0.1561 - accuracy: 0.9539\n",
      "32/32 [==============================] - 7s 151ms/step - loss: 0.1453 - accuracy: 0.9608\n",
      "32/32 [==============================] - 8s 191ms/step - loss: 0.1709 - accuracy: 0.9578\n",
      "32/32 [==============================] - 12s 314ms/step - loss: 0.1338 - accuracy: 0.9657\n",
      "32/32 [==============================] - 7s 174ms/step - loss: 0.1871 - accuracy: 0.9549\n",
      "32/32 [==============================] - 7s 162ms/step - loss: 0.1881 - accuracy: 0.9529\n",
      "32/32 [==============================] - 9s 221ms/step - loss: 0.3243 - accuracy: 0.9157\n",
      "32/32 [==============================] - 11s 269ms/step - loss: 0.3568 - accuracy: 0.9098\n",
      "32/32 [==============================] - 3s 62ms/step - loss: 0.2860 - accuracy: 0.9167\n"
     ]
    }
   ],
   "source": [
    "dataset_names = [\"oxford_flowers102\"]\n",
    "evaluate(backbone_names, dataset_names)"
   ]
  },
  {
   "cell_type": "code",
   "execution_count": 6,
   "id": "9a2b8e34",
   "metadata": {},
   "outputs": [
    {
     "name": "stdout",
     "output_type": "stream",
     "text": [
      "10/10 [==============================] - 3s 157ms/step - loss: 0.1553 - accuracy: 0.9556\n",
      "10/10 [==============================] - 4s 199ms/step - loss: 0.1286 - accuracy: 0.9619\n",
      "10/10 [==============================] - 4s 273ms/step - loss: 0.1302 - accuracy: 0.9746\n",
      "10/10 [==============================] - 6s 437ms/step - loss: 0.1022 - accuracy: 0.9778\n",
      "10/10 [==============================] - 5s 304ms/step - loss: 0.1285 - accuracy: 0.9619\n",
      "10/10 [==============================] - 5s 230ms/step - loss: 0.1377 - accuracy: 0.9619\n",
      "10/10 [==============================] - 5s 297ms/step - loss: 0.1269 - accuracy: 0.9651\n",
      "10/10 [==============================] - 6s 297ms/step - loss: 0.1603 - accuracy: 0.9556\n",
      "10/10 [==============================] - 2s 88ms/step - loss: 0.1891 - accuracy: 0.9397\n"
     ]
    }
   ],
   "source": [
    "dataset_names = [\"uc_merced\"]\n",
    "evaluate(backbone_names, dataset_names)"
   ]
  },
  {
   "cell_type": "code",
   "execution_count": null,
   "id": "0f0aac0f",
   "metadata": {},
   "outputs": [],
   "source": []
  }
 ],
 "metadata": {
  "kernelspec": {
   "display_name": "zavrsni_env",
   "language": "python",
   "name": "zavrsni_env"
  },
  "language_info": {
   "codemirror_mode": {
    "name": "ipython",
    "version": 3
   },
   "file_extension": ".py",
   "mimetype": "text/x-python",
   "name": "python",
   "nbconvert_exporter": "python",
   "pygments_lexer": "ipython3",
   "version": "3.8.10"
  }
 },
 "nbformat": 4,
 "nbformat_minor": 5
}
