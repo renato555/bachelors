{
 "cells": [
  {
   "cell_type": "code",
   "execution_count": 1,
   "id": "b9b96791",
   "metadata": {},
   "outputs": [],
   "source": [
    "import models\n",
    "import datasets\n",
    "import tensorflow as tf\n",
    "import tensorflow.keras as keras\n",
    "from os import path"
   ]
  },
  {
   "cell_type": "code",
   "execution_count": 4,
   "id": "3d3e3cdc",
   "metadata": {},
   "outputs": [],
   "source": [
    "def train_on_dataset(backbone_name, dataset_name, dropout_rate, unfreeze_num=20):\n",
    "    img_size = models.get_image_size(backbone_name)\n",
    "    data_train, data_val, data_test, info = datasets.load_data(dataset_name)\n",
    "    data_train, data_val, data_test = datasets.preprocess_data(data_train, data_val, data_test, img_size)\n",
    "    \n",
    "    model = models.get_classification_model(N_CLASSES=info.features['label'].num_classes,\n",
    "                                            backbone_name=backbone_name,\n",
    "                                            head_dropout_rate=dropout_rate)\n",
    "    log_path = path.join(\"best_models_log\", dataset_name, backbone_name)\n",
    "    save_path = path.join(\"models\", dataset_name, backbone_name)\n",
    "   \n",
    "    model.compile(loss=keras.losses.SparseCategoricalCrossentropy(),\n",
    "                  optimizer=keras.optimizers.Adam(learning_rate=0.001),\n",
    "                  metrics=[\"accuracy\"])\n",
    "    \n",
    "    log_path_freeze = log_path + \"_freeze\"\n",
    "    callbacks = [\n",
    "        keras.callbacks.TensorBoard(log_path_freeze),\n",
    "        keras.callbacks.EarlyStopping(patience=5, restore_best_weights=True)\n",
    "    ]\n",
    "    \n",
    "    epochs = 100\n",
    "    history1 = model.fit(data_train, epochs=epochs, validation_data=data_val, callbacks=callbacks)\n",
    "    \n",
    "    \n",
    "    for layer in model.layers[0].layers[1].layers[-unfreeze_num:]:\n",
    "        if not isinstance(layer, keras.layers.BatchNormalization):\n",
    "            layer.trainable = True\n",
    "    \n",
    "    model.compile(loss=keras.losses.SparseCategoricalCrossentropy(),\n",
    "                  optimizer=keras.optimizers.Adam(learning_rate=0.0001),\n",
    "                  metrics=[\"accuracy\"])\n",
    "    \n",
    "    log_path_unfreeze = log_path + \"_unfreeze\"\n",
    "    callbacks = [\n",
    "        keras.callbacks.TensorBoard(log_path_unfreeze),\n",
    "        keras.callbacks.EarlyStopping(patience=5, restore_best_weights=True)\n",
    "    ]\n",
    "    \n",
    "    epochs = 100\n",
    "    history2 = model.fit(data_train, epochs=epochs, validation_data=data_val, callbacks=callbacks)\n",
    "    \n",
    "    model.save(save_path)\n",
    "    return history1, history2"
   ]
  },
  {
   "cell_type": "markdown",
   "id": "b93ddb5e",
   "metadata": {},
   "source": [
    "# oxford iiit pets dataset"
   ]
  },
  {
   "cell_type": "code",
   "execution_count": 46,
   "id": "c89b4619",
   "metadata": {},
   "outputs": [],
   "source": [
    "dataset_name = \"oxford_iiit_pet\""
   ]
  },
  {
   "cell_type": "code",
   "execution_count": 47,
   "id": "69ae7638",
   "metadata": {
    "collapsed": true
   },
   "outputs": [
    {
     "name": "stdout",
     "output_type": "stream",
     "text": [
      "Epoch 1/100\n",
      "104/104 [==============================] - 23s 132ms/step - loss: 1.5673 - accuracy: 0.5731 - val_loss: 0.9056 - val_accuracy: 0.8668\n",
      "Epoch 2/100\n",
      "104/104 [==============================] - 13s 111ms/step - loss: 0.4788 - accuracy: 0.8442 - val_loss: 0.4653 - val_accuracy: 0.8777\n",
      "Epoch 3/100\n",
      "104/104 [==============================] - 13s 110ms/step - loss: 0.3125 - accuracy: 0.8937 - val_loss: 0.3456 - val_accuracy: 0.8967\n",
      "Epoch 4/100\n",
      "104/104 [==============================] - 13s 112ms/step - loss: 0.2673 - accuracy: 0.9022 - val_loss: 0.3066 - val_accuracy: 0.8995\n",
      "Epoch 5/100\n",
      "104/104 [==============================] - 13s 111ms/step - loss: 0.2195 - accuracy: 0.9269 - val_loss: 0.3161 - val_accuracy: 0.9185\n",
      "Epoch 6/100\n",
      "104/104 [==============================] - 12s 107ms/step - loss: 0.1772 - accuracy: 0.9354 - val_loss: 0.3271 - val_accuracy: 0.9076\n",
      "Epoch 7/100\n",
      "104/104 [==============================] - 12s 107ms/step - loss: 0.1707 - accuracy: 0.9396 - val_loss: 0.3249 - val_accuracy: 0.9049\n",
      "Epoch 8/100\n",
      "104/104 [==============================] - 12s 106ms/step - loss: 0.1353 - accuracy: 0.9517 - val_loss: 0.3222 - val_accuracy: 0.9130\n",
      "Epoch 9/100\n",
      "104/104 [==============================] - 12s 108ms/step - loss: 0.1276 - accuracy: 0.9565 - val_loss: 0.3051 - val_accuracy: 0.9022\n",
      "Epoch 10/100\n",
      "104/104 [==============================] - 12s 108ms/step - loss: 0.1158 - accuracy: 0.9626 - val_loss: 0.2929 - val_accuracy: 0.9076\n",
      "Epoch 11/100\n",
      "104/104 [==============================] - 12s 109ms/step - loss: 0.0945 - accuracy: 0.9665 - val_loss: 0.2889 - val_accuracy: 0.9103\n",
      "Epoch 12/100\n",
      "104/104 [==============================] - 13s 109ms/step - loss: 0.0877 - accuracy: 0.9689 - val_loss: 0.3101 - val_accuracy: 0.9049\n",
      "Epoch 13/100\n",
      "104/104 [==============================] - 12s 107ms/step - loss: 0.0891 - accuracy: 0.9692 - val_loss: 0.3248 - val_accuracy: 0.8995\n",
      "Epoch 14/100\n",
      "104/104 [==============================] - 12s 107ms/step - loss: 0.0856 - accuracy: 0.9692 - val_loss: 0.3098 - val_accuracy: 0.9076\n",
      "Epoch 15/100\n",
      "104/104 [==============================] - 12s 106ms/step - loss: 0.0689 - accuracy: 0.9771 - val_loss: 0.3275 - val_accuracy: 0.9049\n",
      "Epoch 16/100\n",
      "104/104 [==============================] - 12s 108ms/step - loss: 0.0721 - accuracy: 0.9737 - val_loss: 0.3289 - val_accuracy: 0.9103\n",
      "Epoch 1/100\n",
      "104/104 [==============================] - 20s 128ms/step - loss: 0.0871 - accuracy: 0.9683 - val_loss: 0.2974 - val_accuracy: 0.9022\n",
      "Epoch 2/100\n",
      "104/104 [==============================] - 13s 114ms/step - loss: 0.0627 - accuracy: 0.9783 - val_loss: 0.2775 - val_accuracy: 0.9158\n",
      "Epoch 3/100\n",
      "104/104 [==============================] - 13s 113ms/step - loss: 0.0536 - accuracy: 0.9819 - val_loss: 0.2977 - val_accuracy: 0.9049\n",
      "Epoch 4/100\n",
      "104/104 [==============================] - 13s 113ms/step - loss: 0.0521 - accuracy: 0.9834 - val_loss: 0.2901 - val_accuracy: 0.9103\n",
      "Epoch 5/100\n",
      "104/104 [==============================] - 13s 113ms/step - loss: 0.0481 - accuracy: 0.9834 - val_loss: 0.2988 - val_accuracy: 0.9130\n",
      "Epoch 6/100\n",
      "104/104 [==============================] - 13s 112ms/step - loss: 0.0374 - accuracy: 0.9888 - val_loss: 0.2981 - val_accuracy: 0.9103\n",
      "Epoch 7/100\n",
      "104/104 [==============================] - 13s 113ms/step - loss: 0.0395 - accuracy: 0.9885 - val_loss: 0.2880 - val_accuracy: 0.9239\n",
      "INFO:tensorflow:Assets written to: models\\oxford_iiit_pet\\effnetB0\\assets\n"
     ]
    },
    {
     "name": "stderr",
     "output_type": "stream",
     "text": [
      "INFO:tensorflow:Assets written to: models\\oxford_iiit_pet\\effnetB0\\assets\n"
     ]
    },
    {
     "data": {
      "text/plain": [
       "(<keras.callbacks.History at 0x1fc367c3610>,\n",
       " <keras.callbacks.History at 0x1fb5128dca0>)"
      ]
     },
     "execution_count": 47,
     "metadata": {},
     "output_type": "execute_result"
    }
   ],
   "source": [
    "model_name = \"effnetB0\"\n",
    "dropout_rate = 0.45\n",
    "train_on_dataset(model_name, dataset_name, dropout_rate)"
   ]
  },
  {
   "cell_type": "code",
   "execution_count": 5,
   "id": "584f1450",
   "metadata": {
    "collapsed": true
   },
   "outputs": [
    {
     "name": "stdout",
     "output_type": "stream",
     "text": [
      "Epoch 1/100\n",
      "104/104 [==============================] - 25s 165ms/step - loss: 1.3043 - accuracy: 0.6507 - val_loss: 0.8239 - val_accuracy: 0.8777\n",
      "Epoch 2/100\n",
      "104/104 [==============================] - 15s 147ms/step - loss: 0.3456 - accuracy: 0.8940 - val_loss: 0.3858 - val_accuracy: 0.9022\n",
      "Epoch 3/100\n",
      "104/104 [==============================] - 15s 147ms/step - loss: 0.2285 - accuracy: 0.9224 - val_loss: 0.2878 - val_accuracy: 0.8940\n",
      "Epoch 4/100\n",
      "104/104 [==============================] - 15s 147ms/step - loss: 0.1629 - accuracy: 0.9444 - val_loss: 0.2680 - val_accuracy: 0.9076\n",
      "Epoch 5/100\n",
      "104/104 [==============================] - 15s 146ms/step - loss: 0.1357 - accuracy: 0.9520 - val_loss: 0.2925 - val_accuracy: 0.8995\n",
      "Epoch 6/100\n",
      "104/104 [==============================] - 15s 147ms/step - loss: 0.1149 - accuracy: 0.9626 - val_loss: 0.2754 - val_accuracy: 0.9103\n",
      "Epoch 7/100\n",
      "104/104 [==============================] - 15s 147ms/step - loss: 0.0943 - accuracy: 0.9704 - val_loss: 0.2701 - val_accuracy: 0.9103\n",
      "Epoch 8/100\n",
      "104/104 [==============================] - 15s 147ms/step - loss: 0.0866 - accuracy: 0.9716 - val_loss: 0.2755 - val_accuracy: 0.9103\n",
      "Epoch 9/100\n",
      "104/104 [==============================] - 15s 147ms/step - loss: 0.0755 - accuracy: 0.9771 - val_loss: 0.2684 - val_accuracy: 0.9076\n",
      "Epoch 1/100\n",
      "104/104 [==============================] - 25s 179ms/step - loss: 0.1404 - accuracy: 0.9517 - val_loss: 0.2532 - val_accuracy: 0.9158\n",
      "Epoch 2/100\n",
      "104/104 [==============================] - 17s 162ms/step - loss: 0.0958 - accuracy: 0.9701 - val_loss: 0.2570 - val_accuracy: 0.9103\n",
      "Epoch 3/100\n",
      "104/104 [==============================] - 17s 162ms/step - loss: 0.0646 - accuracy: 0.9792 - val_loss: 0.2666 - val_accuracy: 0.9158\n",
      "Epoch 4/100\n",
      "104/104 [==============================] - 17s 163ms/step - loss: 0.0561 - accuracy: 0.9846 - val_loss: 0.2633 - val_accuracy: 0.9185\n",
      "Epoch 5/100\n",
      "104/104 [==============================] - 17s 163ms/step - loss: 0.0416 - accuracy: 0.9879 - val_loss: 0.2935 - val_accuracy: 0.9049\n",
      "Epoch 6/100\n",
      "104/104 [==============================] - 17s 163ms/step - loss: 0.0369 - accuracy: 0.9912 - val_loss: 0.2538 - val_accuracy: 0.9103\n",
      "INFO:tensorflow:Assets written to: models\\oxford_iiit_pet\\effnetB1\\assets\n"
     ]
    },
    {
     "name": "stderr",
     "output_type": "stream",
     "text": [
      "INFO:tensorflow:Assets written to: models\\oxford_iiit_pet\\effnetB1\\assets\n"
     ]
    },
    {
     "data": {
      "text/plain": [
       "(<keras.callbacks.History at 0x1f769e8f820>,\n",
       " <keras.callbacks.History at 0x1f7f3e9f700>)"
      ]
     },
     "execution_count": 5,
     "metadata": {},
     "output_type": "execute_result"
    }
   ],
   "source": [
    "model_name = \"effnetB1\"\n",
    "dropout_rate = 0.3\n",
    "train_on_dataset(model_name, dataset_name, dropout_rate)"
   ]
  },
  {
   "cell_type": "code",
   "execution_count": 6,
   "id": "fe477369",
   "metadata": {
    "collapsed": true
   },
   "outputs": [
    {
     "name": "stdout",
     "output_type": "stream",
     "text": [
      "Epoch 1/100\n",
      "104/104 [==============================] - 28s 188ms/step - loss: 1.0176 - accuracy: 0.7165 - val_loss: 0.8865 - val_accuracy: 0.8750\n",
      "Epoch 2/100\n",
      "104/104 [==============================] - 17s 165ms/step - loss: 0.2678 - accuracy: 0.9118 - val_loss: 0.4047 - val_accuracy: 0.8967\n",
      "Epoch 3/100\n",
      "104/104 [==============================] - 17s 165ms/step - loss: 0.1698 - accuracy: 0.9472 - val_loss: 0.2861 - val_accuracy: 0.9103\n",
      "Epoch 4/100\n",
      "104/104 [==============================] - 17s 165ms/step - loss: 0.1301 - accuracy: 0.9611 - val_loss: 0.2619 - val_accuracy: 0.9022\n",
      "Epoch 5/100\n",
      "104/104 [==============================] - 17s 165ms/step - loss: 0.0991 - accuracy: 0.9665 - val_loss: 0.2595 - val_accuracy: 0.8995\n",
      "Epoch 6/100\n",
      "104/104 [==============================] - 17s 165ms/step - loss: 0.0833 - accuracy: 0.9740 - val_loss: 0.2570 - val_accuracy: 0.8995\n",
      "Epoch 7/100\n",
      "104/104 [==============================] - 17s 165ms/step - loss: 0.0610 - accuracy: 0.9831 - val_loss: 0.2633 - val_accuracy: 0.9130\n",
      "Epoch 8/100\n",
      "104/104 [==============================] - 17s 165ms/step - loss: 0.0611 - accuracy: 0.9789 - val_loss: 0.2741 - val_accuracy: 0.9158\n",
      "Epoch 9/100\n",
      "104/104 [==============================] - 17s 165ms/step - loss: 0.0608 - accuracy: 0.9831 - val_loss: 0.2803 - val_accuracy: 0.9022\n",
      "Epoch 10/100\n",
      "104/104 [==============================] - 17s 165ms/step - loss: 0.0438 - accuracy: 0.9861 - val_loss: 0.2794 - val_accuracy: 0.9158\n",
      "Epoch 11/100\n",
      "104/104 [==============================] - 17s 166ms/step - loss: 0.0374 - accuracy: 0.9900 - val_loss: 0.2742 - val_accuracy: 0.9212\n",
      "Epoch 1/100\n",
      "104/104 [==============================] - 27s 203ms/step - loss: 0.0750 - accuracy: 0.9777 - val_loss: 0.2626 - val_accuracy: 0.9103\n",
      "Epoch 2/100\n",
      "104/104 [==============================] - 19s 185ms/step - loss: 0.0462 - accuracy: 0.9864 - val_loss: 0.2770 - val_accuracy: 0.9130\n",
      "Epoch 3/100\n",
      "104/104 [==============================] - 19s 185ms/step - loss: 0.0292 - accuracy: 0.9940 - val_loss: 0.2750 - val_accuracy: 0.9103\n",
      "Epoch 4/100\n",
      "104/104 [==============================] - 19s 185ms/step - loss: 0.0287 - accuracy: 0.9915 - val_loss: 0.2556 - val_accuracy: 0.9239\n",
      "Epoch 5/100\n",
      "104/104 [==============================] - 19s 185ms/step - loss: 0.0281 - accuracy: 0.9906 - val_loss: 0.2383 - val_accuracy: 0.9266\n",
      "Epoch 6/100\n",
      "104/104 [==============================] - 19s 185ms/step - loss: 0.0184 - accuracy: 0.9967 - val_loss: 0.2518 - val_accuracy: 0.9158\n",
      "Epoch 7/100\n",
      "104/104 [==============================] - 19s 185ms/step - loss: 0.0139 - accuracy: 0.9970 - val_loss: 0.2610 - val_accuracy: 0.9158\n",
      "Epoch 8/100\n",
      "104/104 [==============================] - 19s 186ms/step - loss: 0.0161 - accuracy: 0.9964 - val_loss: 0.2352 - val_accuracy: 0.9212\n",
      "Epoch 9/100\n",
      "104/104 [==============================] - 19s 185ms/step - loss: 0.0153 - accuracy: 0.9964 - val_loss: 0.2767 - val_accuracy: 0.9103\n",
      "Epoch 10/100\n",
      "104/104 [==============================] - 19s 185ms/step - loss: 0.0117 - accuracy: 0.9970 - val_loss: 0.2744 - val_accuracy: 0.9185\n",
      "Epoch 11/100\n",
      "104/104 [==============================] - 19s 185ms/step - loss: 0.0202 - accuracy: 0.9925 - val_loss: 0.2760 - val_accuracy: 0.9130\n",
      "Epoch 12/100\n",
      "104/104 [==============================] - 19s 185ms/step - loss: 0.0129 - accuracy: 0.9967 - val_loss: 0.2602 - val_accuracy: 0.9076\n",
      "Epoch 13/100\n",
      "104/104 [==============================] - 19s 186ms/step - loss: 0.0093 - accuracy: 0.9979 - val_loss: 0.2635 - val_accuracy: 0.9076\n",
      "INFO:tensorflow:Assets written to: models\\oxford_iiit_pet\\effnetB2\\assets\n"
     ]
    },
    {
     "name": "stderr",
     "output_type": "stream",
     "text": [
      "INFO:tensorflow:Assets written to: models\\oxford_iiit_pet\\effnetB2\\assets\n"
     ]
    },
    {
     "data": {
      "text/plain": [
       "(<keras.callbacks.History at 0x1f7ba7e1bb0>,\n",
       " <keras.callbacks.History at 0x1f7f23b9070>)"
      ]
     },
     "execution_count": 6,
     "metadata": {},
     "output_type": "execute_result"
    }
   ],
   "source": [
    "model_name = \"effnetB2\"\n",
    "dropout_rate = 0.2\n",
    "train_on_dataset(model_name, dataset_name, dropout_rate)"
   ]
  },
  {
   "cell_type": "code",
   "execution_count": 7,
   "id": "899ac6b5",
   "metadata": {
    "collapsed": true
   },
   "outputs": [
    {
     "name": "stdout",
     "output_type": "stream",
     "text": [
      "Epoch 1/100\n",
      "104/104 [==============================] - 45s 340ms/step - loss: 1.4686 - accuracy: 0.6280 - val_loss: 0.8037 - val_accuracy: 0.9022\n",
      "Epoch 2/100\n",
      "104/104 [==============================] - 31s 297ms/step - loss: 0.3840 - accuracy: 0.8798 - val_loss: 0.3241 - val_accuracy: 0.9239\n",
      "Epoch 3/100\n",
      "104/104 [==============================] - 31s 297ms/step - loss: 0.2959 - accuracy: 0.9034 - val_loss: 0.2377 - val_accuracy: 0.9293\n",
      "Epoch 4/100\n",
      "104/104 [==============================] - 31s 298ms/step - loss: 0.1959 - accuracy: 0.9342 - val_loss: 0.2371 - val_accuracy: 0.9212\n",
      "Epoch 5/100\n",
      "104/104 [==============================] - 31s 297ms/step - loss: 0.1710 - accuracy: 0.9402 - val_loss: 0.2090 - val_accuracy: 0.9348\n",
      "Epoch 6/100\n",
      "104/104 [==============================] - 31s 297ms/step - loss: 0.1529 - accuracy: 0.9469 - val_loss: 0.2384 - val_accuracy: 0.9375\n",
      "Epoch 7/100\n",
      "104/104 [==============================] - 31s 297ms/step - loss: 0.1241 - accuracy: 0.9574 - val_loss: 0.2157 - val_accuracy: 0.9321\n",
      "Epoch 8/100\n",
      "104/104 [==============================] - 31s 296ms/step - loss: 0.1097 - accuracy: 0.9617 - val_loss: 0.2136 - val_accuracy: 0.9348\n",
      "Epoch 9/100\n",
      "104/104 [==============================] - 31s 296ms/step - loss: 0.0996 - accuracy: 0.9632 - val_loss: 0.2174 - val_accuracy: 0.9402\n",
      "Epoch 10/100\n",
      "104/104 [==============================] - 31s 298ms/step - loss: 0.1029 - accuracy: 0.9665 - val_loss: 0.2040 - val_accuracy: 0.9375\n",
      "Epoch 11/100\n",
      "104/104 [==============================] - 31s 297ms/step - loss: 0.0853 - accuracy: 0.9710 - val_loss: 0.1912 - val_accuracy: 0.9402\n",
      "Epoch 12/100\n",
      "104/104 [==============================] - 31s 296ms/step - loss: 0.0709 - accuracy: 0.9740 - val_loss: 0.2127 - val_accuracy: 0.9402\n",
      "Epoch 13/100\n",
      "104/104 [==============================] - 31s 296ms/step - loss: 0.0806 - accuracy: 0.9695 - val_loss: 0.2059 - val_accuracy: 0.9429\n",
      "Epoch 14/100\n",
      "104/104 [==============================] - 31s 297ms/step - loss: 0.0805 - accuracy: 0.9746 - val_loss: 0.2294 - val_accuracy: 0.9375\n",
      "Epoch 15/100\n",
      "104/104 [==============================] - 31s 296ms/step - loss: 0.0829 - accuracy: 0.9755 - val_loss: 0.2289 - val_accuracy: 0.9348\n",
      "Epoch 16/100\n",
      "104/104 [==============================] - 31s 297ms/step - loss: 0.0672 - accuracy: 0.9740 - val_loss: 0.2318 - val_accuracy: 0.9348\n",
      "Epoch 1/100\n",
      "104/104 [==============================] - 43s 344ms/step - loss: 0.0846 - accuracy: 0.9668 - val_loss: 0.1671 - val_accuracy: 0.9484\n",
      "Epoch 2/100\n",
      "104/104 [==============================] - 34s 323ms/step - loss: 0.0685 - accuracy: 0.9768 - val_loss: 0.1814 - val_accuracy: 0.9457\n",
      "Epoch 3/100\n",
      "104/104 [==============================] - 34s 323ms/step - loss: 0.0642 - accuracy: 0.9761 - val_loss: 0.2038 - val_accuracy: 0.9375\n",
      "Epoch 4/100\n",
      "104/104 [==============================] - 34s 323ms/step - loss: 0.0466 - accuracy: 0.9825 - val_loss: 0.2177 - val_accuracy: 0.9429\n",
      "Epoch 5/100\n",
      "104/104 [==============================] - 34s 323ms/step - loss: 0.0401 - accuracy: 0.9843 - val_loss: 0.2168 - val_accuracy: 0.9457\n",
      "Epoch 6/100\n",
      "104/104 [==============================] - 34s 324ms/step - loss: 0.0363 - accuracy: 0.9870 - val_loss: 0.1956 - val_accuracy: 0.9457\n",
      "INFO:tensorflow:Assets written to: models\\oxford_iiit_pet\\effnetB3\\assets\n"
     ]
    },
    {
     "name": "stderr",
     "output_type": "stream",
     "text": [
      "INFO:tensorflow:Assets written to: models\\oxford_iiit_pet\\effnetB3\\assets\n"
     ]
    },
    {
     "data": {
      "text/plain": [
       "(<keras.callbacks.History at 0x1f7d3d87fa0>,\n",
       " <keras.callbacks.History at 0x1f86be10820>)"
      ]
     },
     "execution_count": 7,
     "metadata": {},
     "output_type": "execute_result"
    }
   ],
   "source": [
    "model_name = \"effnetB3\"\n",
    "dropout_rate = 0.55\n",
    "train_on_dataset(model_name, dataset_name, dropout_rate)"
   ]
  },
  {
   "cell_type": "code",
   "execution_count": 8,
   "id": "c491e034",
   "metadata": {
    "collapsed": true
   },
   "outputs": [
    {
     "name": "stdout",
     "output_type": "stream",
     "text": [
      "Epoch 1/100\n",
      "104/104 [==============================] - 17s 109ms/step - loss: 1.6118 - accuracy: 0.5854 - val_loss: 0.8362 - val_accuracy: 0.9049\n",
      "Epoch 2/100\n",
      "104/104 [==============================] - 8s 77ms/step - loss: 0.4239 - accuracy: 0.8662 - val_loss: 0.3616 - val_accuracy: 0.9130\n",
      "Epoch 3/100\n",
      "104/104 [==============================] - 8s 77ms/step - loss: 0.2739 - accuracy: 0.9067 - val_loss: 0.2667 - val_accuracy: 0.9130\n",
      "Epoch 4/100\n",
      "104/104 [==============================] - 8s 77ms/step - loss: 0.2190 - accuracy: 0.9266 - val_loss: 0.2423 - val_accuracy: 0.9239\n",
      "Epoch 5/100\n",
      "104/104 [==============================] - 8s 76ms/step - loss: 0.1658 - accuracy: 0.9378 - val_loss: 0.2487 - val_accuracy: 0.9103\n",
      "Epoch 6/100\n",
      "104/104 [==============================] - 8s 76ms/step - loss: 0.1462 - accuracy: 0.9472 - val_loss: 0.2486 - val_accuracy: 0.9212\n",
      "Epoch 7/100\n",
      "104/104 [==============================] - 8s 76ms/step - loss: 0.1357 - accuracy: 0.9523 - val_loss: 0.2532 - val_accuracy: 0.9158\n",
      "Epoch 8/100\n",
      "104/104 [==============================] - 8s 76ms/step - loss: 0.1119 - accuracy: 0.9632 - val_loss: 0.2509 - val_accuracy: 0.9239\n",
      "Epoch 9/100\n",
      "104/104 [==============================] - 8s 77ms/step - loss: 0.0973 - accuracy: 0.9635 - val_loss: 0.2377 - val_accuracy: 0.9212\n",
      "Epoch 10/100\n",
      "104/104 [==============================] - 8s 76ms/step - loss: 0.0820 - accuracy: 0.9722 - val_loss: 0.2539 - val_accuracy: 0.9239\n",
      "Epoch 11/100\n",
      "104/104 [==============================] - 8s 76ms/step - loss: 0.0766 - accuracy: 0.9722 - val_loss: 0.2416 - val_accuracy: 0.9321\n",
      "Epoch 12/100\n",
      "104/104 [==============================] - 8s 76ms/step - loss: 0.0635 - accuracy: 0.9795 - val_loss: 0.2640 - val_accuracy: 0.9293\n",
      "Epoch 13/100\n",
      "104/104 [==============================] - 8s 76ms/step - loss: 0.0678 - accuracy: 0.9752 - val_loss: 0.2619 - val_accuracy: 0.9293\n",
      "Epoch 14/100\n",
      "104/104 [==============================] - 8s 77ms/step - loss: 0.0634 - accuracy: 0.9804 - val_loss: 0.2837 - val_accuracy: 0.9239\n",
      "Epoch 1/100\n",
      "104/104 [==============================] - 15s 99ms/step - loss: 0.0797 - accuracy: 0.9731 - val_loss: 0.2437 - val_accuracy: 0.9266\n",
      "Epoch 2/100\n",
      "104/104 [==============================] - 9s 87ms/step - loss: 0.0590 - accuracy: 0.9810 - val_loss: 0.2397 - val_accuracy: 0.9239\n",
      "Epoch 3/100\n",
      "104/104 [==============================] - 9s 87ms/step - loss: 0.0499 - accuracy: 0.9813 - val_loss: 0.2375 - val_accuracy: 0.9185\n",
      "Epoch 4/100\n",
      "104/104 [==============================] - 9s 86ms/step - loss: 0.0442 - accuracy: 0.9861 - val_loss: 0.2388 - val_accuracy: 0.9212\n",
      "Epoch 5/100\n",
      "104/104 [==============================] - 9s 86ms/step - loss: 0.0371 - accuracy: 0.9903 - val_loss: 0.2374 - val_accuracy: 0.9212\n",
      "Epoch 6/100\n",
      "104/104 [==============================] - 9s 86ms/step - loss: 0.0324 - accuracy: 0.9879 - val_loss: 0.2525 - val_accuracy: 0.9185\n",
      "Epoch 7/100\n",
      "104/104 [==============================] - 9s 86ms/step - loss: 0.0256 - accuracy: 0.9928 - val_loss: 0.2449 - val_accuracy: 0.9239\n",
      "Epoch 8/100\n",
      "104/104 [==============================] - 9s 85ms/step - loss: 0.0250 - accuracy: 0.9909 - val_loss: 0.2502 - val_accuracy: 0.9212\n",
      "Epoch 9/100\n",
      "104/104 [==============================] - 9s 86ms/step - loss: 0.0189 - accuracy: 0.9946 - val_loss: 0.2618 - val_accuracy: 0.9185\n",
      "Epoch 10/100\n",
      "104/104 [==============================] - 9s 86ms/step - loss: 0.0189 - accuracy: 0.9949 - val_loss: 0.2343 - val_accuracy: 0.9321\n",
      "Epoch 11/100\n",
      "104/104 [==============================] - 9s 86ms/step - loss: 0.0168 - accuracy: 0.9946 - val_loss: 0.2434 - val_accuracy: 0.9293\n",
      "Epoch 12/100\n",
      "104/104 [==============================] - 9s 86ms/step - loss: 0.0154 - accuracy: 0.9967 - val_loss: 0.2414 - val_accuracy: 0.9293\n",
      "Epoch 13/100\n",
      "104/104 [==============================] - 9s 86ms/step - loss: 0.0110 - accuracy: 0.9976 - val_loss: 0.2462 - val_accuracy: 0.9266\n",
      "Epoch 14/100\n",
      "104/104 [==============================] - 9s 86ms/step - loss: 0.0124 - accuracy: 0.9973 - val_loss: 0.2496 - val_accuracy: 0.9239\n",
      "Epoch 15/100\n",
      "104/104 [==============================] - 9s 87ms/step - loss: 0.0120 - accuracy: 0.9970 - val_loss: 0.2540 - val_accuracy: 0.9293\n",
      "INFO:tensorflow:Assets written to: models\\oxford_iiit_pet\\effnetv2B0\\assets\n"
     ]
    },
    {
     "name": "stderr",
     "output_type": "stream",
     "text": [
      "INFO:tensorflow:Assets written to: models\\oxford_iiit_pet\\effnetv2B0\\assets\n"
     ]
    },
    {
     "data": {
      "text/plain": [
       "(<keras.callbacks.History at 0x1f865a24ee0>,\n",
       " <keras.callbacks.History at 0x1f8a65911f0>)"
      ]
     },
     "execution_count": 8,
     "metadata": {},
     "output_type": "execute_result"
    }
   ],
   "source": [
    "model_name = \"effnetv2B0\"\n",
    "dropout_rate = 0.55\n",
    "train_on_dataset(model_name, dataset_name, dropout_rate)"
   ]
  },
  {
   "cell_type": "code",
   "execution_count": 9,
   "id": "db0fe9ff",
   "metadata": {
    "collapsed": true
   },
   "outputs": [
    {
     "name": "stdout",
     "output_type": "stream",
     "text": [
      "Epoch 1/100\n",
      "104/104 [==============================] - 21s 131ms/step - loss: 1.4938 - accuracy: 0.6114 - val_loss: 0.8097 - val_accuracy: 0.8940\n",
      "Epoch 2/100\n",
      "104/104 [==============================] - 12s 113ms/step - loss: 0.4052 - accuracy: 0.8659 - val_loss: 0.3213 - val_accuracy: 0.9293\n",
      "Epoch 3/100\n",
      "104/104 [==============================] - 12s 113ms/step - loss: 0.2660 - accuracy: 0.9094 - val_loss: 0.2349 - val_accuracy: 0.9212\n",
      "Epoch 4/100\n",
      "104/104 [==============================] - 12s 113ms/step - loss: 0.1999 - accuracy: 0.9287 - val_loss: 0.2123 - val_accuracy: 0.9266\n",
      "Epoch 5/100\n",
      "104/104 [==============================] - 12s 113ms/step - loss: 0.1651 - accuracy: 0.9444 - val_loss: 0.2089 - val_accuracy: 0.9239\n",
      "Epoch 6/100\n",
      "104/104 [==============================] - 12s 112ms/step - loss: 0.1452 - accuracy: 0.9432 - val_loss: 0.2135 - val_accuracy: 0.9212\n",
      "Epoch 7/100\n",
      "104/104 [==============================] - 12s 112ms/step - loss: 0.1149 - accuracy: 0.9604 - val_loss: 0.2256 - val_accuracy: 0.9321\n",
      "Epoch 8/100\n",
      "104/104 [==============================] - 12s 113ms/step - loss: 0.1034 - accuracy: 0.9614 - val_loss: 0.2040 - val_accuracy: 0.9375\n",
      "Epoch 9/100\n",
      "104/104 [==============================] - 12s 112ms/step - loss: 0.0810 - accuracy: 0.9707 - val_loss: 0.2209 - val_accuracy: 0.9293\n",
      "Epoch 10/100\n",
      "104/104 [==============================] - 12s 112ms/step - loss: 0.0842 - accuracy: 0.9713 - val_loss: 0.2146 - val_accuracy: 0.9321\n",
      "Epoch 11/100\n",
      "104/104 [==============================] - 12s 112ms/step - loss: 0.0812 - accuracy: 0.9701 - val_loss: 0.2271 - val_accuracy: 0.9212\n",
      "Epoch 12/100\n",
      "104/104 [==============================] - 12s 112ms/step - loss: 0.0723 - accuracy: 0.9710 - val_loss: 0.2179 - val_accuracy: 0.9375\n",
      "Epoch 13/100\n",
      "104/104 [==============================] - 12s 113ms/step - loss: 0.0671 - accuracy: 0.9740 - val_loss: 0.2278 - val_accuracy: 0.9266\n",
      "Epoch 1/100\n",
      "104/104 [==============================] - 22s 139ms/step - loss: 0.0887 - accuracy: 0.9698 - val_loss: 0.2240 - val_accuracy: 0.9266\n",
      "Epoch 2/100\n",
      "104/104 [==============================] - 13s 122ms/step - loss: 0.0655 - accuracy: 0.9755 - val_loss: 0.2251 - val_accuracy: 0.9321\n",
      "Epoch 3/100\n",
      "104/104 [==============================] - 13s 123ms/step - loss: 0.0530 - accuracy: 0.9825 - val_loss: 0.2106 - val_accuracy: 0.9375\n",
      "Epoch 4/100\n",
      "104/104 [==============================] - 13s 122ms/step - loss: 0.0470 - accuracy: 0.9846 - val_loss: 0.2215 - val_accuracy: 0.9293\n",
      "Epoch 5/100\n",
      "104/104 [==============================] - 13s 123ms/step - loss: 0.0360 - accuracy: 0.9894 - val_loss: 0.2032 - val_accuracy: 0.9375\n",
      "Epoch 6/100\n",
      "104/104 [==============================] - 13s 122ms/step - loss: 0.0406 - accuracy: 0.9858 - val_loss: 0.2244 - val_accuracy: 0.9402\n",
      "Epoch 7/100\n",
      "104/104 [==============================] - 13s 122ms/step - loss: 0.0387 - accuracy: 0.9879 - val_loss: 0.2064 - val_accuracy: 0.9402\n",
      "Epoch 8/100\n",
      "104/104 [==============================] - 13s 123ms/step - loss: 0.0259 - accuracy: 0.9903 - val_loss: 0.2200 - val_accuracy: 0.9402\n",
      "Epoch 9/100\n",
      "104/104 [==============================] - 13s 122ms/step - loss: 0.0239 - accuracy: 0.9921 - val_loss: 0.2161 - val_accuracy: 0.9402\n",
      "Epoch 10/100\n",
      "104/104 [==============================] - 13s 124ms/step - loss: 0.0176 - accuracy: 0.9961 - val_loss: 0.2223 - val_accuracy: 0.9402\n",
      "INFO:tensorflow:Assets written to: models\\oxford_iiit_pet\\effnetv2B1\\assets\n"
     ]
    },
    {
     "name": "stderr",
     "output_type": "stream",
     "text": [
      "INFO:tensorflow:Assets written to: models\\oxford_iiit_pet\\effnetv2B1\\assets\n"
     ]
    },
    {
     "data": {
      "text/plain": [
       "(<keras.callbacks.History at 0x1f8a3dca2e0>,\n",
       " <keras.callbacks.History at 0x1f8283a58e0>)"
      ]
     },
     "execution_count": 9,
     "metadata": {},
     "output_type": "execute_result"
    }
   ],
   "source": [
    "model_name = \"effnetv2B1\"\n",
    "dropout_rate = 0.55\n",
    "train_on_dataset(model_name, dataset_name, dropout_rate)"
   ]
  },
  {
   "cell_type": "code",
   "execution_count": 10,
   "id": "800e0be3",
   "metadata": {
    "collapsed": true
   },
   "outputs": [
    {
     "name": "stdout",
     "output_type": "stream",
     "text": [
      "Epoch 1/100\n",
      "104/104 [==============================] - 24s 158ms/step - loss: 1.1015 - accuracy: 0.6984 - val_loss: 0.8028 - val_accuracy: 0.9239\n",
      "Epoch 2/100\n",
      "104/104 [==============================] - 15s 137ms/step - loss: 0.2919 - accuracy: 0.9010 - val_loss: 0.3169 - val_accuracy: 0.9293\n",
      "Epoch 3/100\n",
      "104/104 [==============================] - 15s 137ms/step - loss: 0.2055 - accuracy: 0.9281 - val_loss: 0.2139 - val_accuracy: 0.9402\n",
      "Epoch 4/100\n",
      "104/104 [==============================] - 15s 137ms/step - loss: 0.1355 - accuracy: 0.9505 - val_loss: 0.2046 - val_accuracy: 0.9457\n",
      "Epoch 5/100\n",
      "104/104 [==============================] - 15s 137ms/step - loss: 0.1049 - accuracy: 0.9674 - val_loss: 0.1975 - val_accuracy: 0.9402\n",
      "Epoch 6/100\n",
      "104/104 [==============================] - 14s 136ms/step - loss: 0.0900 - accuracy: 0.9710 - val_loss: 0.2016 - val_accuracy: 0.9429\n",
      "Epoch 7/100\n",
      "104/104 [==============================] - 15s 137ms/step - loss: 0.0706 - accuracy: 0.9783 - val_loss: 0.1962 - val_accuracy: 0.9484\n",
      "Epoch 8/100\n",
      "104/104 [==============================] - 14s 136ms/step - loss: 0.0592 - accuracy: 0.9825 - val_loss: 0.2116 - val_accuracy: 0.9375\n",
      "Epoch 9/100\n",
      "104/104 [==============================] - 15s 137ms/step - loss: 0.0580 - accuracy: 0.9801 - val_loss: 0.2189 - val_accuracy: 0.9484\n",
      "Epoch 10/100\n",
      "104/104 [==============================] - 15s 137ms/step - loss: 0.0512 - accuracy: 0.9828 - val_loss: 0.1981 - val_accuracy: 0.9511\n",
      "Epoch 11/100\n",
      "104/104 [==============================] - 15s 136ms/step - loss: 0.0415 - accuracy: 0.9885 - val_loss: 0.2347 - val_accuracy: 0.9429\n",
      "Epoch 12/100\n",
      "104/104 [==============================] - 15s 138ms/step - loss: 0.0451 - accuracy: 0.9837 - val_loss: 0.2251 - val_accuracy: 0.9484\n",
      "Epoch 1/100\n",
      "104/104 [==============================] - 23s 168ms/step - loss: 0.0622 - accuracy: 0.9783 - val_loss: 0.1998 - val_accuracy: 0.9538\n",
      "Epoch 2/100\n",
      "104/104 [==============================] - 16s 152ms/step - loss: 0.0436 - accuracy: 0.9864 - val_loss: 0.2121 - val_accuracy: 0.9429\n",
      "Epoch 3/100\n",
      "104/104 [==============================] - 16s 151ms/step - loss: 0.0321 - accuracy: 0.9903 - val_loss: 0.2156 - val_accuracy: 0.9511\n",
      "Epoch 4/100\n",
      "104/104 [==============================] - 16s 152ms/step - loss: 0.0279 - accuracy: 0.9912 - val_loss: 0.2013 - val_accuracy: 0.9429\n",
      "Epoch 5/100\n",
      "104/104 [==============================] - 16s 152ms/step - loss: 0.0240 - accuracy: 0.9931 - val_loss: 0.2015 - val_accuracy: 0.9565\n",
      "Epoch 6/100\n",
      "104/104 [==============================] - 16s 153ms/step - loss: 0.0181 - accuracy: 0.9952 - val_loss: 0.2179 - val_accuracy: 0.9511\n",
      "INFO:tensorflow:Assets written to: models\\oxford_iiit_pet\\effnetv2B2\\assets\n"
     ]
    },
    {
     "name": "stderr",
     "output_type": "stream",
     "text": [
      "INFO:tensorflow:Assets written to: models\\oxford_iiit_pet\\effnetv2B2\\assets\n"
     ]
    },
    {
     "data": {
      "text/plain": [
       "(<keras.callbacks.History at 0x1f8a3e61c10>,\n",
       " <keras.callbacks.History at 0x1f8c8f05a30>)"
      ]
     },
     "execution_count": 10,
     "metadata": {},
     "output_type": "execute_result"
    }
   ],
   "source": [
    "model_name = \"effnetv2B2\"\n",
    "dropout_rate = 0.45\n",
    "train_on_dataset(model_name, dataset_name, dropout_rate)"
   ]
  },
  {
   "cell_type": "code",
   "execution_count": 11,
   "id": "8ce3f1da",
   "metadata": {
    "collapsed": true
   },
   "outputs": [
    {
     "name": "stdout",
     "output_type": "stream",
     "text": [
      "Epoch 1/100\n",
      "104/104 [==============================] - 35s 252ms/step - loss: 0.7988 - accuracy: 0.7820 - val_loss: 0.7543 - val_accuracy: 0.9049\n",
      "Epoch 2/100\n",
      "104/104 [==============================] - 24s 225ms/step - loss: 0.1680 - accuracy: 0.9432 - val_loss: 0.3221 - val_accuracy: 0.9130\n",
      "Epoch 3/100\n",
      "104/104 [==============================] - 24s 226ms/step - loss: 0.0900 - accuracy: 0.9731 - val_loss: 0.2592 - val_accuracy: 0.9212\n",
      "Epoch 4/100\n",
      "104/104 [==============================] - 24s 226ms/step - loss: 0.0713 - accuracy: 0.9774 - val_loss: 0.2527 - val_accuracy: 0.9212\n",
      "Epoch 5/100\n",
      "104/104 [==============================] - 24s 226ms/step - loss: 0.0492 - accuracy: 0.9834 - val_loss: 0.2501 - val_accuracy: 0.9239\n",
      "Epoch 6/100\n",
      "104/104 [==============================] - 24s 224ms/step - loss: 0.0400 - accuracy: 0.9882 - val_loss: 0.2532 - val_accuracy: 0.9266\n",
      "Epoch 7/100\n",
      "104/104 [==============================] - 24s 225ms/step - loss: 0.0254 - accuracy: 0.9955 - val_loss: 0.2626 - val_accuracy: 0.9375\n",
      "Epoch 8/100\n",
      "104/104 [==============================] - 24s 225ms/step - loss: 0.0201 - accuracy: 0.9970 - val_loss: 0.2814 - val_accuracy: 0.9266\n",
      "Epoch 9/100\n",
      "104/104 [==============================] - 24s 225ms/step - loss: 0.0186 - accuracy: 0.9976 - val_loss: 0.3004 - val_accuracy: 0.9321\n",
      "Epoch 10/100\n",
      "104/104 [==============================] - 24s 226ms/step - loss: 0.0153 - accuracy: 0.9964 - val_loss: 0.2732 - val_accuracy: 0.9266\n",
      "Epoch 1/100\n",
      "104/104 [==============================] - 35s 266ms/step - loss: 0.0331 - accuracy: 0.9915 - val_loss: 0.2824 - val_accuracy: 0.9103\n",
      "Epoch 2/100\n",
      "104/104 [==============================] - 26s 245ms/step - loss: 0.0172 - accuracy: 0.9982 - val_loss: 0.2539 - val_accuracy: 0.9321\n",
      "Epoch 3/100\n",
      "104/104 [==============================] - 26s 245ms/step - loss: 0.0141 - accuracy: 0.9976 - val_loss: 0.2491 - val_accuracy: 0.9429\n",
      "Epoch 4/100\n",
      "104/104 [==============================] - 26s 244ms/step - loss: 0.0086 - accuracy: 0.9997 - val_loss: 0.2611 - val_accuracy: 0.9293\n",
      "Epoch 5/100\n",
      "104/104 [==============================] - 26s 244ms/step - loss: 0.0058 - accuracy: 1.0000 - val_loss: 0.2582 - val_accuracy: 0.9293\n",
      "Epoch 6/100\n",
      "104/104 [==============================] - 26s 244ms/step - loss: 0.0047 - accuracy: 0.9997 - val_loss: 0.2511 - val_accuracy: 0.9429\n",
      "Epoch 7/100\n",
      "104/104 [==============================] - 26s 244ms/step - loss: 0.0032 - accuracy: 1.0000 - val_loss: 0.2717 - val_accuracy: 0.9321\n",
      "Epoch 8/100\n",
      "104/104 [==============================] - 26s 245ms/step - loss: 0.0028 - accuracy: 0.9997 - val_loss: 0.2592 - val_accuracy: 0.9429\n",
      "INFO:tensorflow:Assets written to: models\\oxford_iiit_pet\\effnetv2B3\\assets\n"
     ]
    },
    {
     "name": "stderr",
     "output_type": "stream",
     "text": [
      "INFO:tensorflow:Assets written to: models\\oxford_iiit_pet\\effnetv2B3\\assets\n"
     ]
    },
    {
     "data": {
      "text/plain": [
       "(<keras.callbacks.History at 0x1f8def64f40>,\n",
       " <keras.callbacks.History at 0x1f8fbe79b80>)"
      ]
     },
     "execution_count": 11,
     "metadata": {},
     "output_type": "execute_result"
    }
   ],
   "source": [
    "model_name = \"effnetv2B3\"\n",
    "dropout_rate = 0.2\n",
    "train_on_dataset(model_name, dataset_name, dropout_rate)"
   ]
  },
  {
   "cell_type": "code",
   "execution_count": 12,
   "id": "b11f1737",
   "metadata": {
    "collapsed": true
   },
   "outputs": [
    {
     "name": "stdout",
     "output_type": "stream",
     "text": [
      "Epoch 1/100\n",
      "104/104 [==============================] - 24s 156ms/step - loss: 1.7174 - accuracy: 0.5423 - val_loss: 0.8062 - val_accuracy: 0.8207\n",
      "Epoch 2/100\n",
      "104/104 [==============================] - 14s 127ms/step - loss: 0.4848 - accuracy: 0.8738 - val_loss: 0.4977 - val_accuracy: 0.8750\n",
      "Epoch 3/100\n",
      "104/104 [==============================] - 14s 128ms/step - loss: 0.3171 - accuracy: 0.9073 - val_loss: 0.3919 - val_accuracy: 0.8886\n",
      "Epoch 4/100\n",
      "104/104 [==============================] - 14s 128ms/step - loss: 0.2283 - accuracy: 0.9408 - val_loss: 0.3483 - val_accuracy: 0.8804\n",
      "Epoch 5/100\n",
      "104/104 [==============================] - 14s 128ms/step - loss: 0.1866 - accuracy: 0.9484 - val_loss: 0.3158 - val_accuracy: 0.8967\n",
      "Epoch 6/100\n",
      "104/104 [==============================] - 14s 128ms/step - loss: 0.1524 - accuracy: 0.9568 - val_loss: 0.3094 - val_accuracy: 0.9022\n",
      "Epoch 7/100\n",
      "104/104 [==============================] - 14s 128ms/step - loss: 0.1194 - accuracy: 0.9722 - val_loss: 0.3045 - val_accuracy: 0.9022\n",
      "Epoch 8/100\n",
      "104/104 [==============================] - 14s 128ms/step - loss: 0.1144 - accuracy: 0.9689 - val_loss: 0.2806 - val_accuracy: 0.9076\n",
      "Epoch 9/100\n",
      "104/104 [==============================] - 14s 126ms/step - loss: 0.0956 - accuracy: 0.9761 - val_loss: 0.2882 - val_accuracy: 0.9076\n",
      "Epoch 10/100\n",
      "104/104 [==============================] - 14s 126ms/step - loss: 0.0820 - accuracy: 0.9780 - val_loss: 0.2918 - val_accuracy: 0.8967\n",
      "Epoch 11/100\n",
      "104/104 [==============================] - 14s 126ms/step - loss: 0.0722 - accuracy: 0.9861 - val_loss: 0.2861 - val_accuracy: 0.9049\n",
      "Epoch 12/100\n",
      "104/104 [==============================] - 14s 127ms/step - loss: 0.0728 - accuracy: 0.9840 - val_loss: 0.2926 - val_accuracy: 0.9103\n",
      "Epoch 13/100\n",
      "104/104 [==============================] - 14s 127ms/step - loss: 0.0569 - accuracy: 0.9885 - val_loss: 0.2912 - val_accuracy: 0.9185\n",
      "Epoch 1/100\n",
      "104/104 [==============================] - 20s 147ms/step - loss: 0.0900 - accuracy: 0.9789 - val_loss: 0.2821 - val_accuracy: 0.9049\n",
      "Epoch 2/100\n",
      "104/104 [==============================] - 14s 130ms/step - loss: 0.0817 - accuracy: 0.9834 - val_loss: 0.2832 - val_accuracy: 0.9076\n",
      "Epoch 3/100\n",
      "104/104 [==============================] - 14s 131ms/step - loss: 0.0763 - accuracy: 0.9843 - val_loss: 0.2769 - val_accuracy: 0.9130\n",
      "Epoch 4/100\n",
      "104/104 [==============================] - 14s 131ms/step - loss: 0.0614 - accuracy: 0.9918 - val_loss: 0.2704 - val_accuracy: 0.9158\n",
      "Epoch 5/100\n",
      "104/104 [==============================] - 14s 129ms/step - loss: 0.0561 - accuracy: 0.9912 - val_loss: 0.2863 - val_accuracy: 0.9103\n",
      "Epoch 6/100\n",
      "104/104 [==============================] - 14s 130ms/step - loss: 0.0491 - accuracy: 0.9946 - val_loss: 0.2718 - val_accuracy: 0.9185\n",
      "Epoch 7/100\n",
      "104/104 [==============================] - 14s 130ms/step - loss: 0.0468 - accuracy: 0.9921 - val_loss: 0.2710 - val_accuracy: 0.9158\n",
      "Epoch 8/100\n",
      "104/104 [==============================] - 14s 130ms/step - loss: 0.0399 - accuracy: 0.9970 - val_loss: 0.2715 - val_accuracy: 0.9185\n",
      "Epoch 9/100\n",
      "104/104 [==============================] - 14s 131ms/step - loss: 0.0388 - accuracy: 0.9964 - val_loss: 0.2642 - val_accuracy: 0.9212\n",
      "Epoch 10/100\n",
      "104/104 [==============================] - 14s 129ms/step - loss: 0.0339 - accuracy: 0.9958 - val_loss: 0.2763 - val_accuracy: 0.9103\n",
      "Epoch 11/100\n",
      "104/104 [==============================] - 14s 130ms/step - loss: 0.0319 - accuracy: 0.9970 - val_loss: 0.2839 - val_accuracy: 0.9130\n",
      "Epoch 12/100\n",
      "104/104 [==============================] - 14s 132ms/step - loss: 0.0286 - accuracy: 0.9973 - val_loss: 0.2594 - val_accuracy: 0.9239\n",
      "Epoch 13/100\n",
      "104/104 [==============================] - 14s 129ms/step - loss: 0.0253 - accuracy: 0.9994 - val_loss: 0.2706 - val_accuracy: 0.9185\n",
      "Epoch 14/100\n",
      "104/104 [==============================] - 14s 129ms/step - loss: 0.0226 - accuracy: 0.9988 - val_loss: 0.2875 - val_accuracy: 0.9158\n",
      "Epoch 15/100\n",
      "104/104 [==============================] - 14s 129ms/step - loss: 0.0247 - accuracy: 0.9979 - val_loss: 0.2840 - val_accuracy: 0.9130\n",
      "Epoch 16/100\n",
      "104/104 [==============================] - 14s 129ms/step - loss: 0.0205 - accuracy: 0.9988 - val_loss: 0.2721 - val_accuracy: 0.9212\n",
      "Epoch 17/100\n",
      "104/104 [==============================] - 14s 131ms/step - loss: 0.0188 - accuracy: 0.9994 - val_loss: 0.2752 - val_accuracy: 0.9158\n",
      "INFO:tensorflow:Assets written to: models\\oxford_iiit_pet\\densenet121\\assets\n"
     ]
    },
    {
     "name": "stderr",
     "output_type": "stream",
     "text": [
      "INFO:tensorflow:Assets written to: models\\oxford_iiit_pet\\densenet121\\assets\n"
     ]
    },
    {
     "data": {
      "text/plain": [
       "(<keras.callbacks.History at 0x1f944b6c7f0>,\n",
       " <keras.callbacks.History at 0x1f8592ee550>)"
      ]
     },
     "execution_count": 12,
     "metadata": {},
     "output_type": "execute_result"
    }
   ],
   "source": [
    "model_name = \"densenet121\"\n",
    "dropout_rate = 0.3\n",
    "train_on_dataset(model_name, dataset_name, dropout_rate)"
   ]
  },
  {
   "cell_type": "code",
   "execution_count": 13,
   "id": "126ec3ce",
   "metadata": {
    "collapsed": true
   },
   "outputs": [
    {
     "name": "stdout",
     "output_type": "stream",
     "text": [
      "Epoch 1/100\n",
      "104/104 [==============================] - 28s 181ms/step - loss: 1.3749 - accuracy: 0.6377 - val_loss: 0.6222 - val_accuracy: 0.8668\n",
      "Epoch 2/100\n",
      "104/104 [==============================] - 16s 153ms/step - loss: 0.3261 - accuracy: 0.9139 - val_loss: 0.3679 - val_accuracy: 0.8995\n",
      "Epoch 3/100\n",
      "104/104 [==============================] - 16s 153ms/step - loss: 0.1857 - accuracy: 0.9556 - val_loss: 0.2943 - val_accuracy: 0.9212\n",
      "Epoch 4/100\n",
      "104/104 [==============================] - 16s 153ms/step - loss: 0.1265 - accuracy: 0.9789 - val_loss: 0.2587 - val_accuracy: 0.9266\n",
      "Epoch 5/100\n",
      "104/104 [==============================] - 16s 153ms/step - loss: 0.0925 - accuracy: 0.9816 - val_loss: 0.2446 - val_accuracy: 0.9212\n",
      "Epoch 6/100\n",
      "104/104 [==============================] - 16s 153ms/step - loss: 0.0739 - accuracy: 0.9906 - val_loss: 0.2388 - val_accuracy: 0.9266\n",
      "Epoch 7/100\n",
      "104/104 [==============================] - 16s 151ms/step - loss: 0.0573 - accuracy: 0.9921 - val_loss: 0.2393 - val_accuracy: 0.9239\n",
      "Epoch 8/100\n",
      "104/104 [==============================] - 16s 153ms/step - loss: 0.0459 - accuracy: 0.9952 - val_loss: 0.2350 - val_accuracy: 0.9212\n",
      "Epoch 9/100\n",
      "104/104 [==============================] - 16s 153ms/step - loss: 0.0400 - accuracy: 0.9964 - val_loss: 0.2320 - val_accuracy: 0.9212\n",
      "Epoch 10/100\n",
      "104/104 [==============================] - 16s 151ms/step - loss: 0.0336 - accuracy: 0.9967 - val_loss: 0.2333 - val_accuracy: 0.9212\n",
      "Epoch 11/100\n",
      "104/104 [==============================] - 16s 153ms/step - loss: 0.0295 - accuracy: 0.9979 - val_loss: 0.2292 - val_accuracy: 0.9185\n",
      "Epoch 12/100\n",
      "104/104 [==============================] - 16s 151ms/step - loss: 0.0247 - accuracy: 0.9985 - val_loss: 0.2302 - val_accuracy: 0.9130\n",
      "Epoch 13/100\n",
      "104/104 [==============================] - 16s 151ms/step - loss: 0.0221 - accuracy: 0.9985 - val_loss: 0.2361 - val_accuracy: 0.9212\n",
      "Epoch 14/100\n",
      "104/104 [==============================] - 16s 151ms/step - loss: 0.0202 - accuracy: 0.9991 - val_loss: 0.2378 - val_accuracy: 0.9185\n",
      "Epoch 15/100\n",
      "104/104 [==============================] - 16s 151ms/step - loss: 0.0189 - accuracy: 0.9991 - val_loss: 0.2386 - val_accuracy: 0.9212\n",
      "Epoch 16/100\n",
      "104/104 [==============================] - 16s 153ms/step - loss: 0.0154 - accuracy: 0.9997 - val_loss: 0.2357 - val_accuracy: 0.9212\n",
      "Epoch 1/100\n",
      "104/104 [==============================] - 26s 187ms/step - loss: 0.0248 - accuracy: 0.9979 - val_loss: 0.2423 - val_accuracy: 0.9266\n",
      "Epoch 2/100\n",
      "104/104 [==============================] - 18s 165ms/step - loss: 0.0212 - accuracy: 0.9994 - val_loss: 0.2289 - val_accuracy: 0.9185\n",
      "Epoch 3/100\n",
      "104/104 [==============================] - 18s 165ms/step - loss: 0.0173 - accuracy: 0.9994 - val_loss: 0.2277 - val_accuracy: 0.9266\n",
      "Epoch 4/100\n",
      "104/104 [==============================] - 18s 165ms/step - loss: 0.0155 - accuracy: 0.9994 - val_loss: 0.2263 - val_accuracy: 0.9239\n",
      "Epoch 5/100\n",
      "104/104 [==============================] - 17s 162ms/step - loss: 0.0134 - accuracy: 1.0000 - val_loss: 0.2292 - val_accuracy: 0.9212\n",
      "Epoch 6/100\n",
      "104/104 [==============================] - 17s 163ms/step - loss: 0.0127 - accuracy: 0.9994 - val_loss: 0.2321 - val_accuracy: 0.9266\n",
      "Epoch 7/100\n",
      "104/104 [==============================] - 17s 162ms/step - loss: 0.0111 - accuracy: 0.9994 - val_loss: 0.2276 - val_accuracy: 0.9293\n",
      "Epoch 8/100\n",
      "104/104 [==============================] - 18s 165ms/step - loss: 0.0100 - accuracy: 0.9997 - val_loss: 0.2252 - val_accuracy: 0.9321\n",
      "Epoch 9/100\n",
      "104/104 [==============================] - 18s 164ms/step - loss: 0.0091 - accuracy: 1.0000 - val_loss: 0.2212 - val_accuracy: 0.9293\n",
      "Epoch 10/100\n",
      "104/104 [==============================] - 17s 162ms/step - loss: 0.0083 - accuracy: 1.0000 - val_loss: 0.2248 - val_accuracy: 0.9266\n",
      "Epoch 11/100\n",
      "104/104 [==============================] - 18s 165ms/step - loss: 0.0070 - accuracy: 1.0000 - val_loss: 0.2208 - val_accuracy: 0.9293\n",
      "Epoch 12/100\n",
      "104/104 [==============================] - 17s 163ms/step - loss: 0.0067 - accuracy: 0.9997 - val_loss: 0.2285 - val_accuracy: 0.9239\n",
      "Epoch 13/100\n",
      "104/104 [==============================] - 17s 162ms/step - loss: 0.0054 - accuracy: 1.0000 - val_loss: 0.2375 - val_accuracy: 0.9266\n",
      "Epoch 14/100\n",
      "104/104 [==============================] - 17s 163ms/step - loss: 0.0047 - accuracy: 1.0000 - val_loss: 0.2332 - val_accuracy: 0.9239\n",
      "Epoch 15/100\n",
      "104/104 [==============================] - 17s 163ms/step - loss: 0.0045 - accuracy: 1.0000 - val_loss: 0.2295 - val_accuracy: 0.9266\n",
      "Epoch 16/100\n",
      "104/104 [==============================] - 18s 165ms/step - loss: 0.0041 - accuracy: 1.0000 - val_loss: 0.2192 - val_accuracy: 0.9293\n",
      "Epoch 17/100\n",
      "104/104 [==============================] - 17s 162ms/step - loss: 0.0039 - accuracy: 1.0000 - val_loss: 0.2273 - val_accuracy: 0.9239\n",
      "Epoch 18/100\n",
      "104/104 [==============================] - 17s 163ms/step - loss: 0.0037 - accuracy: 1.0000 - val_loss: 0.2279 - val_accuracy: 0.9239\n",
      "Epoch 19/100\n",
      "104/104 [==============================] - 17s 163ms/step - loss: 0.0031 - accuracy: 1.0000 - val_loss: 0.2245 - val_accuracy: 0.9321\n",
      "Epoch 20/100\n",
      "104/104 [==============================] - 17s 163ms/step - loss: 0.0033 - accuracy: 1.0000 - val_loss: 0.2368 - val_accuracy: 0.9212\n",
      "Epoch 21/100\n",
      "104/104 [==============================] - 18s 165ms/step - loss: 0.0023 - accuracy: 1.0000 - val_loss: 0.2280 - val_accuracy: 0.9266\n",
      "INFO:tensorflow:Assets written to: models\\oxford_iiit_pet\\densenet169\\assets\n"
     ]
    },
    {
     "name": "stderr",
     "output_type": "stream",
     "text": [
      "INFO:tensorflow:Assets written to: models\\oxford_iiit_pet\\densenet169\\assets\n"
     ]
    },
    {
     "data": {
      "text/plain": [
       "(<keras.callbacks.History at 0x1f933288730>,\n",
       " <keras.callbacks.History at 0x1f93e35c550>)"
      ]
     },
     "execution_count": 13,
     "metadata": {},
     "output_type": "execute_result"
    }
   ],
   "source": [
    "model_name = \"densenet169\"\n",
    "dropout_rate = 0.2\n",
    "train_on_dataset(model_name, dataset_name, dropout_rate)"
   ]
  },
  {
   "cell_type": "code",
   "execution_count": 14,
   "id": "d7bc2da6",
   "metadata": {
    "collapsed": true
   },
   "outputs": [
    {
     "name": "stdout",
     "output_type": "stream",
     "text": [
      "Epoch 1/100\n",
      "104/104 [==============================] - 31s 237ms/step - loss: 2.3469 - accuracy: 0.4399 - val_loss: 0.5713 - val_accuracy: 0.8451\n",
      "Epoch 2/100\n",
      "104/104 [==============================] - 23s 217ms/step - loss: 0.7538 - accuracy: 0.7745 - val_loss: 0.4153 - val_accuracy: 0.8832\n",
      "Epoch 3/100\n",
      "104/104 [==============================] - 23s 217ms/step - loss: 0.4888 - accuracy: 0.8424 - val_loss: 0.3823 - val_accuracy: 0.8777\n",
      "Epoch 4/100\n",
      "104/104 [==============================] - 23s 217ms/step - loss: 0.3934 - accuracy: 0.8729 - val_loss: 0.3607 - val_accuracy: 0.8859\n",
      "Epoch 5/100\n",
      "104/104 [==============================] - 23s 218ms/step - loss: 0.3381 - accuracy: 0.8844 - val_loss: 0.3573 - val_accuracy: 0.8859\n",
      "Epoch 6/100\n",
      "104/104 [==============================] - 23s 216ms/step - loss: 0.2687 - accuracy: 0.9091 - val_loss: 0.3698 - val_accuracy: 0.8832\n",
      "Epoch 7/100\n",
      "104/104 [==============================] - 23s 218ms/step - loss: 0.2253 - accuracy: 0.9221 - val_loss: 0.3566 - val_accuracy: 0.8913\n",
      "Epoch 8/100\n",
      "104/104 [==============================] - 23s 217ms/step - loss: 0.2418 - accuracy: 0.9227 - val_loss: 0.3468 - val_accuracy: 0.8886\n",
      "Epoch 9/100\n",
      "104/104 [==============================] - 23s 218ms/step - loss: 0.1792 - accuracy: 0.9375 - val_loss: 0.3400 - val_accuracy: 0.8859\n",
      "Epoch 10/100\n",
      "104/104 [==============================] - 23s 215ms/step - loss: 0.1876 - accuracy: 0.9420 - val_loss: 0.3633 - val_accuracy: 0.8832\n",
      "Epoch 11/100\n",
      "104/104 [==============================] - 23s 216ms/step - loss: 0.1524 - accuracy: 0.9508 - val_loss: 0.3488 - val_accuracy: 0.8995\n",
      "Epoch 12/100\n",
      "104/104 [==============================] - 23s 216ms/step - loss: 0.1631 - accuracy: 0.9463 - val_loss: 0.3547 - val_accuracy: 0.8967\n",
      "Epoch 13/100\n",
      "104/104 [==============================] - 23s 218ms/step - loss: 0.1530 - accuracy: 0.9472 - val_loss: 0.3364 - val_accuracy: 0.8804\n",
      "Epoch 14/100\n",
      "104/104 [==============================] - 23s 216ms/step - loss: 0.1378 - accuracy: 0.9535 - val_loss: 0.3505 - val_accuracy: 0.8804\n",
      "Epoch 15/100\n",
      "104/104 [==============================] - 23s 216ms/step - loss: 0.1458 - accuracy: 0.9505 - val_loss: 0.3422 - val_accuracy: 0.8886\n",
      "Epoch 16/100\n",
      "104/104 [==============================] - 23s 218ms/step - loss: 0.1209 - accuracy: 0.9583 - val_loss: 0.3330 - val_accuracy: 0.8913\n",
      "Epoch 17/100\n",
      "104/104 [==============================] - 23s 218ms/step - loss: 0.1373 - accuracy: 0.9523 - val_loss: 0.3281 - val_accuracy: 0.8967\n",
      "Epoch 18/100\n",
      "104/104 [==============================] - 23s 216ms/step - loss: 0.1429 - accuracy: 0.9505 - val_loss: 0.3393 - val_accuracy: 0.8804\n",
      "Epoch 19/100\n",
      "104/104 [==============================] - 23s 216ms/step - loss: 0.1153 - accuracy: 0.9565 - val_loss: 0.3678 - val_accuracy: 0.8913\n",
      "Epoch 20/100\n",
      "104/104 [==============================] - 23s 216ms/step - loss: 0.0973 - accuracy: 0.9644 - val_loss: 0.3593 - val_accuracy: 0.8995\n",
      "Epoch 21/100\n",
      "104/104 [==============================] - 23s 216ms/step - loss: 0.1111 - accuracy: 0.9598 - val_loss: 0.3763 - val_accuracy: 0.8886\n",
      "Epoch 22/100\n",
      "104/104 [==============================] - 23s 217ms/step - loss: 0.1083 - accuracy: 0.9614 - val_loss: 0.4043 - val_accuracy: 0.8995\n",
      "Epoch 1/100\n",
      "104/104 [==============================] - 31s 253ms/step - loss: 0.2146 - accuracy: 0.9321 - val_loss: 0.4915 - val_accuracy: 0.8750\n",
      "Epoch 2/100\n",
      "104/104 [==============================] - 25s 236ms/step - loss: 0.1410 - accuracy: 0.9550 - val_loss: 0.4282 - val_accuracy: 0.8614\n",
      "Epoch 3/100\n",
      "104/104 [==============================] - 25s 234ms/step - loss: 0.1069 - accuracy: 0.9653 - val_loss: 0.4770 - val_accuracy: 0.8913\n",
      "Epoch 4/100\n",
      "104/104 [==============================] - 25s 235ms/step - loss: 0.0869 - accuracy: 0.9707 - val_loss: 0.4636 - val_accuracy: 0.8696\n",
      "Epoch 5/100\n",
      "104/104 [==============================] - 25s 234ms/step - loss: 0.0744 - accuracy: 0.9755 - val_loss: 0.5477 - val_accuracy: 0.8832\n",
      "Epoch 6/100\n",
      "104/104 [==============================] - 25s 236ms/step - loss: 0.0374 - accuracy: 0.9858 - val_loss: 0.4189 - val_accuracy: 0.8913\n",
      "Epoch 7/100\n",
      "104/104 [==============================] - 25s 234ms/step - loss: 0.0307 - accuracy: 0.9891 - val_loss: 0.4689 - val_accuracy: 0.8859\n",
      "Epoch 8/100\n",
      "104/104 [==============================] - 25s 236ms/step - loss: 0.0269 - accuracy: 0.9903 - val_loss: 0.3515 - val_accuracy: 0.9212\n",
      "Epoch 9/100\n",
      "104/104 [==============================] - 25s 234ms/step - loss: 0.0239 - accuracy: 0.9928 - val_loss: 0.4461 - val_accuracy: 0.8940\n",
      "Epoch 10/100\n",
      "104/104 [==============================] - 25s 234ms/step - loss: 0.0269 - accuracy: 0.9912 - val_loss: 0.4956 - val_accuracy: 0.8913\n",
      "Epoch 11/100\n",
      "104/104 [==============================] - 25s 235ms/step - loss: 0.0260 - accuracy: 0.9915 - val_loss: 0.4125 - val_accuracy: 0.9076\n",
      "Epoch 12/100\n",
      "104/104 [==============================] - 25s 234ms/step - loss: 0.0193 - accuracy: 0.9931 - val_loss: 0.4466 - val_accuracy: 0.8832\n",
      "Epoch 13/100\n",
      "104/104 [==============================] - 25s 236ms/step - loss: 0.0239 - accuracy: 0.9925 - val_loss: 0.4132 - val_accuracy: 0.8967\n",
      "INFO:tensorflow:Assets written to: models\\oxford_iiit_pet\\resnet101v2\\assets\n"
     ]
    },
    {
     "name": "stderr",
     "output_type": "stream",
     "text": [
      "INFO:tensorflow:Assets written to: models\\oxford_iiit_pet\\resnet101v2\\assets\n"
     ]
    },
    {
     "data": {
      "text/plain": [
       "(<keras.callbacks.History at 0x1f96e8ff3d0>,\n",
       " <keras.callbacks.History at 0x1f8fbda1ac0>)"
      ]
     },
     "execution_count": 14,
     "metadata": {},
     "output_type": "execute_result"
    }
   ],
   "source": [
    "model_name = \"resnet101v2\"\n",
    "dropout_rate = 0.7\n",
    "train_on_dataset(model_name, dataset_name, dropout_rate)"
   ]
  },
  {
   "cell_type": "code",
   "execution_count": 15,
   "id": "8784de02",
   "metadata": {
    "collapsed": true
   },
   "outputs": [
    {
     "name": "stdout",
     "output_type": "stream",
     "text": [
      "Epoch 1/100\n",
      "104/104 [==============================] - 43s 332ms/step - loss: 2.2296 - accuracy: 0.4592 - val_loss: 0.5626 - val_accuracy: 0.8370\n",
      "Epoch 2/100\n",
      "104/104 [==============================] - 33s 310ms/step - loss: 0.6842 - accuracy: 0.7896 - val_loss: 0.4055 - val_accuracy: 0.8777\n",
      "Epoch 3/100\n",
      "104/104 [==============================] - 33s 311ms/step - loss: 0.4963 - accuracy: 0.8469 - val_loss: 0.3607 - val_accuracy: 0.8913\n",
      "Epoch 4/100\n",
      "104/104 [==============================] - 33s 310ms/step - loss: 0.3669 - accuracy: 0.8832 - val_loss: 0.3399 - val_accuracy: 0.8995\n",
      "Epoch 5/100\n",
      "104/104 [==============================] - 33s 308ms/step - loss: 0.3094 - accuracy: 0.8919 - val_loss: 0.3587 - val_accuracy: 0.8940\n",
      "Epoch 6/100\n",
      "104/104 [==============================] - 33s 309ms/step - loss: 0.2561 - accuracy: 0.9115 - val_loss: 0.3687 - val_accuracy: 0.8913\n",
      "Epoch 7/100\n",
      "104/104 [==============================] - 33s 309ms/step - loss: 0.2338 - accuracy: 0.9203 - val_loss: 0.3542 - val_accuracy: 0.9076\n",
      "Epoch 8/100\n",
      "104/104 [==============================] - 33s 310ms/step - loss: 0.2200 - accuracy: 0.9284 - val_loss: 0.3868 - val_accuracy: 0.8940\n",
      "Epoch 9/100\n",
      "104/104 [==============================] - 33s 311ms/step - loss: 0.2037 - accuracy: 0.9245 - val_loss: 0.3611 - val_accuracy: 0.8913\n",
      "Epoch 1/100\n",
      "104/104 [==============================] - 44s 355ms/step - loss: 0.3519 - accuracy: 0.8825 - val_loss: 0.4710 - val_accuracy: 0.8750\n",
      "Epoch 2/100\n",
      "104/104 [==============================] - 35s 333ms/step - loss: 0.1907 - accuracy: 0.9330 - val_loss: 0.4272 - val_accuracy: 0.8832\n",
      "Epoch 3/100\n",
      "104/104 [==============================] - 35s 333ms/step - loss: 0.1206 - accuracy: 0.9623 - val_loss: 0.4002 - val_accuracy: 0.8804\n",
      "Epoch 4/100\n",
      "104/104 [==============================] - 35s 331ms/step - loss: 0.0779 - accuracy: 0.9749 - val_loss: 0.4229 - val_accuracy: 0.8967\n",
      "Epoch 5/100\n",
      "104/104 [==============================] - 35s 331ms/step - loss: 0.0629 - accuracy: 0.9777 - val_loss: 0.4491 - val_accuracy: 0.9130\n",
      "Epoch 6/100\n",
      "104/104 [==============================] - 35s 331ms/step - loss: 0.0417 - accuracy: 0.9876 - val_loss: 0.4392 - val_accuracy: 0.9022\n",
      "Epoch 7/100\n",
      "104/104 [==============================] - 35s 332ms/step - loss: 0.0322 - accuracy: 0.9900 - val_loss: 0.4426 - val_accuracy: 0.9022\n",
      "Epoch 8/100\n",
      "104/104 [==============================] - 35s 333ms/step - loss: 0.0174 - accuracy: 0.9940 - val_loss: 0.4432 - val_accuracy: 0.8995\n",
      "INFO:tensorflow:Assets written to: models\\oxford_iiit_pet\\resnet152v2\\assets\n"
     ]
    },
    {
     "name": "stderr",
     "output_type": "stream",
     "text": [
      "INFO:tensorflow:Assets written to: models\\oxford_iiit_pet\\resnet152v2\\assets\n"
     ]
    },
    {
     "data": {
      "text/plain": [
       "(<keras.callbacks.History at 0x1f99eceb8e0>,\n",
       " <keras.callbacks.History at 0x1f9e185d4f0>)"
      ]
     },
     "execution_count": 15,
     "metadata": {},
     "output_type": "execute_result"
    }
   ],
   "source": [
    "model_name = \"resnet152v2\"\n",
    "dropout_rate = 0.7\n",
    "train_on_dataset(model_name, dataset_name, dropout_rate)"
   ]
  },
  {
   "cell_type": "code",
   "execution_count": 16,
   "id": "741d0f58",
   "metadata": {
    "collapsed": true
   },
   "outputs": [
    {
     "name": "stdout",
     "output_type": "stream",
     "text": [
      "WARNING:tensorflow:`input_shape` is undefined or non-square, or `rows` is not in [96, 128, 160, 192, 224]. Weights for input shape (224, 224) will be loaded as the default.\n"
     ]
    },
    {
     "name": "stderr",
     "output_type": "stream",
     "text": [
      "WARNING:tensorflow:`input_shape` is undefined or non-square, or `rows` is not in [96, 128, 160, 192, 224]. Weights for input shape (224, 224) will be loaded as the default.\n"
     ]
    },
    {
     "name": "stdout",
     "output_type": "stream",
     "text": [
      "Epoch 1/100\n",
      "104/104 [==============================] - 11s 69ms/step - loss: 1.5489 - accuracy: 0.5879 - val_loss: 0.5823 - val_accuracy: 0.8614\n",
      "Epoch 2/100\n",
      "104/104 [==============================] - 7s 61ms/step - loss: 0.4252 - accuracy: 0.8650 - val_loss: 0.4046 - val_accuracy: 0.8832\n",
      "Epoch 3/100\n",
      "104/104 [==============================] - 7s 61ms/step - loss: 0.2842 - accuracy: 0.9061 - val_loss: 0.3743 - val_accuracy: 0.8913\n",
      "Epoch 4/100\n",
      "104/104 [==============================] - 7s 61ms/step - loss: 0.2141 - accuracy: 0.9224 - val_loss: 0.3653 - val_accuracy: 0.8940\n",
      "Epoch 5/100\n",
      "104/104 [==============================] - 7s 62ms/step - loss: 0.1545 - accuracy: 0.9447 - val_loss: 0.3542 - val_accuracy: 0.8995\n",
      "Epoch 6/100\n",
      "104/104 [==============================] - 7s 61ms/step - loss: 0.1356 - accuracy: 0.9532 - val_loss: 0.3641 - val_accuracy: 0.9022\n",
      "Epoch 7/100\n",
      "104/104 [==============================] - 7s 61ms/step - loss: 0.1142 - accuracy: 0.9626 - val_loss: 0.3577 - val_accuracy: 0.9185\n",
      "Epoch 8/100\n",
      "104/104 [==============================] - 7s 61ms/step - loss: 0.1029 - accuracy: 0.9638 - val_loss: 0.3741 - val_accuracy: 0.9049\n",
      "Epoch 9/100\n",
      "104/104 [==============================] - 7s 61ms/step - loss: 0.0722 - accuracy: 0.9780 - val_loss: 0.3731 - val_accuracy: 0.9076\n",
      "Epoch 10/100\n",
      "104/104 [==============================] - 7s 62ms/step - loss: 0.0776 - accuracy: 0.9731 - val_loss: 0.3772 - val_accuracy: 0.9022\n",
      "Epoch 1/100\n",
      "104/104 [==============================] - 11s 78ms/step - loss: 0.1747 - accuracy: 0.9408 - val_loss: 0.4056 - val_accuracy: 0.8859\n",
      "Epoch 2/100\n",
      "104/104 [==============================] - 8s 70ms/step - loss: 0.1202 - accuracy: 0.9601 - val_loss: 0.4710 - val_accuracy: 0.8723\n",
      "Epoch 3/100\n",
      "104/104 [==============================] - 8s 71ms/step - loss: 0.0760 - accuracy: 0.9728 - val_loss: 0.3748 - val_accuracy: 0.9049\n",
      "Epoch 4/100\n",
      "104/104 [==============================] - 8s 70ms/step - loss: 0.0521 - accuracy: 0.9843 - val_loss: 0.3554 - val_accuracy: 0.9158\n",
      "Epoch 5/100\n",
      "104/104 [==============================] - 8s 70ms/step - loss: 0.0343 - accuracy: 0.9894 - val_loss: 0.3450 - val_accuracy: 0.9022\n",
      "Epoch 6/100\n",
      "104/104 [==============================] - 8s 70ms/step - loss: 0.0236 - accuracy: 0.9946 - val_loss: 0.3482 - val_accuracy: 0.9130\n",
      "Epoch 7/100\n",
      "104/104 [==============================] - 8s 69ms/step - loss: 0.0270 - accuracy: 0.9921 - val_loss: 0.3925 - val_accuracy: 0.8995\n",
      "Epoch 8/100\n",
      "104/104 [==============================] - 8s 70ms/step - loss: 0.0229 - accuracy: 0.9940 - val_loss: 0.3197 - val_accuracy: 0.9158\n",
      "Epoch 9/100\n",
      "104/104 [==============================] - 8s 69ms/step - loss: 0.0214 - accuracy: 0.9952 - val_loss: 0.3954 - val_accuracy: 0.9076\n",
      "Epoch 10/100\n",
      "104/104 [==============================] - 8s 70ms/step - loss: 0.0100 - accuracy: 1.0000 - val_loss: 0.3167 - val_accuracy: 0.9348\n",
      "Epoch 11/100\n",
      "104/104 [==============================] - 8s 70ms/step - loss: 0.0086 - accuracy: 0.9988 - val_loss: 0.3398 - val_accuracy: 0.9103\n",
      "Epoch 12/100\n",
      "104/104 [==============================] - 8s 70ms/step - loss: 0.0086 - accuracy: 0.9988 - val_loss: 0.3322 - val_accuracy: 0.9239\n",
      "Epoch 13/100\n",
      "104/104 [==============================] - 8s 70ms/step - loss: 0.0092 - accuracy: 0.9970 - val_loss: 0.3485 - val_accuracy: 0.9185\n",
      "Epoch 14/100\n",
      "104/104 [==============================] - 8s 70ms/step - loss: 0.0065 - accuracy: 0.9985 - val_loss: 0.3639 - val_accuracy: 0.9158\n",
      "Epoch 15/100\n",
      "104/104 [==============================] - 8s 70ms/step - loss: 0.0056 - accuracy: 0.9991 - val_loss: 0.3362 - val_accuracy: 0.9158\n",
      "INFO:tensorflow:Assets written to: models\\oxford_iiit_pet\\mobilenetv2\\assets\n"
     ]
    },
    {
     "name": "stderr",
     "output_type": "stream",
     "text": [
      "INFO:tensorflow:Assets written to: models\\oxford_iiit_pet\\mobilenetv2\\assets\n"
     ]
    },
    {
     "data": {
      "text/plain": [
       "(<keras.callbacks.History at 0x1f97a4a87f0>,\n",
       " <keras.callbacks.History at 0x1f982db8f10>)"
      ]
     },
     "execution_count": 16,
     "metadata": {},
     "output_type": "execute_result"
    }
   ],
   "source": [
    "model_name = \"mobilenetv2\"\n",
    "dropout_rate = 0.45\n",
    "train_on_dataset(model_name, dataset_name, dropout_rate)"
   ]
  },
  {
   "cell_type": "markdown",
   "id": "fd05a226",
   "metadata": {},
   "source": [
    "# oxford flowers 102 dataset"
   ]
  },
  {
   "cell_type": "code",
   "execution_count": 6,
   "id": "3e109def",
   "metadata": {},
   "outputs": [],
   "source": [
    "dataset_name = \"oxford_flowers102\""
   ]
  },
  {
   "cell_type": "code",
   "execution_count": 4,
   "id": "6e8ebdf5",
   "metadata": {
    "collapsed": true
   },
   "outputs": [
    {
     "name": "stdout",
     "output_type": "stream",
     "text": [
      "Epoch 1/100\n",
      "193/193 [==============================] - 85s 399ms/step - loss: 2.5605 - accuracy: 0.4412 - val_loss: 1.5110 - val_accuracy: 0.7147\n",
      "Epoch 2/100\n",
      "193/193 [==============================] - 75s 390ms/step - loss: 0.9908 - accuracy: 0.7341 - val_loss: 0.7262 - val_accuracy: 0.8206\n",
      "Epoch 3/100\n",
      "193/193 [==============================] - 75s 388ms/step - loss: 0.6965 - accuracy: 0.8065 - val_loss: 0.5820 - val_accuracy: 0.8549\n",
      "Epoch 4/100\n",
      "193/193 [==============================] - 75s 388ms/step - loss: 0.5694 - accuracy: 0.8366 - val_loss: 0.5293 - val_accuracy: 0.8608\n",
      "Epoch 5/100\n",
      "193/193 [==============================] - 75s 387ms/step - loss: 0.4880 - accuracy: 0.8584 - val_loss: 0.4873 - val_accuracy: 0.8725\n",
      "Epoch 6/100\n",
      "193/193 [==============================] - 75s 388ms/step - loss: 0.4162 - accuracy: 0.8732 - val_loss: 0.4849 - val_accuracy: 0.8745\n",
      "Epoch 7/100\n",
      "193/193 [==============================] - 75s 389ms/step - loss: 0.3869 - accuracy: 0.8881 - val_loss: 0.4482 - val_accuracy: 0.8794\n",
      "Epoch 8/100\n",
      "193/193 [==============================] - 75s 388ms/step - loss: 0.3567 - accuracy: 0.8930 - val_loss: 0.4430 - val_accuracy: 0.8892\n",
      "Epoch 9/100\n",
      "193/193 [==============================] - 75s 387ms/step - loss: 0.3470 - accuracy: 0.8938 - val_loss: 0.4200 - val_accuracy: 0.8912\n",
      "Epoch 10/100\n",
      "193/193 [==============================] - 75s 387ms/step - loss: 0.3221 - accuracy: 0.9018 - val_loss: 0.4384 - val_accuracy: 0.8863\n",
      "Epoch 11/100\n",
      "193/193 [==============================] - 75s 387ms/step - loss: 0.3070 - accuracy: 0.9104 - val_loss: 0.4439 - val_accuracy: 0.8873\n",
      "Epoch 12/100\n",
      "193/193 [==============================] - 75s 387ms/step - loss: 0.2956 - accuracy: 0.9119 - val_loss: 0.4616 - val_accuracy: 0.8725\n",
      "Epoch 13/100\n",
      "193/193 [==============================] - 75s 391ms/step - loss: 0.2853 - accuracy: 0.9136 - val_loss: 0.4329 - val_accuracy: 0.8833\n",
      "Epoch 14/100\n",
      "193/193 [==============================] - 75s 387ms/step - loss: 0.2685 - accuracy: 0.9206 - val_loss: 0.4423 - val_accuracy: 0.8912\n",
      "Epoch 1/100\n",
      "193/193 [==============================] - 80s 382ms/step - loss: 0.2362 - accuracy: 0.9299 - val_loss: 0.3532 - val_accuracy: 0.9078\n",
      "Epoch 2/100\n",
      "193/193 [==============================] - 73s 380ms/step - loss: 0.1958 - accuracy: 0.9406 - val_loss: 0.3499 - val_accuracy: 0.9059\n",
      "Epoch 3/100\n",
      "193/193 [==============================] - 74s 381ms/step - loss: 0.1786 - accuracy: 0.9455 - val_loss: 0.3187 - val_accuracy: 0.9157\n",
      "Epoch 4/100\n",
      "193/193 [==============================] - 73s 380ms/step - loss: 0.1460 - accuracy: 0.9572 - val_loss: 0.3330 - val_accuracy: 0.9137\n",
      "Epoch 5/100\n",
      "193/193 [==============================] - 74s 381ms/step - loss: 0.1294 - accuracy: 0.9616 - val_loss: 0.2975 - val_accuracy: 0.9216\n",
      "Epoch 6/100\n",
      "193/193 [==============================] - 73s 379ms/step - loss: 0.1129 - accuracy: 0.9655 - val_loss: 0.2974 - val_accuracy: 0.9157\n",
      "Epoch 7/100\n",
      "193/193 [==============================] - 73s 380ms/step - loss: 0.1026 - accuracy: 0.9691 - val_loss: 0.2795 - val_accuracy: 0.9235\n",
      "Epoch 8/100\n",
      "193/193 [==============================] - 74s 380ms/step - loss: 0.1004 - accuracy: 0.9714 - val_loss: 0.2760 - val_accuracy: 0.9225\n",
      "Epoch 9/100\n",
      "193/193 [==============================] - 74s 385ms/step - loss: 0.0878 - accuracy: 0.9730 - val_loss: 0.2620 - val_accuracy: 0.9265\n",
      "Epoch 10/100\n",
      "193/193 [==============================] - 73s 379ms/step - loss: 0.0787 - accuracy: 0.9756 - val_loss: 0.2703 - val_accuracy: 0.9255\n",
      "Epoch 11/100\n",
      "193/193 [==============================] - 74s 381ms/step - loss: 0.0745 - accuracy: 0.9769 - val_loss: 0.2676 - val_accuracy: 0.9275\n",
      "Epoch 12/100\n",
      "193/193 [==============================] - 74s 381ms/step - loss: 0.0712 - accuracy: 0.9784 - val_loss: 0.2619 - val_accuracy: 0.9314\n",
      "Epoch 13/100\n",
      "193/193 [==============================] - 74s 381ms/step - loss: 0.0681 - accuracy: 0.9789 - val_loss: 0.2540 - val_accuracy: 0.9353\n",
      "Epoch 14/100\n",
      "193/193 [==============================] - 74s 381ms/step - loss: 0.0684 - accuracy: 0.9782 - val_loss: 0.2511 - val_accuracy: 0.9363\n",
      "Epoch 15/100\n",
      "193/193 [==============================] - 73s 379ms/step - loss: 0.0604 - accuracy: 0.9841 - val_loss: 0.2647 - val_accuracy: 0.9363\n",
      "Epoch 16/100\n",
      "193/193 [==============================] - 74s 381ms/step - loss: 0.0580 - accuracy: 0.9826 - val_loss: 0.2597 - val_accuracy: 0.9314\n",
      "Epoch 17/100\n",
      "193/193 [==============================] - 74s 380ms/step - loss: 0.0512 - accuracy: 0.9855 - val_loss: 0.2649 - val_accuracy: 0.9324\n",
      "Epoch 18/100\n",
      "193/193 [==============================] - 74s 380ms/step - loss: 0.0568 - accuracy: 0.9837 - val_loss: 0.2717 - val_accuracy: 0.9343\n",
      "Epoch 19/100\n",
      "193/193 [==============================] - 74s 380ms/step - loss: 0.0409 - accuracy: 0.9885 - val_loss: 0.2400 - val_accuracy: 0.9392\n",
      "Epoch 20/100\n",
      "193/193 [==============================] - 73s 380ms/step - loss: 0.0417 - accuracy: 0.9883 - val_loss: 0.2366 - val_accuracy: 0.9392\n",
      "Epoch 21/100\n",
      "193/193 [==============================] - 74s 383ms/step - loss: 0.0387 - accuracy: 0.9886 - val_loss: 0.2431 - val_accuracy: 0.9402\n",
      "Epoch 22/100\n",
      "193/193 [==============================] - 74s 382ms/step - loss: 0.0385 - accuracy: 0.9891 - val_loss: 0.2280 - val_accuracy: 0.9422\n",
      "Epoch 23/100\n",
      "193/193 [==============================] - 73s 380ms/step - loss: 0.0407 - accuracy: 0.9896 - val_loss: 0.2332 - val_accuracy: 0.9392\n",
      "Epoch 24/100\n",
      "193/193 [==============================] - 73s 379ms/step - loss: 0.0373 - accuracy: 0.9880 - val_loss: 0.2368 - val_accuracy: 0.9402\n",
      "Epoch 25/100\n",
      "193/193 [==============================] - 74s 381ms/step - loss: 0.0371 - accuracy: 0.9904 - val_loss: 0.2165 - val_accuracy: 0.9441\n",
      "Epoch 26/100\n",
      "193/193 [==============================] - 73s 380ms/step - loss: 0.0364 - accuracy: 0.9906 - val_loss: 0.2392 - val_accuracy: 0.9402\n",
      "Epoch 27/100\n",
      "193/193 [==============================] - 75s 387ms/step - loss: 0.0324 - accuracy: 0.9906 - val_loss: 0.2279 - val_accuracy: 0.9412\n",
      "Epoch 28/100\n",
      "193/193 [==============================] - 74s 380ms/step - loss: 0.0297 - accuracy: 0.9920 - val_loss: 0.2192 - val_accuracy: 0.9441\n",
      "Epoch 29/100\n",
      "193/193 [==============================] - 74s 382ms/step - loss: 0.0279 - accuracy: 0.9922 - val_loss: 0.2319 - val_accuracy: 0.9441\n",
      "Epoch 30/100\n",
      "193/193 [==============================] - 74s 383ms/step - loss: 0.0332 - accuracy: 0.9919 - val_loss: 0.1995 - val_accuracy: 0.9520\n",
      "Epoch 31/100\n",
      "193/193 [==============================] - 74s 380ms/step - loss: 0.0306 - accuracy: 0.9906 - val_loss: 0.2232 - val_accuracy: 0.9441\n",
      "Epoch 32/100\n",
      "193/193 [==============================] - 74s 383ms/step - loss: 0.0276 - accuracy: 0.9920 - val_loss: 0.2009 - val_accuracy: 0.9490\n",
      "Epoch 33/100\n",
      "193/193 [==============================] - 74s 382ms/step - loss: 0.0326 - accuracy: 0.9901 - val_loss: 0.2188 - val_accuracy: 0.9441\n",
      "Epoch 34/100\n",
      "193/193 [==============================] - 74s 382ms/step - loss: 0.0322 - accuracy: 0.9899 - val_loss: 0.2035 - val_accuracy: 0.9431\n",
      "Epoch 35/100\n",
      "193/193 [==============================] - 74s 382ms/step - loss: 0.0231 - accuracy: 0.9933 - val_loss: 0.1986 - val_accuracy: 0.9500\n",
      "Epoch 36/100\n",
      "193/193 [==============================] - 74s 380ms/step - loss: 0.0240 - accuracy: 0.9945 - val_loss: 0.2037 - val_accuracy: 0.9480\n",
      "Epoch 37/100\n",
      "193/193 [==============================] - 74s 381ms/step - loss: 0.0272 - accuracy: 0.9919 - val_loss: 0.2038 - val_accuracy: 0.9500\n",
      "Epoch 38/100\n",
      "193/193 [==============================] - 73s 379ms/step - loss: 0.0259 - accuracy: 0.9933 - val_loss: 0.1985 - val_accuracy: 0.9549\n",
      "Epoch 39/100\n",
      "193/193 [==============================] - 73s 379ms/step - loss: 0.0253 - accuracy: 0.9922 - val_loss: 0.2026 - val_accuracy: 0.9490\n",
      "Epoch 40/100\n",
      "193/193 [==============================] - 74s 383ms/step - loss: 0.0199 - accuracy: 0.9937 - val_loss: 0.1831 - val_accuracy: 0.9529\n",
      "Epoch 41/100\n",
      "193/193 [==============================] - 73s 380ms/step - loss: 0.0212 - accuracy: 0.9933 - val_loss: 0.1943 - val_accuracy: 0.9578\n",
      "Epoch 42/100\n",
      "193/193 [==============================] - 74s 382ms/step - loss: 0.0244 - accuracy: 0.9925 - val_loss: 0.2001 - val_accuracy: 0.9549\n"
     ]
    },
    {
     "name": "stdout",
     "output_type": "stream",
     "text": [
      "Epoch 43/100\n",
      "193/193 [==============================] - 73s 379ms/step - loss: 0.0253 - accuracy: 0.9917 - val_loss: 0.2128 - val_accuracy: 0.9451\n",
      "Epoch 44/100\n",
      "193/193 [==============================] - 73s 379ms/step - loss: 0.0248 - accuracy: 0.9933 - val_loss: 0.2151 - val_accuracy: 0.9480\n",
      "Epoch 45/100\n",
      "193/193 [==============================] - 74s 381ms/step - loss: 0.0203 - accuracy: 0.9953 - val_loss: 0.2112 - val_accuracy: 0.9520\n",
      "INFO:tensorflow:Assets written to: models\\oxford_flowers102\\effnetB0\\assets\n"
     ]
    },
    {
     "name": "stderr",
     "output_type": "stream",
     "text": [
      "INFO:tensorflow:Assets written to: models\\oxford_flowers102\\effnetB0\\assets\n"
     ]
    },
    {
     "data": {
      "text/plain": [
       "(<keras.callbacks.History at 0x1dfcabf3d30>,\n",
       " <keras.callbacks.History at 0x1dfff8d5be0>)"
      ]
     },
     "execution_count": 4,
     "metadata": {},
     "output_type": "execute_result"
    }
   ],
   "source": [
    "model_name = \"effnetB0\"\n",
    "dropout_rate = 0.45\n",
    "train_on_dataset(model_name, dataset_name, dropout_rate)"
   ]
  },
  {
   "cell_type": "code",
   "execution_count": 5,
   "id": "6f0365c2",
   "metadata": {
    "collapsed": true
   },
   "outputs": [
    {
     "name": "stdout",
     "output_type": "stream",
     "text": [
      "Epoch 1/100\n",
      "193/193 [==============================] - 40s 163ms/step - loss: 2.6150 - accuracy: 0.4363 - val_loss: 1.3455 - val_accuracy: 0.7608\n",
      "Epoch 2/100\n",
      "193/193 [==============================] - 29s 149ms/step - loss: 0.8287 - accuracy: 0.7788 - val_loss: 0.5902 - val_accuracy: 0.8588\n",
      "Epoch 3/100\n",
      "193/193 [==============================] - 29s 149ms/step - loss: 0.5100 - accuracy: 0.8597 - val_loss: 0.4586 - val_accuracy: 0.8824\n",
      "Epoch 4/100\n",
      "193/193 [==============================] - 29s 150ms/step - loss: 0.3594 - accuracy: 0.8985 - val_loss: 0.3995 - val_accuracy: 0.8843\n",
      "Epoch 5/100\n",
      "193/193 [==============================] - 29s 149ms/step - loss: 0.3104 - accuracy: 0.9133 - val_loss: 0.3727 - val_accuracy: 0.8990\n",
      "Epoch 6/100\n",
      "193/193 [==============================] - 29s 150ms/step - loss: 0.2541 - accuracy: 0.9242 - val_loss: 0.3619 - val_accuracy: 0.9059\n",
      "Epoch 7/100\n",
      "193/193 [==============================] - 29s 150ms/step - loss: 0.2126 - accuracy: 0.9366 - val_loss: 0.3548 - val_accuracy: 0.9069\n",
      "Epoch 8/100\n",
      "193/193 [==============================] - 29s 149ms/step - loss: 0.1971 - accuracy: 0.9442 - val_loss: 0.3551 - val_accuracy: 0.9039\n",
      "Epoch 9/100\n",
      "193/193 [==============================] - 29s 150ms/step - loss: 0.1842 - accuracy: 0.9452 - val_loss: 0.3444 - val_accuracy: 0.9010\n",
      "Epoch 10/100\n",
      "193/193 [==============================] - 29s 150ms/step - loss: 0.1560 - accuracy: 0.9543 - val_loss: 0.3209 - val_accuracy: 0.9108\n",
      "Epoch 11/100\n",
      "193/193 [==============================] - 29s 149ms/step - loss: 0.1471 - accuracy: 0.9563 - val_loss: 0.3258 - val_accuracy: 0.9118\n",
      "Epoch 12/100\n",
      "193/193 [==============================] - 29s 149ms/step - loss: 0.1333 - accuracy: 0.9610 - val_loss: 0.3389 - val_accuracy: 0.9020\n",
      "Epoch 13/100\n",
      "193/193 [==============================] - 29s 149ms/step - loss: 0.1228 - accuracy: 0.9631 - val_loss: 0.3503 - val_accuracy: 0.9000\n",
      "Epoch 14/100\n",
      "193/193 [==============================] - 29s 150ms/step - loss: 0.1161 - accuracy: 0.9649 - val_loss: 0.3661 - val_accuracy: 0.8951\n",
      "Epoch 15/100\n",
      "193/193 [==============================] - 29s 150ms/step - loss: 0.1189 - accuracy: 0.9608 - val_loss: 0.3297 - val_accuracy: 0.9049\n",
      "Epoch 1/100\n",
      "193/193 [==============================] - 40s 173ms/step - loss: 0.1149 - accuracy: 0.9660 - val_loss: 0.2850 - val_accuracy: 0.9186\n",
      "Epoch 2/100\n",
      "193/193 [==============================] - 32s 164ms/step - loss: 0.0901 - accuracy: 0.9715 - val_loss: 0.2628 - val_accuracy: 0.9275\n",
      "Epoch 3/100\n",
      "193/193 [==============================] - 32s 164ms/step - loss: 0.0664 - accuracy: 0.9806 - val_loss: 0.2612 - val_accuracy: 0.9333\n",
      "Epoch 4/100\n",
      "193/193 [==============================] - 32s 164ms/step - loss: 0.0643 - accuracy: 0.9803 - val_loss: 0.2465 - val_accuracy: 0.9373\n",
      "Epoch 5/100\n",
      "193/193 [==============================] - 32s 164ms/step - loss: 0.0559 - accuracy: 0.9819 - val_loss: 0.2395 - val_accuracy: 0.9304\n",
      "Epoch 6/100\n",
      "193/193 [==============================] - 32s 164ms/step - loss: 0.0430 - accuracy: 0.9872 - val_loss: 0.2401 - val_accuracy: 0.9412\n",
      "Epoch 7/100\n",
      "193/193 [==============================] - 32s 164ms/step - loss: 0.0453 - accuracy: 0.9859 - val_loss: 0.2246 - val_accuracy: 0.9422\n",
      "Epoch 8/100\n",
      "193/193 [==============================] - 32s 164ms/step - loss: 0.0426 - accuracy: 0.9881 - val_loss: 0.2246 - val_accuracy: 0.9461\n",
      "Epoch 9/100\n",
      "193/193 [==============================] - 32s 164ms/step - loss: 0.0409 - accuracy: 0.9891 - val_loss: 0.2214 - val_accuracy: 0.9392\n",
      "Epoch 10/100\n",
      "193/193 [==============================] - 32s 164ms/step - loss: 0.0356 - accuracy: 0.9891 - val_loss: 0.2127 - val_accuracy: 0.9392\n",
      "Epoch 11/100\n",
      "193/193 [==============================] - 32s 164ms/step - loss: 0.0373 - accuracy: 0.9893 - val_loss: 0.2109 - val_accuracy: 0.9412\n",
      "Epoch 12/100\n",
      "193/193 [==============================] - 32s 164ms/step - loss: 0.0300 - accuracy: 0.9914 - val_loss: 0.2094 - val_accuracy: 0.9382\n",
      "Epoch 13/100\n",
      "193/193 [==============================] - 32s 164ms/step - loss: 0.0352 - accuracy: 0.9906 - val_loss: 0.2226 - val_accuracy: 0.9382\n",
      "Epoch 14/100\n",
      "193/193 [==============================] - 32s 164ms/step - loss: 0.0280 - accuracy: 0.9912 - val_loss: 0.2158 - val_accuracy: 0.9451\n",
      "Epoch 15/100\n",
      "193/193 [==============================] - 32s 164ms/step - loss: 0.0279 - accuracy: 0.9935 - val_loss: 0.2115 - val_accuracy: 0.9422\n",
      "Epoch 16/100\n",
      "193/193 [==============================] - 32s 165ms/step - loss: 0.0246 - accuracy: 0.9937 - val_loss: 0.2038 - val_accuracy: 0.9490\n",
      "Epoch 17/100\n",
      "193/193 [==============================] - 32s 166ms/step - loss: 0.0221 - accuracy: 0.9937 - val_loss: 0.1975 - val_accuracy: 0.9471\n",
      "Epoch 18/100\n",
      "193/193 [==============================] - 32s 165ms/step - loss: 0.0186 - accuracy: 0.9953 - val_loss: 0.1917 - val_accuracy: 0.9461\n",
      "Epoch 19/100\n",
      "193/193 [==============================] - 32s 164ms/step - loss: 0.0202 - accuracy: 0.9946 - val_loss: 0.1852 - val_accuracy: 0.9549\n",
      "Epoch 20/100\n",
      "193/193 [==============================] - 32s 164ms/step - loss: 0.0245 - accuracy: 0.9932 - val_loss: 0.2099 - val_accuracy: 0.9480\n",
      "Epoch 21/100\n",
      "193/193 [==============================] - 32s 164ms/step - loss: 0.0151 - accuracy: 0.9967 - val_loss: 0.2081 - val_accuracy: 0.9471\n",
      "Epoch 22/100\n",
      "193/193 [==============================] - 32s 164ms/step - loss: 0.0166 - accuracy: 0.9956 - val_loss: 0.1996 - val_accuracy: 0.9490\n",
      "Epoch 23/100\n",
      "193/193 [==============================] - 32s 164ms/step - loss: 0.0120 - accuracy: 0.9974 - val_loss: 0.2015 - val_accuracy: 0.9490\n",
      "Epoch 24/100\n",
      "193/193 [==============================] - 32s 164ms/step - loss: 0.0127 - accuracy: 0.9969 - val_loss: 0.1890 - val_accuracy: 0.9549\n",
      "INFO:tensorflow:Assets written to: models\\oxford_flowers102\\effnetB1\\assets\n"
     ]
    },
    {
     "name": "stderr",
     "output_type": "stream",
     "text": [
      "INFO:tensorflow:Assets written to: models\\oxford_flowers102\\effnetB1\\assets\n"
     ]
    },
    {
     "data": {
      "text/plain": [
       "(<keras.callbacks.History at 0x1e0e4ba2c10>,\n",
       " <keras.callbacks.History at 0x1e0e4fbf100>)"
      ]
     },
     "execution_count": 5,
     "metadata": {},
     "output_type": "execute_result"
    }
   ],
   "source": [
    "model_name = \"effnetB1\"\n",
    "dropout_rate = 0.55\n",
    "train_on_dataset(model_name, dataset_name, dropout_rate)"
   ]
  },
  {
   "cell_type": "code",
   "execution_count": 6,
   "id": "3b30a7a9",
   "metadata": {
    "collapsed": true
   },
   "outputs": [
    {
     "name": "stdout",
     "output_type": "stream",
     "text": [
      "Epoch 1/100\n",
      "193/193 [==============================] - 45s 191ms/step - loss: 1.6234 - accuracy: 0.6260 - val_loss: 1.1083 - val_accuracy: 0.8206\n",
      "Epoch 2/100\n",
      "193/193 [==============================] - 34s 174ms/step - loss: 0.3641 - accuracy: 0.9086 - val_loss: 0.4606 - val_accuracy: 0.8833\n",
      "Epoch 3/100\n",
      "193/193 [==============================] - 34s 175ms/step - loss: 0.2092 - accuracy: 0.9494 - val_loss: 0.3663 - val_accuracy: 0.9020\n",
      "Epoch 4/100\n",
      "193/193 [==============================] - 34s 174ms/step - loss: 0.1363 - accuracy: 0.9667 - val_loss: 0.3199 - val_accuracy: 0.9216\n",
      "Epoch 5/100\n",
      "193/193 [==============================] - 34s 174ms/step - loss: 0.1013 - accuracy: 0.9759 - val_loss: 0.3281 - val_accuracy: 0.9108\n",
      "Epoch 6/100\n",
      "193/193 [==============================] - 34s 175ms/step - loss: 0.0813 - accuracy: 0.9810 - val_loss: 0.3138 - val_accuracy: 0.9167\n",
      "Epoch 7/100\n",
      "193/193 [==============================] - 34s 175ms/step - loss: 0.0665 - accuracy: 0.9832 - val_loss: 0.2794 - val_accuracy: 0.9216\n",
      "Epoch 8/100\n",
      "193/193 [==============================] - 34s 174ms/step - loss: 0.0653 - accuracy: 0.9828 - val_loss: 0.2943 - val_accuracy: 0.9265\n",
      "Epoch 9/100\n",
      "193/193 [==============================] - 34s 174ms/step - loss: 0.0565 - accuracy: 0.9865 - val_loss: 0.3142 - val_accuracy: 0.9206\n",
      "Epoch 10/100\n",
      "193/193 [==============================] - 34s 174ms/step - loss: 0.0455 - accuracy: 0.9880 - val_loss: 0.3118 - val_accuracy: 0.9206\n",
      "Epoch 11/100\n",
      "193/193 [==============================] - 34s 174ms/step - loss: 0.0424 - accuracy: 0.9883 - val_loss: 0.2891 - val_accuracy: 0.9225\n",
      "Epoch 12/100\n",
      "193/193 [==============================] - 34s 175ms/step - loss: 0.0371 - accuracy: 0.9901 - val_loss: 0.2931 - val_accuracy: 0.9235\n",
      "Epoch 1/100\n",
      "193/193 [==============================] - 45s 203ms/step - loss: 0.0450 - accuracy: 0.9888 - val_loss: 0.2720 - val_accuracy: 0.9216\n",
      "Epoch 2/100\n",
      "193/193 [==============================] - 38s 195ms/step - loss: 0.0280 - accuracy: 0.9946 - val_loss: 0.2482 - val_accuracy: 0.9392\n",
      "Epoch 3/100\n",
      "193/193 [==============================] - 38s 194ms/step - loss: 0.0265 - accuracy: 0.9945 - val_loss: 0.2499 - val_accuracy: 0.9314\n",
      "Epoch 4/100\n",
      "193/193 [==============================] - 38s 197ms/step - loss: 0.0206 - accuracy: 0.9963 - val_loss: 0.2431 - val_accuracy: 0.9353\n",
      "Epoch 5/100\n",
      "193/193 [==============================] - 38s 195ms/step - loss: 0.0215 - accuracy: 0.9954 - val_loss: 0.2213 - val_accuracy: 0.9471\n",
      "Epoch 6/100\n",
      "193/193 [==============================] - 38s 194ms/step - loss: 0.0162 - accuracy: 0.9976 - val_loss: 0.2237 - val_accuracy: 0.9431\n",
      "Epoch 7/100\n",
      "193/193 [==============================] - 38s 197ms/step - loss: 0.0143 - accuracy: 0.9967 - val_loss: 0.2210 - val_accuracy: 0.9422\n",
      "Epoch 8/100\n",
      "193/193 [==============================] - 39s 199ms/step - loss: 0.0098 - accuracy: 0.9990 - val_loss: 0.2074 - val_accuracy: 0.9471\n",
      "Epoch 9/100\n",
      "193/193 [==============================] - 38s 195ms/step - loss: 0.0122 - accuracy: 0.9974 - val_loss: 0.2094 - val_accuracy: 0.9461\n",
      "Epoch 10/100\n",
      "193/193 [==============================] - 38s 195ms/step - loss: 0.0085 - accuracy: 0.9982 - val_loss: 0.2140 - val_accuracy: 0.9412\n",
      "Epoch 11/100\n",
      "193/193 [==============================] - 38s 197ms/step - loss: 0.0104 - accuracy: 0.9979 - val_loss: 0.1944 - val_accuracy: 0.9480\n",
      "Epoch 12/100\n",
      "193/193 [==============================] - 38s 197ms/step - loss: 0.0083 - accuracy: 0.9990 - val_loss: 0.2165 - val_accuracy: 0.9392\n",
      "Epoch 13/100\n",
      "193/193 [==============================] - 38s 195ms/step - loss: 0.0058 - accuracy: 0.9987 - val_loss: 0.2072 - val_accuracy: 0.9480\n",
      "Epoch 14/100\n",
      "193/193 [==============================] - 38s 195ms/step - loss: 0.0102 - accuracy: 0.9976 - val_loss: 0.2037 - val_accuracy: 0.9461\n",
      "Epoch 15/100\n",
      "193/193 [==============================] - 38s 195ms/step - loss: 0.0105 - accuracy: 0.9980 - val_loss: 0.2072 - val_accuracy: 0.9431\n",
      "Epoch 16/100\n",
      "193/193 [==============================] - 38s 195ms/step - loss: 0.0061 - accuracy: 0.9987 - val_loss: 0.2092 - val_accuracy: 0.9461\n",
      "INFO:tensorflow:Assets written to: models\\oxford_flowers102\\effnetB2\\assets\n"
     ]
    },
    {
     "name": "stderr",
     "output_type": "stream",
     "text": [
      "INFO:tensorflow:Assets written to: models\\oxford_flowers102\\effnetB2\\assets\n"
     ]
    },
    {
     "data": {
      "text/plain": [
       "(<keras.callbacks.History at 0x1e0f1277b50>,\n",
       " <keras.callbacks.History at 0x1e0f9eedd90>)"
      ]
     },
     "execution_count": 6,
     "metadata": {},
     "output_type": "execute_result"
    }
   ],
   "source": [
    "model_name = \"effnetB2\"\n",
    "dropout_rate = 0.2\n",
    "train_on_dataset(model_name, dataset_name, dropout_rate)"
   ]
  },
  {
   "cell_type": "code",
   "execution_count": 7,
   "id": "e738b2e5",
   "metadata": {
    "collapsed": true
   },
   "outputs": [
    {
     "name": "stdout",
     "output_type": "stream",
     "text": [
      "Epoch 1/100\n",
      "193/193 [==============================] - 72s 324ms/step - loss: 3.3105 - accuracy: 0.3513 - val_loss: 1.4651 - val_accuracy: 0.7353\n",
      "Epoch 2/100\n",
      "193/193 [==============================] - 58s 301ms/step - loss: 1.1902 - accuracy: 0.6858 - val_loss: 0.5775 - val_accuracy: 0.8608\n",
      "Epoch 3/100\n",
      "193/193 [==============================] - 58s 301ms/step - loss: 0.7564 - accuracy: 0.7940 - val_loss: 0.4223 - val_accuracy: 0.8863\n",
      "Epoch 4/100\n",
      "193/193 [==============================] - 58s 302ms/step - loss: 0.5760 - accuracy: 0.8346 - val_loss: 0.3714 - val_accuracy: 0.8961\n",
      "Epoch 5/100\n",
      "193/193 [==============================] - 58s 301ms/step - loss: 0.4762 - accuracy: 0.8608 - val_loss: 0.3389 - val_accuracy: 0.9069\n",
      "Epoch 6/100\n",
      "193/193 [==============================] - 58s 301ms/step - loss: 0.4065 - accuracy: 0.8801 - val_loss: 0.3203 - val_accuracy: 0.9127\n",
      "Epoch 7/100\n",
      "193/193 [==============================] - 58s 301ms/step - loss: 0.3727 - accuracy: 0.8901 - val_loss: 0.3028 - val_accuracy: 0.9118\n",
      "Epoch 8/100\n",
      "193/193 [==============================] - 58s 301ms/step - loss: 0.3370 - accuracy: 0.8988 - val_loss: 0.2869 - val_accuracy: 0.9147\n",
      "Epoch 9/100\n",
      "193/193 [==============================] - 58s 301ms/step - loss: 0.3148 - accuracy: 0.9040 - val_loss: 0.2734 - val_accuracy: 0.9157\n",
      "Epoch 10/100\n",
      "193/193 [==============================] - 58s 300ms/step - loss: 0.2991 - accuracy: 0.9115 - val_loss: 0.2741 - val_accuracy: 0.9147\n",
      "Epoch 11/100\n",
      "193/193 [==============================] - 58s 301ms/step - loss: 0.2979 - accuracy: 0.9167 - val_loss: 0.2794 - val_accuracy: 0.9186\n",
      "Epoch 12/100\n",
      "193/193 [==============================] - 58s 301ms/step - loss: 0.2597 - accuracy: 0.9201 - val_loss: 0.2812 - val_accuracy: 0.9147\n",
      "Epoch 13/100\n",
      "193/193 [==============================] - 58s 301ms/step - loss: 0.2505 - accuracy: 0.9263 - val_loss: 0.2574 - val_accuracy: 0.9186\n",
      "Epoch 14/100\n",
      "193/193 [==============================] - 58s 302ms/step - loss: 0.2602 - accuracy: 0.9201 - val_loss: 0.2476 - val_accuracy: 0.9225\n",
      "Epoch 15/100\n",
      "193/193 [==============================] - 58s 300ms/step - loss: 0.2551 - accuracy: 0.9232 - val_loss: 0.2676 - val_accuracy: 0.9118\n",
      "Epoch 16/100\n",
      "193/193 [==============================] - 58s 299ms/step - loss: 0.2294 - accuracy: 0.9294 - val_loss: 0.2626 - val_accuracy: 0.9186\n",
      "Epoch 17/100\n",
      "193/193 [==============================] - 58s 299ms/step - loss: 0.2301 - accuracy: 0.9310 - val_loss: 0.2745 - val_accuracy: 0.9157\n",
      "Epoch 18/100\n",
      "193/193 [==============================] - 58s 302ms/step - loss: 0.2385 - accuracy: 0.9270 - val_loss: 0.2915 - val_accuracy: 0.9118\n",
      "Epoch 19/100\n",
      "193/193 [==============================] - 58s 301ms/step - loss: 0.2423 - accuracy: 0.9294 - val_loss: 0.2557 - val_accuracy: 0.9245\n",
      "Epoch 1/100\n",
      "193/193 [==============================] - 74s 342ms/step - loss: 0.1974 - accuracy: 0.9385 - val_loss: 0.2220 - val_accuracy: 0.9314\n",
      "Epoch 2/100\n",
      "193/193 [==============================] - 63s 328ms/step - loss: 0.1698 - accuracy: 0.9514 - val_loss: 0.2029 - val_accuracy: 0.9333\n",
      "Epoch 3/100\n",
      "193/193 [==============================] - 63s 328ms/step - loss: 0.1372 - accuracy: 0.9584 - val_loss: 0.1857 - val_accuracy: 0.9431\n",
      "Epoch 4/100\n",
      "193/193 [==============================] - 63s 327ms/step - loss: 0.1064 - accuracy: 0.9654 - val_loss: 0.1912 - val_accuracy: 0.9422\n",
      "Epoch 5/100\n",
      "193/193 [==============================] - 63s 328ms/step - loss: 0.1152 - accuracy: 0.9631 - val_loss: 0.1802 - val_accuracy: 0.9461\n",
      "Epoch 6/100\n",
      "193/193 [==============================] - 63s 328ms/step - loss: 0.0925 - accuracy: 0.9715 - val_loss: 0.1792 - val_accuracy: 0.9441\n",
      "Epoch 7/100\n",
      "193/193 [==============================] - 63s 328ms/step - loss: 0.0786 - accuracy: 0.9750 - val_loss: 0.1807 - val_accuracy: 0.9422\n",
      "Epoch 8/100\n",
      "193/193 [==============================] - 63s 326ms/step - loss: 0.0788 - accuracy: 0.9743 - val_loss: 0.1750 - val_accuracy: 0.9461\n",
      "Epoch 9/100\n",
      "193/193 [==============================] - 63s 325ms/step - loss: 0.0737 - accuracy: 0.9772 - val_loss: 0.1809 - val_accuracy: 0.9451\n",
      "Epoch 10/100\n",
      "193/193 [==============================] - 63s 326ms/step - loss: 0.0549 - accuracy: 0.9818 - val_loss: 0.1614 - val_accuracy: 0.9529\n",
      "Epoch 11/100\n",
      "193/193 [==============================] - 63s 325ms/step - loss: 0.0629 - accuracy: 0.9797 - val_loss: 0.1752 - val_accuracy: 0.9490\n",
      "Epoch 12/100\n",
      "193/193 [==============================] - 63s 323ms/step - loss: 0.0595 - accuracy: 0.9819 - val_loss: 0.1706 - val_accuracy: 0.9500\n",
      "Epoch 13/100\n",
      "193/193 [==============================] - 63s 325ms/step - loss: 0.0574 - accuracy: 0.9815 - val_loss: 0.1632 - val_accuracy: 0.9480\n",
      "Epoch 14/100\n",
      "193/193 [==============================] - 63s 326ms/step - loss: 0.0554 - accuracy: 0.9819 - val_loss: 0.1568 - val_accuracy: 0.9520\n",
      "Epoch 15/100\n",
      "193/193 [==============================] - 63s 325ms/step - loss: 0.0417 - accuracy: 0.9865 - val_loss: 0.1605 - val_accuracy: 0.9520\n",
      "Epoch 16/100\n",
      "193/193 [==============================] - 63s 325ms/step - loss: 0.0437 - accuracy: 0.9859 - val_loss: 0.1571 - val_accuracy: 0.9578\n",
      "Epoch 17/100\n",
      "193/193 [==============================] - 63s 326ms/step - loss: 0.0387 - accuracy: 0.9876 - val_loss: 0.1481 - val_accuracy: 0.9549\n",
      "Epoch 18/100\n",
      "193/193 [==============================] - 63s 325ms/step - loss: 0.0398 - accuracy: 0.9870 - val_loss: 0.1443 - val_accuracy: 0.9569\n",
      "Epoch 19/100\n",
      "193/193 [==============================] - 63s 325ms/step - loss: 0.0389 - accuracy: 0.9875 - val_loss: 0.1516 - val_accuracy: 0.9559\n",
      "Epoch 20/100\n",
      "193/193 [==============================] - 63s 325ms/step - loss: 0.0340 - accuracy: 0.9885 - val_loss: 0.1467 - val_accuracy: 0.9578\n",
      "Epoch 21/100\n",
      "193/193 [==============================] - 63s 326ms/step - loss: 0.0339 - accuracy: 0.9888 - val_loss: 0.1390 - val_accuracy: 0.9598\n",
      "Epoch 22/100\n",
      "193/193 [==============================] - 63s 325ms/step - loss: 0.0295 - accuracy: 0.9912 - val_loss: 0.1419 - val_accuracy: 0.9569\n",
      "Epoch 23/100\n",
      "193/193 [==============================] - 63s 325ms/step - loss: 0.0460 - accuracy: 0.9865 - val_loss: 0.1398 - val_accuracy: 0.9578\n",
      "Epoch 24/100\n",
      "193/193 [==============================] - 63s 325ms/step - loss: 0.0344 - accuracy: 0.9885 - val_loss: 0.1431 - val_accuracy: 0.9578\n",
      "Epoch 25/100\n",
      "193/193 [==============================] - 63s 325ms/step - loss: 0.0295 - accuracy: 0.9898 - val_loss: 0.1453 - val_accuracy: 0.9569\n",
      "Epoch 26/100\n",
      "193/193 [==============================] - 63s 326ms/step - loss: 0.0287 - accuracy: 0.9906 - val_loss: 0.1477 - val_accuracy: 0.9578\n",
      "INFO:tensorflow:Assets written to: models\\oxford_flowers102\\effnetB3\\assets\n"
     ]
    },
    {
     "name": "stderr",
     "output_type": "stream",
     "text": [
      "INFO:tensorflow:Assets written to: models\\oxford_flowers102\\effnetB3\\assets\n"
     ]
    },
    {
     "data": {
      "text/plain": [
       "(<keras.callbacks.History at 0x1d8e65d8b20>,\n",
       " <keras.callbacks.History at 0x1d8e9bcf340>)"
      ]
     },
     "execution_count": 7,
     "metadata": {},
     "output_type": "execute_result"
    }
   ],
   "source": [
    "model_name = \"effnetB3\"\n",
    "dropout_rate = 0.7\n",
    "train_on_dataset(model_name, dataset_name, dropout_rate)"
   ]
  },
  {
   "cell_type": "code",
   "execution_count": 8,
   "id": "4eb320ec",
   "metadata": {
    "collapsed": true
   },
   "outputs": [
    {
     "name": "stdout",
     "output_type": "stream",
     "text": [
      "Epoch 1/100\n",
      "193/193 [==============================] - 25s 97ms/step - loss: 1.7712 - accuracy: 0.6073 - val_loss: 1.1879 - val_accuracy: 0.8422\n",
      "Epoch 2/100\n",
      "193/193 [==============================] - 15s 79ms/step - loss: 0.3621 - accuracy: 0.9177 - val_loss: 0.4724 - val_accuracy: 0.8990\n",
      "Epoch 3/100\n",
      "193/193 [==============================] - 15s 78ms/step - loss: 0.1808 - accuracy: 0.9610 - val_loss: 0.3676 - val_accuracy: 0.9059\n",
      "Epoch 4/100\n",
      "193/193 [==============================] - 15s 78ms/step - loss: 0.1070 - accuracy: 0.9777 - val_loss: 0.3251 - val_accuracy: 0.9069\n",
      "Epoch 5/100\n",
      "193/193 [==============================] - 15s 79ms/step - loss: 0.0711 - accuracy: 0.9880 - val_loss: 0.2909 - val_accuracy: 0.9137\n",
      "Epoch 6/100\n",
      "193/193 [==============================] - 15s 79ms/step - loss: 0.0563 - accuracy: 0.9912 - val_loss: 0.2772 - val_accuracy: 0.9255\n",
      "Epoch 7/100\n",
      "193/193 [==============================] - 15s 78ms/step - loss: 0.0409 - accuracy: 0.9938 - val_loss: 0.2721 - val_accuracy: 0.9216\n",
      "Epoch 8/100\n",
      "193/193 [==============================] - 15s 78ms/step - loss: 0.0342 - accuracy: 0.9953 - val_loss: 0.2744 - val_accuracy: 0.9167\n",
      "Epoch 9/100\n",
      "193/193 [==============================] - 15s 79ms/step - loss: 0.0269 - accuracy: 0.9963 - val_loss: 0.2697 - val_accuracy: 0.9196\n",
      "Epoch 10/100\n",
      "193/193 [==============================] - 15s 78ms/step - loss: 0.0218 - accuracy: 0.9969 - val_loss: 0.2742 - val_accuracy: 0.9245\n",
      "Epoch 11/100\n",
      "193/193 [==============================] - 15s 78ms/step - loss: 0.0253 - accuracy: 0.9948 - val_loss: 0.2805 - val_accuracy: 0.9225\n",
      "Epoch 12/100\n",
      "193/193 [==============================] - 15s 78ms/step - loss: 0.0218 - accuracy: 0.9971 - val_loss: 0.2704 - val_accuracy: 0.9225\n",
      "Epoch 13/100\n",
      "193/193 [==============================] - 15s 79ms/step - loss: 0.0213 - accuracy: 0.9959 - val_loss: 0.2638 - val_accuracy: 0.9275\n",
      "Epoch 14/100\n",
      "193/193 [==============================] - 15s 79ms/step - loss: 0.0155 - accuracy: 0.9977 - val_loss: 0.2534 - val_accuracy: 0.9333\n",
      "Epoch 15/100\n",
      "193/193 [==============================] - 15s 78ms/step - loss: 0.0155 - accuracy: 0.9959 - val_loss: 0.2655 - val_accuracy: 0.9284\n",
      "Epoch 16/100\n",
      "193/193 [==============================] - 15s 79ms/step - loss: 0.0144 - accuracy: 0.9966 - val_loss: 0.2569 - val_accuracy: 0.9373\n",
      "Epoch 17/100\n",
      "193/193 [==============================] - 15s 78ms/step - loss: 0.0154 - accuracy: 0.9967 - val_loss: 0.2595 - val_accuracy: 0.9324\n",
      "Epoch 18/100\n",
      "193/193 [==============================] - 15s 78ms/step - loss: 0.0107 - accuracy: 0.9979 - val_loss: 0.2698 - val_accuracy: 0.9294\n",
      "Epoch 19/100\n",
      "193/193 [==============================] - 15s 79ms/step - loss: 0.0085 - accuracy: 0.9992 - val_loss: 0.2576 - val_accuracy: 0.9304\n",
      "Epoch 1/100\n",
      "193/193 [==============================] - 23s 94ms/step - loss: 0.0125 - accuracy: 0.9984 - val_loss: 0.2165 - val_accuracy: 0.9392\n",
      "Epoch 2/100\n",
      "193/193 [==============================] - 17s 87ms/step - loss: 0.0056 - accuracy: 0.9992 - val_loss: 0.2098 - val_accuracy: 0.9431\n",
      "Epoch 3/100\n",
      "193/193 [==============================] - 17s 87ms/step - loss: 0.0066 - accuracy: 0.9992 - val_loss: 0.1979 - val_accuracy: 0.9441\n",
      "Epoch 4/100\n",
      "193/193 [==============================] - 17s 87ms/step - loss: 0.0059 - accuracy: 0.9993 - val_loss: 0.1852 - val_accuracy: 0.9539\n",
      "Epoch 5/100\n",
      "193/193 [==============================] - 17s 87ms/step - loss: 0.0043 - accuracy: 0.9995 - val_loss: 0.1898 - val_accuracy: 0.9471\n",
      "Epoch 6/100\n",
      "193/193 [==============================] - 17s 87ms/step - loss: 0.0037 - accuracy: 0.9995 - val_loss: 0.1829 - val_accuracy: 0.9500\n",
      "Epoch 7/100\n",
      "193/193 [==============================] - 17s 87ms/step - loss: 0.0033 - accuracy: 0.9997 - val_loss: 0.1936 - val_accuracy: 0.9480\n",
      "Epoch 8/100\n",
      "193/193 [==============================] - 17s 87ms/step - loss: 0.0032 - accuracy: 0.9997 - val_loss: 0.1808 - val_accuracy: 0.9471\n",
      "Epoch 9/100\n",
      "193/193 [==============================] - 17s 87ms/step - loss: 0.0029 - accuracy: 0.9998 - val_loss: 0.1794 - val_accuracy: 0.9500\n",
      "Epoch 10/100\n",
      "193/193 [==============================] - 17s 87ms/step - loss: 0.0026 - accuracy: 0.9997 - val_loss: 0.1793 - val_accuracy: 0.9500\n",
      "Epoch 11/100\n",
      "193/193 [==============================] - 17s 87ms/step - loss: 0.0032 - accuracy: 0.9997 - val_loss: 0.1858 - val_accuracy: 0.9500\n",
      "Epoch 12/100\n",
      "193/193 [==============================] - 17s 87ms/step - loss: 0.0031 - accuracy: 0.9992 - val_loss: 0.1859 - val_accuracy: 0.9510\n",
      "Epoch 13/100\n",
      "193/193 [==============================] - 17s 87ms/step - loss: 0.0022 - accuracy: 0.9997 - val_loss: 0.1825 - val_accuracy: 0.9529\n",
      "Epoch 14/100\n",
      "193/193 [==============================] - 17s 87ms/step - loss: 0.0030 - accuracy: 0.9997 - val_loss: 0.1861 - val_accuracy: 0.9471\n",
      "Epoch 15/100\n",
      "193/193 [==============================] - 17s 87ms/step - loss: 0.0027 - accuracy: 0.9995 - val_loss: 0.1672 - val_accuracy: 0.9569\n",
      "Epoch 16/100\n",
      "193/193 [==============================] - 17s 87ms/step - loss: 0.0011 - accuracy: 1.0000 - val_loss: 0.1585 - val_accuracy: 0.9588\n",
      "Epoch 17/100\n",
      "193/193 [==============================] - 17s 87ms/step - loss: 8.6374e-04 - accuracy: 1.0000 - val_loss: 0.1577 - val_accuracy: 0.9598\n",
      "Epoch 18/100\n",
      "193/193 [==============================] - 17s 87ms/step - loss: 7.5065e-04 - accuracy: 1.0000 - val_loss: 0.1612 - val_accuracy: 0.9539\n",
      "Epoch 19/100\n",
      "193/193 [==============================] - 17s 87ms/step - loss: 9.2241e-04 - accuracy: 0.9998 - val_loss: 0.1644 - val_accuracy: 0.9529\n",
      "Epoch 20/100\n",
      "193/193 [==============================] - 17s 87ms/step - loss: 0.0023 - accuracy: 0.9998 - val_loss: 0.1698 - val_accuracy: 0.9569\n",
      "Epoch 21/100\n",
      "193/193 [==============================] - 17s 87ms/step - loss: 0.0022 - accuracy: 0.9997 - val_loss: 0.1738 - val_accuracy: 0.9578\n",
      "Epoch 22/100\n",
      "193/193 [==============================] - 17s 87ms/step - loss: 0.0019 - accuracy: 0.9997 - val_loss: 0.1623 - val_accuracy: 0.9598\n",
      "INFO:tensorflow:Assets written to: models\\oxford_flowers102\\effnetv2B0\\assets\n"
     ]
    },
    {
     "name": "stderr",
     "output_type": "stream",
     "text": [
      "INFO:tensorflow:Assets written to: models\\oxford_flowers102\\effnetv2B0\\assets\n"
     ]
    },
    {
     "data": {
      "text/plain": [
       "(<keras.callbacks.History at 0x1e1f46ee160>,\n",
       " <keras.callbacks.History at 0x1e1692c95e0>)"
      ]
     },
     "execution_count": 8,
     "metadata": {},
     "output_type": "execute_result"
    }
   ],
   "source": [
    "model_name = \"effnetv2B0\"\n",
    "dropout_rate = 0.3\n",
    "train_on_dataset(model_name, dataset_name, dropout_rate)"
   ]
  },
  {
   "cell_type": "code",
   "execution_count": 9,
   "id": "042405fa",
   "metadata": {
    "collapsed": true
   },
   "outputs": [
    {
     "name": "stdout",
     "output_type": "stream",
     "text": [
      "Epoch 1/100\n",
      "193/193 [==============================] - 31s 123ms/step - loss: 2.4962 - accuracy: 0.4643 - val_loss: 1.4014 - val_accuracy: 0.7804\n",
      "Epoch 2/100\n",
      "193/193 [==============================] - 22s 111ms/step - loss: 0.6795 - accuracy: 0.8227 - val_loss: 0.5639 - val_accuracy: 0.8716\n",
      "Epoch 3/100\n",
      "193/193 [==============================] - 22s 111ms/step - loss: 0.3860 - accuracy: 0.8980 - val_loss: 0.4274 - val_accuracy: 0.8951\n",
      "Epoch 4/100\n",
      "193/193 [==============================] - 22s 111ms/step - loss: 0.2587 - accuracy: 0.9310 - val_loss: 0.3842 - val_accuracy: 0.9000\n",
      "Epoch 5/100\n",
      "193/193 [==============================] - 22s 112ms/step - loss: 0.2000 - accuracy: 0.9445 - val_loss: 0.3576 - val_accuracy: 0.9118\n",
      "Epoch 6/100\n",
      "193/193 [==============================] - 22s 112ms/step - loss: 0.1566 - accuracy: 0.9584 - val_loss: 0.3419 - val_accuracy: 0.9127\n",
      "Epoch 7/100\n",
      "193/193 [==============================] - 22s 112ms/step - loss: 0.1253 - accuracy: 0.9665 - val_loss: 0.3240 - val_accuracy: 0.9167\n",
      "Epoch 8/100\n",
      "193/193 [==============================] - 22s 111ms/step - loss: 0.1031 - accuracy: 0.9706 - val_loss: 0.3324 - val_accuracy: 0.9059\n",
      "Epoch 9/100\n",
      "193/193 [==============================] - 22s 112ms/step - loss: 0.0976 - accuracy: 0.9706 - val_loss: 0.3173 - val_accuracy: 0.9078\n",
      "Epoch 10/100\n",
      "193/193 [==============================] - 22s 112ms/step - loss: 0.0899 - accuracy: 0.9741 - val_loss: 0.3157 - val_accuracy: 0.9137\n",
      "Epoch 11/100\n",
      "193/193 [==============================] - 22s 111ms/step - loss: 0.0794 - accuracy: 0.9798 - val_loss: 0.3189 - val_accuracy: 0.9147\n",
      "Epoch 12/100\n",
      "193/193 [==============================] - 22s 112ms/step - loss: 0.0673 - accuracy: 0.9813 - val_loss: 0.3071 - val_accuracy: 0.9186\n",
      "Epoch 13/100\n",
      "193/193 [==============================] - 22s 112ms/step - loss: 0.0722 - accuracy: 0.9777 - val_loss: 0.2971 - val_accuracy: 0.9255\n",
      "Epoch 14/100\n",
      "193/193 [==============================] - 22s 111ms/step - loss: 0.0666 - accuracy: 0.9798 - val_loss: 0.3099 - val_accuracy: 0.9225\n",
      "Epoch 15/100\n",
      "193/193 [==============================] - 22s 111ms/step - loss: 0.0599 - accuracy: 0.9826 - val_loss: 0.3186 - val_accuracy: 0.9255\n",
      "Epoch 16/100\n",
      "193/193 [==============================] - 22s 111ms/step - loss: 0.0541 - accuracy: 0.9847 - val_loss: 0.3122 - val_accuracy: 0.9206\n",
      "Epoch 17/100\n",
      "193/193 [==============================] - 22s 111ms/step - loss: 0.0624 - accuracy: 0.9790 - val_loss: 0.3242 - val_accuracy: 0.9216\n",
      "Epoch 18/100\n",
      "193/193 [==============================] - 22s 112ms/step - loss: 0.0385 - accuracy: 0.9868 - val_loss: 0.3146 - val_accuracy: 0.9176\n",
      "Epoch 1/100\n",
      "193/193 [==============================] - 32s 128ms/step - loss: 0.0475 - accuracy: 0.9863 - val_loss: 0.2429 - val_accuracy: 0.9382\n",
      "Epoch 2/100\n",
      "193/193 [==============================] - 23s 120ms/step - loss: 0.0354 - accuracy: 0.9896 - val_loss: 0.2373 - val_accuracy: 0.9402\n",
      "Epoch 3/100\n",
      "193/193 [==============================] - 23s 120ms/step - loss: 0.0265 - accuracy: 0.9924 - val_loss: 0.2190 - val_accuracy: 0.9441\n",
      "Epoch 4/100\n",
      "193/193 [==============================] - 23s 120ms/step - loss: 0.0236 - accuracy: 0.9951 - val_loss: 0.2143 - val_accuracy: 0.9431\n",
      "Epoch 5/100\n",
      "193/193 [==============================] - 23s 120ms/step - loss: 0.0186 - accuracy: 0.9956 - val_loss: 0.2121 - val_accuracy: 0.9402\n",
      "Epoch 6/100\n",
      "193/193 [==============================] - 23s 120ms/step - loss: 0.0197 - accuracy: 0.9950 - val_loss: 0.2082 - val_accuracy: 0.9412\n",
      "Epoch 7/100\n",
      "193/193 [==============================] - 23s 120ms/step - loss: 0.0151 - accuracy: 0.9974 - val_loss: 0.2022 - val_accuracy: 0.9441\n",
      "Epoch 8/100\n",
      "193/193 [==============================] - 23s 120ms/step - loss: 0.0140 - accuracy: 0.9972 - val_loss: 0.2074 - val_accuracy: 0.9451\n",
      "Epoch 9/100\n",
      "193/193 [==============================] - 23s 120ms/step - loss: 0.0108 - accuracy: 0.9979 - val_loss: 0.1906 - val_accuracy: 0.9510\n",
      "Epoch 10/100\n",
      "193/193 [==============================] - 23s 120ms/step - loss: 0.0130 - accuracy: 0.9966 - val_loss: 0.1927 - val_accuracy: 0.9500\n",
      "Epoch 11/100\n",
      "193/193 [==============================] - 23s 120ms/step - loss: 0.0104 - accuracy: 0.9977 - val_loss: 0.1791 - val_accuracy: 0.9529\n",
      "Epoch 12/100\n",
      "193/193 [==============================] - 23s 120ms/step - loss: 0.0096 - accuracy: 0.9984 - val_loss: 0.1807 - val_accuracy: 0.9510\n",
      "Epoch 13/100\n",
      "193/193 [==============================] - 23s 120ms/step - loss: 0.0097 - accuracy: 0.9977 - val_loss: 0.1800 - val_accuracy: 0.9490\n",
      "Epoch 14/100\n",
      "193/193 [==============================] - 23s 120ms/step - loss: 0.0080 - accuracy: 0.9980 - val_loss: 0.1701 - val_accuracy: 0.9549\n",
      "Epoch 15/100\n",
      "193/193 [==============================] - 23s 120ms/step - loss: 0.0085 - accuracy: 0.9980 - val_loss: 0.1676 - val_accuracy: 0.9549\n",
      "Epoch 16/100\n",
      "193/193 [==============================] - 23s 120ms/step - loss: 0.0075 - accuracy: 0.9990 - val_loss: 0.1717 - val_accuracy: 0.9539\n",
      "Epoch 17/100\n",
      "193/193 [==============================] - 23s 120ms/step - loss: 0.0098 - accuracy: 0.9979 - val_loss: 0.1750 - val_accuracy: 0.9520\n",
      "Epoch 18/100\n",
      "193/193 [==============================] - 23s 120ms/step - loss: 0.0067 - accuracy: 0.9985 - val_loss: 0.1857 - val_accuracy: 0.9471\n",
      "Epoch 19/100\n",
      "193/193 [==============================] - 23s 120ms/step - loss: 0.0065 - accuracy: 0.9987 - val_loss: 0.1817 - val_accuracy: 0.9529\n",
      "Epoch 20/100\n",
      "193/193 [==============================] - 23s 120ms/step - loss: 0.0072 - accuracy: 0.9989 - val_loss: 0.1774 - val_accuracy: 0.9539\n",
      "INFO:tensorflow:Assets written to: models\\oxford_flowers102\\effnetv2B1\\assets\n"
     ]
    },
    {
     "name": "stderr",
     "output_type": "stream",
     "text": [
      "INFO:tensorflow:Assets written to: models\\oxford_flowers102\\effnetv2B1\\assets\n"
     ]
    },
    {
     "data": {
      "text/plain": [
       "(<keras.callbacks.History at 0x1e1f4445700>,\n",
       " <keras.callbacks.History at 0x1e1699068e0>)"
      ]
     },
     "execution_count": 9,
     "metadata": {},
     "output_type": "execute_result"
    }
   ],
   "source": [
    "model_name = \"effnetv2B1\"\n",
    "dropout_rate = 0.55\n",
    "train_on_dataset(model_name, dataset_name, dropout_rate)"
   ]
  },
  {
   "cell_type": "code",
   "execution_count": 10,
   "id": "eb885952",
   "metadata": {
    "collapsed": true
   },
   "outputs": [
    {
     "name": "stdout",
     "output_type": "stream",
     "text": [
      "Epoch 1/100\n",
      "193/193 [==============================] - 38s 158ms/step - loss: 2.2889 - accuracy: 0.4986 - val_loss: 1.3328 - val_accuracy: 0.7784\n",
      "Epoch 2/100\n",
      "193/193 [==============================] - 27s 142ms/step - loss: 0.6218 - accuracy: 0.8301 - val_loss: 0.5121 - val_accuracy: 0.8745\n",
      "Epoch 3/100\n",
      "193/193 [==============================] - 28s 142ms/step - loss: 0.3583 - accuracy: 0.9031 - val_loss: 0.3819 - val_accuracy: 0.8951\n",
      "Epoch 4/100\n",
      "193/193 [==============================] - 28s 142ms/step - loss: 0.2315 - accuracy: 0.9372 - val_loss: 0.3310 - val_accuracy: 0.9069\n",
      "Epoch 5/100\n",
      "193/193 [==============================] - 28s 142ms/step - loss: 0.1755 - accuracy: 0.9491 - val_loss: 0.2926 - val_accuracy: 0.9157\n",
      "Epoch 6/100\n",
      "193/193 [==============================] - 28s 142ms/step - loss: 0.1241 - accuracy: 0.9665 - val_loss: 0.2810 - val_accuracy: 0.9225\n",
      "Epoch 7/100\n",
      "193/193 [==============================] - 27s 141ms/step - loss: 0.1136 - accuracy: 0.9676 - val_loss: 0.2839 - val_accuracy: 0.9265\n",
      "Epoch 8/100\n",
      "193/193 [==============================] - 27s 141ms/step - loss: 0.1034 - accuracy: 0.9693 - val_loss: 0.2820 - val_accuracy: 0.9275\n",
      "Epoch 9/100\n",
      "193/193 [==============================] - 28s 142ms/step - loss: 0.0848 - accuracy: 0.9751 - val_loss: 0.2785 - val_accuracy: 0.9255\n",
      "Epoch 10/100\n",
      "193/193 [==============================] - 28s 142ms/step - loss: 0.0781 - accuracy: 0.9779 - val_loss: 0.2742 - val_accuracy: 0.9245\n",
      "Epoch 11/100\n",
      "193/193 [==============================] - 28s 142ms/step - loss: 0.0634 - accuracy: 0.9821 - val_loss: 0.2709 - val_accuracy: 0.9265\n",
      "Epoch 12/100\n",
      "193/193 [==============================] - 28s 142ms/step - loss: 0.0596 - accuracy: 0.9837 - val_loss: 0.2568 - val_accuracy: 0.9294\n",
      "Epoch 13/100\n",
      "193/193 [==============================] - 27s 141ms/step - loss: 0.0657 - accuracy: 0.9803 - val_loss: 0.2581 - val_accuracy: 0.9333\n",
      "Epoch 14/100\n",
      "193/193 [==============================] - 27s 142ms/step - loss: 0.0568 - accuracy: 0.9829 - val_loss: 0.2731 - val_accuracy: 0.9245\n",
      "Epoch 15/100\n",
      "193/193 [==============================] - 28s 144ms/step - loss: 0.0511 - accuracy: 0.9854 - val_loss: 0.2702 - val_accuracy: 0.9363\n",
      "Epoch 16/100\n",
      "193/193 [==============================] - 28s 144ms/step - loss: 0.0590 - accuracy: 0.9826 - val_loss: 0.2669 - val_accuracy: 0.9353\n",
      "Epoch 17/100\n",
      "193/193 [==============================] - 28s 144ms/step - loss: 0.0534 - accuracy: 0.9839 - val_loss: 0.2793 - val_accuracy: 0.9343\n",
      "Epoch 1/100\n",
      "193/193 [==============================] - 38s 168ms/step - loss: 0.0373 - accuracy: 0.9898 - val_loss: 0.2144 - val_accuracy: 0.9392\n",
      "Epoch 2/100\n",
      "193/193 [==============================] - 31s 159ms/step - loss: 0.0274 - accuracy: 0.9914 - val_loss: 0.1955 - val_accuracy: 0.9402\n",
      "Epoch 3/100\n",
      "193/193 [==============================] - 31s 160ms/step - loss: 0.0248 - accuracy: 0.9933 - val_loss: 0.1907 - val_accuracy: 0.9441\n",
      "Epoch 4/100\n",
      "193/193 [==============================] - 31s 160ms/step - loss: 0.0168 - accuracy: 0.9961 - val_loss: 0.1843 - val_accuracy: 0.9461\n",
      "Epoch 5/100\n",
      "193/193 [==============================] - 31s 159ms/step - loss: 0.0174 - accuracy: 0.9961 - val_loss: 0.1798 - val_accuracy: 0.9490\n",
      "Epoch 6/100\n",
      "193/193 [==============================] - 31s 158ms/step - loss: 0.0171 - accuracy: 0.9964 - val_loss: 0.1809 - val_accuracy: 0.9510\n",
      "Epoch 7/100\n",
      "193/193 [==============================] - 31s 159ms/step - loss: 0.0167 - accuracy: 0.9958 - val_loss: 0.1757 - val_accuracy: 0.9480\n",
      "Epoch 8/100\n",
      "193/193 [==============================] - 31s 158ms/step - loss: 0.0144 - accuracy: 0.9953 - val_loss: 0.1827 - val_accuracy: 0.9520\n",
      "Epoch 9/100\n",
      "193/193 [==============================] - 31s 159ms/step - loss: 0.0115 - accuracy: 0.9974 - val_loss: 0.1750 - val_accuracy: 0.9500\n",
      "Epoch 10/100\n",
      "193/193 [==============================] - 31s 159ms/step - loss: 0.0095 - accuracy: 0.9977 - val_loss: 0.1787 - val_accuracy: 0.9480\n",
      "Epoch 11/100\n",
      "193/193 [==============================] - 31s 159ms/step - loss: 0.0083 - accuracy: 0.9982 - val_loss: 0.1608 - val_accuracy: 0.9569\n",
      "Epoch 12/100\n",
      "193/193 [==============================] - 31s 158ms/step - loss: 0.0061 - accuracy: 0.9989 - val_loss: 0.1628 - val_accuracy: 0.9588\n",
      "Epoch 13/100\n",
      "193/193 [==============================] - 31s 158ms/step - loss: 0.0090 - accuracy: 0.9979 - val_loss: 0.1635 - val_accuracy: 0.9569\n",
      "Epoch 14/100\n",
      "193/193 [==============================] - 31s 159ms/step - loss: 0.0066 - accuracy: 0.9989 - val_loss: 0.1541 - val_accuracy: 0.9578\n",
      "Epoch 15/100\n",
      "193/193 [==============================] - 31s 159ms/step - loss: 0.0064 - accuracy: 0.9987 - val_loss: 0.1540 - val_accuracy: 0.9569\n",
      "Epoch 16/100\n",
      "193/193 [==============================] - 31s 161ms/step - loss: 0.0059 - accuracy: 0.9989 - val_loss: 0.1540 - val_accuracy: 0.9578\n",
      "Epoch 17/100\n",
      "193/193 [==============================] - 32s 163ms/step - loss: 0.0051 - accuracy: 0.9997 - val_loss: 0.1519 - val_accuracy: 0.9578\n",
      "Epoch 18/100\n",
      "193/193 [==============================] - 30s 157ms/step - loss: 0.0059 - accuracy: 0.9989 - val_loss: 0.1583 - val_accuracy: 0.9559\n",
      "Epoch 19/100\n",
      "193/193 [==============================] - 30s 156ms/step - loss: 0.0034 - accuracy: 0.9995 - val_loss: 0.1556 - val_accuracy: 0.9559\n",
      "Epoch 20/100\n",
      "193/193 [==============================] - 30s 157ms/step - loss: 0.0058 - accuracy: 0.9990 - val_loss: 0.1468 - val_accuracy: 0.9608\n",
      "Epoch 21/100\n",
      "193/193 [==============================] - 30s 157ms/step - loss: 0.0050 - accuracy: 0.9987 - val_loss: 0.1546 - val_accuracy: 0.9569\n",
      "Epoch 22/100\n",
      "193/193 [==============================] - 30s 156ms/step - loss: 0.0057 - accuracy: 0.9989 - val_loss: 0.1524 - val_accuracy: 0.9598\n",
      "Epoch 23/100\n",
      "193/193 [==============================] - 30s 156ms/step - loss: 0.0057 - accuracy: 0.9987 - val_loss: 0.1555 - val_accuracy: 0.9608\n",
      "Epoch 24/100\n",
      "193/193 [==============================] - 30s 156ms/step - loss: 0.0032 - accuracy: 0.9993 - val_loss: 0.1544 - val_accuracy: 0.9608\n",
      "Epoch 25/100\n",
      "193/193 [==============================] - 30s 157ms/step - loss: 0.0048 - accuracy: 0.9982 - val_loss: 0.1574 - val_accuracy: 0.9569\n",
      "INFO:tensorflow:Assets written to: models\\oxford_flowers102\\effnetv2B2\\assets\n"
     ]
    },
    {
     "name": "stderr",
     "output_type": "stream",
     "text": [
      "INFO:tensorflow:Assets written to: models\\oxford_flowers102\\effnetv2B2\\assets\n"
     ]
    },
    {
     "data": {
      "text/plain": [
       "(<keras.callbacks.History at 0x1e1f4117550>,\n",
       " <keras.callbacks.History at 0x1e209471f10>)"
      ]
     },
     "execution_count": 10,
     "metadata": {},
     "output_type": "execute_result"
    }
   ],
   "source": [
    "model_name = \"effnetv2B2\"\n",
    "dropout_rate = 0.55\n",
    "train_on_dataset(model_name, dataset_name, dropout_rate)"
   ]
  },
  {
   "cell_type": "code",
   "execution_count": 8,
   "id": "4d73f670",
   "metadata": {
    "collapsed": true
   },
   "outputs": [
    {
     "name": "stdout",
     "output_type": "stream",
     "text": [
      "Epoch 1/100\n",
      "193/193 [==============================] - 55s 242ms/step - loss: 2.9678 - accuracy: 0.4061 - val_loss: 1.4010 - val_accuracy: 0.7637\n",
      "Epoch 2/100\n",
      "193/193 [==============================] - 43s 223ms/step - loss: 0.8842 - accuracy: 0.7639 - val_loss: 0.5297 - val_accuracy: 0.8755\n",
      "Epoch 3/100\n",
      "193/193 [==============================] - 43s 224ms/step - loss: 0.5476 - accuracy: 0.8445 - val_loss: 0.3735 - val_accuracy: 0.9020\n",
      "Epoch 4/100\n",
      "193/193 [==============================] - 43s 224ms/step - loss: 0.4054 - accuracy: 0.8888 - val_loss: 0.3206 - val_accuracy: 0.9098\n",
      "Epoch 5/100\n",
      "193/193 [==============================] - 43s 224ms/step - loss: 0.3010 - accuracy: 0.9112 - val_loss: 0.2997 - val_accuracy: 0.9137\n",
      "Epoch 6/100\n",
      "193/193 [==============================] - 43s 224ms/step - loss: 0.2575 - accuracy: 0.9250 - val_loss: 0.2770 - val_accuracy: 0.9284\n",
      "Epoch 7/100\n",
      "193/193 [==============================] - 43s 224ms/step - loss: 0.2064 - accuracy: 0.9384 - val_loss: 0.2672 - val_accuracy: 0.9255\n",
      "Epoch 8/100\n",
      "193/193 [==============================] - 43s 224ms/step - loss: 0.1977 - accuracy: 0.9405 - val_loss: 0.2514 - val_accuracy: 0.9314\n",
      "Epoch 9/100\n",
      "193/193 [==============================] - 43s 224ms/step - loss: 0.1725 - accuracy: 0.9470 - val_loss: 0.2504 - val_accuracy: 0.9216\n",
      "Epoch 10/100\n",
      "193/193 [==============================] - 43s 224ms/step - loss: 0.1515 - accuracy: 0.9535 - val_loss: 0.2281 - val_accuracy: 0.9314\n",
      "Epoch 11/100\n",
      "193/193 [==============================] - 43s 223ms/step - loss: 0.1423 - accuracy: 0.9553 - val_loss: 0.2295 - val_accuracy: 0.9363\n",
      "Epoch 12/100\n",
      "193/193 [==============================] - 43s 223ms/step - loss: 0.1371 - accuracy: 0.9577 - val_loss: 0.2305 - val_accuracy: 0.9353\n",
      "Epoch 13/100\n",
      "193/193 [==============================] - 43s 223ms/step - loss: 0.1338 - accuracy: 0.9587 - val_loss: 0.2353 - val_accuracy: 0.9343\n",
      "Epoch 14/100\n",
      "193/193 [==============================] - 43s 223ms/step - loss: 0.1197 - accuracy: 0.9637 - val_loss: 0.2312 - val_accuracy: 0.9382\n",
      "Epoch 15/100\n",
      "193/193 [==============================] - 43s 224ms/step - loss: 0.1188 - accuracy: 0.9618 - val_loss: 0.2531 - val_accuracy: 0.9284\n",
      "Epoch 1/100\n",
      "193/193 [==============================] - 57s 254ms/step - loss: 0.1091 - accuracy: 0.9680 - val_loss: 0.1739 - val_accuracy: 0.9500\n",
      "Epoch 2/100\n",
      "193/193 [==============================] - 47s 244ms/step - loss: 0.0867 - accuracy: 0.9709 - val_loss: 0.1625 - val_accuracy: 0.9569\n",
      "Epoch 3/100\n",
      "193/193 [==============================] - 47s 243ms/step - loss: 0.0663 - accuracy: 0.9795 - val_loss: 0.1612 - val_accuracy: 0.9559\n",
      "Epoch 4/100\n",
      "193/193 [==============================] - 47s 243ms/step - loss: 0.0578 - accuracy: 0.9808 - val_loss: 0.1497 - val_accuracy: 0.9657\n",
      "Epoch 5/100\n",
      "193/193 [==============================] - 47s 244ms/step - loss: 0.0433 - accuracy: 0.9872 - val_loss: 0.1472 - val_accuracy: 0.9618\n",
      "Epoch 6/100\n",
      "193/193 [==============================] - 47s 244ms/step - loss: 0.0392 - accuracy: 0.9883 - val_loss: 0.1498 - val_accuracy: 0.9569\n",
      "Epoch 7/100\n",
      "193/193 [==============================] - 47s 244ms/step - loss: 0.0373 - accuracy: 0.9891 - val_loss: 0.1418 - val_accuracy: 0.9667\n",
      "Epoch 8/100\n",
      "193/193 [==============================] - 47s 244ms/step - loss: 0.0318 - accuracy: 0.9904 - val_loss: 0.1277 - val_accuracy: 0.9686\n",
      "Epoch 9/100\n",
      "193/193 [==============================] - 47s 244ms/step - loss: 0.0299 - accuracy: 0.9915 - val_loss: 0.1296 - val_accuracy: 0.9667\n",
      "Epoch 10/100\n",
      "193/193 [==============================] - 47s 243ms/step - loss: 0.0285 - accuracy: 0.9904 - val_loss: 0.1317 - val_accuracy: 0.9686\n",
      "Epoch 11/100\n",
      "193/193 [==============================] - 47s 244ms/step - loss: 0.0237 - accuracy: 0.9935 - val_loss: 0.1212 - val_accuracy: 0.9676\n",
      "Epoch 12/100\n",
      "193/193 [==============================] - 47s 243ms/step - loss: 0.0258 - accuracy: 0.9919 - val_loss: 0.1273 - val_accuracy: 0.9657\n",
      "Epoch 13/100\n",
      "193/193 [==============================] - 47s 243ms/step - loss: 0.0180 - accuracy: 0.9948 - val_loss: 0.1261 - val_accuracy: 0.9657\n",
      "Epoch 14/100\n",
      "193/193 [==============================] - 47s 243ms/step - loss: 0.0180 - accuracy: 0.9940 - val_loss: 0.1227 - val_accuracy: 0.9716\n",
      "Epoch 15/100\n",
      "193/193 [==============================] - 47s 243ms/step - loss: 0.0193 - accuracy: 0.9937 - val_loss: 0.1283 - val_accuracy: 0.9657\n",
      "Epoch 16/100\n",
      "193/193 [==============================] - 47s 244ms/step - loss: 0.0118 - accuracy: 0.9967 - val_loss: 0.1257 - val_accuracy: 0.9667\n",
      "INFO:tensorflow:Assets written to: models\\oxford_flowers102\\effnetv2B3\\assets\n"
     ]
    },
    {
     "name": "stderr",
     "output_type": "stream",
     "text": [
      "INFO:tensorflow:Assets written to: models\\oxford_flowers102\\effnetv2B3\\assets\n"
     ]
    },
    {
     "data": {
      "text/plain": [
       "(<keras.callbacks.History at 0x1d8f64608e0>,\n",
       " <keras.callbacks.History at 0x1d8f0f17cd0>)"
      ]
     },
     "execution_count": 8,
     "metadata": {},
     "output_type": "execute_result"
    }
   ],
   "source": [
    "model_name = \"effnetv2B3\"\n",
    "dropout_rate = 0.7\n",
    "train_on_dataset(model_name, dataset_name, dropout_rate)"
   ]
  },
  {
   "cell_type": "code",
   "execution_count": 12,
   "id": "1ac78ce2",
   "metadata": {
    "collapsed": true
   },
   "outputs": [
    {
     "name": "stdout",
     "output_type": "stream",
     "text": [
      "Epoch 1/100\n",
      "193/193 [==============================] - 38s 157ms/step - loss: 2.4349 - accuracy: 0.4705 - val_loss: 1.4673 - val_accuracy: 0.7235\n",
      "Epoch 2/100\n",
      "193/193 [==============================] - 26s 132ms/step - loss: 0.7124 - accuracy: 0.8372 - val_loss: 0.6845 - val_accuracy: 0.8686\n",
      "Epoch 3/100\n",
      "193/193 [==============================] - 26s 133ms/step - loss: 0.3902 - accuracy: 0.9132 - val_loss: 0.4628 - val_accuracy: 0.9020\n",
      "Epoch 4/100\n",
      "193/193 [==============================] - 26s 133ms/step - loss: 0.2630 - accuracy: 0.9450 - val_loss: 0.3705 - val_accuracy: 0.9196\n",
      "Epoch 5/100\n",
      "193/193 [==============================] - 26s 132ms/step - loss: 0.1983 - accuracy: 0.9577 - val_loss: 0.3249 - val_accuracy: 0.9235\n",
      "Epoch 6/100\n",
      "193/193 [==============================] - 26s 133ms/step - loss: 0.1589 - accuracy: 0.9637 - val_loss: 0.3058 - val_accuracy: 0.9324\n",
      "Epoch 7/100\n",
      "193/193 [==============================] - 26s 133ms/step - loss: 0.1375 - accuracy: 0.9681 - val_loss: 0.2893 - val_accuracy: 0.9304\n",
      "Epoch 8/100\n",
      "193/193 [==============================] - 26s 133ms/step - loss: 0.1153 - accuracy: 0.9745 - val_loss: 0.2771 - val_accuracy: 0.9363\n",
      "Epoch 9/100\n",
      "193/193 [==============================] - 26s 133ms/step - loss: 0.1018 - accuracy: 0.9743 - val_loss: 0.2666 - val_accuracy: 0.9412\n",
      "Epoch 10/100\n",
      "193/193 [==============================] - 26s 132ms/step - loss: 0.0939 - accuracy: 0.9789 - val_loss: 0.2705 - val_accuracy: 0.9363\n",
      "Epoch 11/100\n",
      "193/193 [==============================] - 26s 132ms/step - loss: 0.0787 - accuracy: 0.9815 - val_loss: 0.2597 - val_accuracy: 0.9412\n",
      "Epoch 12/100\n",
      "193/193 [==============================] - 26s 132ms/step - loss: 0.0746 - accuracy: 0.9813 - val_loss: 0.2571 - val_accuracy: 0.9431\n",
      "Epoch 13/100\n",
      "193/193 [==============================] - 26s 132ms/step - loss: 0.0666 - accuracy: 0.9841 - val_loss: 0.2576 - val_accuracy: 0.9373\n",
      "Epoch 14/100\n",
      "193/193 [==============================] - 26s 133ms/step - loss: 0.0611 - accuracy: 0.9852 - val_loss: 0.2460 - val_accuracy: 0.9422\n",
      "Epoch 15/100\n",
      "193/193 [==============================] - 26s 132ms/step - loss: 0.0606 - accuracy: 0.9846 - val_loss: 0.2509 - val_accuracy: 0.9412\n",
      "Epoch 16/100\n",
      "193/193 [==============================] - 26s 132ms/step - loss: 0.0553 - accuracy: 0.9857 - val_loss: 0.2525 - val_accuracy: 0.9412\n",
      "Epoch 17/100\n",
      "193/193 [==============================] - 26s 132ms/step - loss: 0.0546 - accuracy: 0.9862 - val_loss: 0.2518 - val_accuracy: 0.9392\n",
      "Epoch 18/100\n",
      "193/193 [==============================] - 26s 131ms/step - loss: 0.0517 - accuracy: 0.9873 - val_loss: 0.2499 - val_accuracy: 0.9431\n",
      "Epoch 19/100\n",
      "193/193 [==============================] - 26s 134ms/step - loss: 0.0492 - accuracy: 0.9880 - val_loss: 0.2516 - val_accuracy: 0.9353\n",
      "Epoch 1/100\n",
      "193/193 [==============================] - 33s 146ms/step - loss: 0.0537 - accuracy: 0.9875 - val_loss: 0.2468 - val_accuracy: 0.9422\n",
      "Epoch 2/100\n",
      "193/193 [==============================] - 27s 137ms/step - loss: 0.0490 - accuracy: 0.9875 - val_loss: 0.2424 - val_accuracy: 0.9480\n",
      "Epoch 3/100\n",
      "193/193 [==============================] - 27s 138ms/step - loss: 0.0456 - accuracy: 0.9904 - val_loss: 0.2390 - val_accuracy: 0.9441\n",
      "Epoch 4/100\n",
      "193/193 [==============================] - 26s 136ms/step - loss: 0.0392 - accuracy: 0.9930 - val_loss: 0.2327 - val_accuracy: 0.9510\n",
      "Epoch 5/100\n",
      "193/193 [==============================] - 26s 135ms/step - loss: 0.0361 - accuracy: 0.9922 - val_loss: 0.2373 - val_accuracy: 0.9461\n",
      "Epoch 6/100\n",
      "193/193 [==============================] - 27s 136ms/step - loss: 0.0350 - accuracy: 0.9927 - val_loss: 0.2269 - val_accuracy: 0.9510\n",
      "Epoch 7/100\n",
      "193/193 [==============================] - 27s 136ms/step - loss: 0.0349 - accuracy: 0.9924 - val_loss: 0.2235 - val_accuracy: 0.9520\n",
      "Epoch 8/100\n",
      "193/193 [==============================] - 26s 136ms/step - loss: 0.0334 - accuracy: 0.9928 - val_loss: 0.2160 - val_accuracy: 0.9480\n",
      "Epoch 9/100\n",
      "193/193 [==============================] - 26s 135ms/step - loss: 0.0307 - accuracy: 0.9945 - val_loss: 0.2176 - val_accuracy: 0.9500\n",
      "Epoch 10/100\n",
      "193/193 [==============================] - 26s 136ms/step - loss: 0.0251 - accuracy: 0.9958 - val_loss: 0.2127 - val_accuracy: 0.9520\n",
      "Epoch 11/100\n",
      "193/193 [==============================] - 26s 135ms/step - loss: 0.0280 - accuracy: 0.9951 - val_loss: 0.2228 - val_accuracy: 0.9461\n",
      "Epoch 12/100\n",
      "193/193 [==============================] - 26s 135ms/step - loss: 0.0240 - accuracy: 0.9958 - val_loss: 0.2128 - val_accuracy: 0.9569\n",
      "Epoch 13/100\n",
      "193/193 [==============================] - 26s 136ms/step - loss: 0.0211 - accuracy: 0.9966 - val_loss: 0.2057 - val_accuracy: 0.9539\n",
      "Epoch 14/100\n",
      "193/193 [==============================] - 26s 135ms/step - loss: 0.0233 - accuracy: 0.9953 - val_loss: 0.2082 - val_accuracy: 0.9539\n",
      "Epoch 15/100\n",
      "193/193 [==============================] - 26s 135ms/step - loss: 0.0227 - accuracy: 0.9964 - val_loss: 0.2172 - val_accuracy: 0.9500\n",
      "Epoch 16/100\n",
      "193/193 [==============================] - 26s 135ms/step - loss: 0.0195 - accuracy: 0.9979 - val_loss: 0.2128 - val_accuracy: 0.9529\n",
      "Epoch 17/100\n",
      "193/193 [==============================] - 26s 135ms/step - loss: 0.0177 - accuracy: 0.9980 - val_loss: 0.2139 - val_accuracy: 0.9549\n",
      "Epoch 18/100\n",
      "193/193 [==============================] - 26s 135ms/step - loss: 0.0198 - accuracy: 0.9961 - val_loss: 0.2060 - val_accuracy: 0.9539\n",
      "INFO:tensorflow:Assets written to: models\\oxford_flowers102\\densenet121\\assets\n"
     ]
    },
    {
     "name": "stderr",
     "output_type": "stream",
     "text": [
      "INFO:tensorflow:Assets written to: models\\oxford_flowers102\\densenet121\\assets\n"
     ]
    },
    {
     "data": {
      "text/plain": [
       "(<keras.callbacks.History at 0x1e2341d7700>,\n",
       " <keras.callbacks.History at 0x1e169445550>)"
      ]
     },
     "execution_count": 12,
     "metadata": {},
     "output_type": "execute_result"
    }
   ],
   "source": [
    "model_name = \"densenet121\"\n",
    "dropout_rate = 0.45\n",
    "train_on_dataset(model_name, dataset_name, dropout_rate)"
   ]
  },
  {
   "cell_type": "code",
   "execution_count": 13,
   "id": "f1261cc6",
   "metadata": {
    "collapsed": true
   },
   "outputs": [
    {
     "name": "stdout",
     "output_type": "stream",
     "text": [
      "Epoch 1/100\n",
      "193/193 [==============================] - 43s 178ms/step - loss: 2.1024 - accuracy: 0.5433 - val_loss: 1.1780 - val_accuracy: 0.8029\n",
      "Epoch 2/100\n",
      "193/193 [==============================] - 31s 159ms/step - loss: 0.5191 - accuracy: 0.8849 - val_loss: 0.5816 - val_accuracy: 0.8814\n",
      "Epoch 3/100\n",
      "193/193 [==============================] - 31s 159ms/step - loss: 0.2809 - accuracy: 0.9424 - val_loss: 0.4279 - val_accuracy: 0.9000\n",
      "Epoch 4/100\n",
      "193/193 [==============================] - 31s 159ms/step - loss: 0.1872 - accuracy: 0.9610 - val_loss: 0.3406 - val_accuracy: 0.9186\n",
      "Epoch 5/100\n",
      "193/193 [==============================] - 31s 160ms/step - loss: 0.1432 - accuracy: 0.9711 - val_loss: 0.3154 - val_accuracy: 0.9137\n",
      "Epoch 6/100\n",
      "193/193 [==============================] - 31s 158ms/step - loss: 0.1034 - accuracy: 0.9772 - val_loss: 0.2976 - val_accuracy: 0.9147\n",
      "Epoch 7/100\n",
      "193/193 [==============================] - 31s 160ms/step - loss: 0.0829 - accuracy: 0.9847 - val_loss: 0.2772 - val_accuracy: 0.9284\n",
      "Epoch 8/100\n",
      "193/193 [==============================] - 30s 156ms/step - loss: 0.0712 - accuracy: 0.9857 - val_loss: 0.2805 - val_accuracy: 0.9196\n",
      "Epoch 9/100\n",
      "193/193 [==============================] - 31s 159ms/step - loss: 0.0641 - accuracy: 0.9865 - val_loss: 0.2738 - val_accuracy: 0.9186\n",
      "Epoch 10/100\n",
      "193/193 [==============================] - 31s 159ms/step - loss: 0.0564 - accuracy: 0.9898 - val_loss: 0.2676 - val_accuracy: 0.9186\n",
      "Epoch 11/100\n",
      "193/193 [==============================] - 31s 160ms/step - loss: 0.0459 - accuracy: 0.9915 - val_loss: 0.2653 - val_accuracy: 0.9255\n",
      "Epoch 12/100\n",
      "193/193 [==============================] - 31s 159ms/step - loss: 0.0379 - accuracy: 0.9940 - val_loss: 0.2500 - val_accuracy: 0.9304\n",
      "Epoch 13/100\n",
      "193/193 [==============================] - 31s 160ms/step - loss: 0.0423 - accuracy: 0.9904 - val_loss: 0.2495 - val_accuracy: 0.9284\n",
      "Epoch 14/100\n",
      "193/193 [==============================] - 31s 158ms/step - loss: 0.0351 - accuracy: 0.9933 - val_loss: 0.2502 - val_accuracy: 0.9245\n",
      "Epoch 15/100\n",
      "193/193 [==============================] - 31s 160ms/step - loss: 0.0335 - accuracy: 0.9925 - val_loss: 0.2406 - val_accuracy: 0.9265\n",
      "Epoch 16/100\n",
      "193/193 [==============================] - 31s 158ms/step - loss: 0.0342 - accuracy: 0.9925 - val_loss: 0.2475 - val_accuracy: 0.9294\n",
      "Epoch 17/100\n",
      "193/193 [==============================] - 31s 159ms/step - loss: 0.0325 - accuracy: 0.9927 - val_loss: 0.2584 - val_accuracy: 0.9284\n",
      "Epoch 18/100\n",
      "193/193 [==============================] - 31s 158ms/step - loss: 0.0288 - accuracy: 0.9914 - val_loss: 0.2508 - val_accuracy: 0.9363\n",
      "Epoch 19/100\n",
      "193/193 [==============================] - 31s 158ms/step - loss: 0.0279 - accuracy: 0.9930 - val_loss: 0.2459 - val_accuracy: 0.9363\n",
      "Epoch 20/100\n",
      "193/193 [==============================] - 31s 159ms/step - loss: 0.0248 - accuracy: 0.9930 - val_loss: 0.2598 - val_accuracy: 0.9294\n",
      "Epoch 1/100\n",
      "193/193 [==============================] - 41s 177ms/step - loss: 0.0308 - accuracy: 0.9925 - val_loss: 0.2425 - val_accuracy: 0.9363\n",
      "Epoch 2/100\n",
      "193/193 [==============================] - 32s 165ms/step - loss: 0.0285 - accuracy: 0.9943 - val_loss: 0.2405 - val_accuracy: 0.9324\n",
      "Epoch 3/100\n",
      "193/193 [==============================] - 32s 164ms/step - loss: 0.0259 - accuracy: 0.9946 - val_loss: 0.2478 - val_accuracy: 0.9275\n",
      "Epoch 4/100\n",
      "193/193 [==============================] - 32s 165ms/step - loss: 0.0243 - accuracy: 0.9958 - val_loss: 0.2384 - val_accuracy: 0.9284\n",
      "Epoch 5/100\n",
      "193/193 [==============================] - 32s 165ms/step - loss: 0.0209 - accuracy: 0.9951 - val_loss: 0.2299 - val_accuracy: 0.9333\n",
      "Epoch 6/100\n",
      "193/193 [==============================] - 32s 165ms/step - loss: 0.0201 - accuracy: 0.9967 - val_loss: 0.2271 - val_accuracy: 0.9304\n",
      "Epoch 7/100\n",
      "193/193 [==============================] - 32s 165ms/step - loss: 0.0180 - accuracy: 0.9974 - val_loss: 0.2204 - val_accuracy: 0.9373\n",
      "Epoch 8/100\n",
      "193/193 [==============================] - 32s 164ms/step - loss: 0.0154 - accuracy: 0.9984 - val_loss: 0.2292 - val_accuracy: 0.9343\n",
      "Epoch 9/100\n",
      "193/193 [==============================] - 32s 165ms/step - loss: 0.0174 - accuracy: 0.9954 - val_loss: 0.2244 - val_accuracy: 0.9382\n",
      "Epoch 10/100\n",
      "193/193 [==============================] - 32s 166ms/step - loss: 0.0155 - accuracy: 0.9972 - val_loss: 0.2199 - val_accuracy: 0.9382\n",
      "Epoch 11/100\n",
      "193/193 [==============================] - 32s 165ms/step - loss: 0.0145 - accuracy: 0.9980 - val_loss: 0.2182 - val_accuracy: 0.9353\n",
      "Epoch 12/100\n",
      "193/193 [==============================] - 32s 166ms/step - loss: 0.0160 - accuracy: 0.9969 - val_loss: 0.2242 - val_accuracy: 0.9382\n",
      "Epoch 13/100\n",
      "193/193 [==============================] - 32s 163ms/step - loss: 0.0124 - accuracy: 0.9987 - val_loss: 0.2187 - val_accuracy: 0.9382\n",
      "Epoch 14/100\n",
      "193/193 [==============================] - 32s 165ms/step - loss: 0.0135 - accuracy: 0.9976 - val_loss: 0.2126 - val_accuracy: 0.9402\n",
      "Epoch 15/100\n",
      "193/193 [==============================] - 32s 165ms/step - loss: 0.0134 - accuracy: 0.9979 - val_loss: 0.2096 - val_accuracy: 0.9412\n",
      "Epoch 16/100\n",
      "193/193 [==============================] - 32s 164ms/step - loss: 0.0155 - accuracy: 0.9971 - val_loss: 0.2151 - val_accuracy: 0.9333\n",
      "Epoch 17/100\n",
      "193/193 [==============================] - 32s 166ms/step - loss: 0.0131 - accuracy: 0.9982 - val_loss: 0.2065 - val_accuracy: 0.9402\n",
      "Epoch 18/100\n",
      "193/193 [==============================] - 32s 166ms/step - loss: 0.0109 - accuracy: 0.9987 - val_loss: 0.2046 - val_accuracy: 0.9461\n",
      "Epoch 19/100\n",
      "193/193 [==============================] - 32s 165ms/step - loss: 0.0106 - accuracy: 0.9987 - val_loss: 0.1974 - val_accuracy: 0.9402\n",
      "Epoch 20/100\n",
      "193/193 [==============================] - 32s 164ms/step - loss: 0.0096 - accuracy: 0.9984 - val_loss: 0.2128 - val_accuracy: 0.9402\n",
      "Epoch 21/100\n",
      "193/193 [==============================] - 32s 165ms/step - loss: 0.0091 - accuracy: 0.9992 - val_loss: 0.2277 - val_accuracy: 0.9373\n",
      "Epoch 22/100\n",
      "193/193 [==============================] - 32s 165ms/step - loss: 0.0068 - accuracy: 0.9998 - val_loss: 0.2136 - val_accuracy: 0.9412\n",
      "Epoch 23/100\n",
      "193/193 [==============================] - 32s 164ms/step - loss: 0.0083 - accuracy: 0.9990 - val_loss: 0.1978 - val_accuracy: 0.9461\n",
      "Epoch 24/100\n",
      "193/193 [==============================] - 32s 166ms/step - loss: 0.0068 - accuracy: 0.9993 - val_loss: 0.2042 - val_accuracy: 0.9461\n",
      "INFO:tensorflow:Assets written to: models\\oxford_flowers102\\densenet169\\assets\n"
     ]
    },
    {
     "name": "stderr",
     "output_type": "stream",
     "text": [
      "INFO:tensorflow:Assets written to: models\\oxford_flowers102\\densenet169\\assets\n"
     ]
    },
    {
     "data": {
      "text/plain": [
       "(<keras.callbacks.History at 0x1e28d23d520>,\n",
       " <keras.callbacks.History at 0x1e269957e20>)"
      ]
     },
     "execution_count": 13,
     "metadata": {},
     "output_type": "execute_result"
    }
   ],
   "source": [
    "model_name = \"densenet169\"\n",
    "dropout_rate = 0.45\n",
    "train_on_dataset(model_name, dataset_name, dropout_rate)"
   ]
  },
  {
   "cell_type": "code",
   "execution_count": 14,
   "id": "bdd40b59",
   "metadata": {
    "collapsed": true
   },
   "outputs": [
    {
     "name": "stdout",
     "output_type": "stream",
     "text": [
      "Epoch 1/100\n",
      "193/193 [==============================] - 51s 232ms/step - loss: 1.6560 - accuracy: 0.6209 - val_loss: 1.0088 - val_accuracy: 0.7784\n",
      "Epoch 2/100\n",
      "193/193 [==============================] - 42s 218ms/step - loss: 0.3186 - accuracy: 0.9260 - val_loss: 0.6859 - val_accuracy: 0.8373\n",
      "Epoch 3/100\n",
      "193/193 [==============================] - 42s 217ms/step - loss: 0.1438 - accuracy: 0.9754 - val_loss: 0.6196 - val_accuracy: 0.8431\n",
      "Epoch 4/100\n",
      "193/193 [==============================] - 42s 218ms/step - loss: 0.0903 - accuracy: 0.9857 - val_loss: 0.5956 - val_accuracy: 0.8441\n",
      "Epoch 5/100\n",
      "193/193 [==============================] - 42s 218ms/step - loss: 0.0604 - accuracy: 0.9924 - val_loss: 0.5446 - val_accuracy: 0.8598\n",
      "Epoch 6/100\n",
      "193/193 [==============================] - 42s 219ms/step - loss: 0.0403 - accuracy: 0.9966 - val_loss: 0.5281 - val_accuracy: 0.8578\n",
      "Epoch 7/100\n",
      "193/193 [==============================] - 42s 218ms/step - loss: 0.0326 - accuracy: 0.9972 - val_loss: 0.5306 - val_accuracy: 0.8578\n",
      "Epoch 8/100\n",
      "193/193 [==============================] - 42s 218ms/step - loss: 0.0280 - accuracy: 0.9971 - val_loss: 0.5122 - val_accuracy: 0.8588\n",
      "Epoch 9/100\n",
      "193/193 [==============================] - 42s 219ms/step - loss: 0.0214 - accuracy: 0.9980 - val_loss: 0.5057 - val_accuracy: 0.8618\n",
      "Epoch 10/100\n",
      "193/193 [==============================] - 42s 215ms/step - loss: 0.0187 - accuracy: 0.9987 - val_loss: 0.5074 - val_accuracy: 0.8618\n",
      "Epoch 11/100\n",
      "193/193 [==============================] - 42s 215ms/step - loss: 0.0160 - accuracy: 0.9972 - val_loss: 0.5079 - val_accuracy: 0.8735\n",
      "Epoch 12/100\n",
      "193/193 [==============================] - 42s 216ms/step - loss: 0.0124 - accuracy: 0.9989 - val_loss: 0.5009 - val_accuracy: 0.8706\n",
      "Epoch 13/100\n",
      "193/193 [==============================] - 42s 216ms/step - loss: 0.0123 - accuracy: 0.9990 - val_loss: 0.4962 - val_accuracy: 0.8676\n",
      "Epoch 14/100\n",
      "193/193 [==============================] - 42s 215ms/step - loss: 0.0139 - accuracy: 0.9979 - val_loss: 0.5215 - val_accuracy: 0.8667\n",
      "Epoch 15/100\n",
      "193/193 [==============================] - 42s 215ms/step - loss: 0.0114 - accuracy: 0.9987 - val_loss: 0.5332 - val_accuracy: 0.8716\n",
      "Epoch 16/100\n",
      "193/193 [==============================] - 42s 215ms/step - loss: 0.0100 - accuracy: 0.9979 - val_loss: 0.5228 - val_accuracy: 0.8745\n",
      "Epoch 17/100\n",
      "193/193 [==============================] - 43s 219ms/step - loss: 0.0098 - accuracy: 0.9987 - val_loss: 0.5257 - val_accuracy: 0.8745\n",
      "Epoch 18/100\n",
      "193/193 [==============================] - 42s 219ms/step - loss: 0.0131 - accuracy: 0.9979 - val_loss: 0.5388 - val_accuracy: 0.8696\n",
      "Epoch 1/100\n",
      "193/193 [==============================] - 53s 249ms/step - loss: 0.0481 - accuracy: 0.9881 - val_loss: 0.5570 - val_accuracy: 0.8637\n",
      "Epoch 2/100\n",
      "193/193 [==============================] - 46s 239ms/step - loss: 0.0338 - accuracy: 0.9920 - val_loss: 0.4714 - val_accuracy: 0.8765\n",
      "Epoch 3/100\n",
      "193/193 [==============================] - 47s 240ms/step - loss: 0.0235 - accuracy: 0.9953 - val_loss: 0.4025 - val_accuracy: 0.9049\n",
      "Epoch 4/100\n",
      "193/193 [==============================] - 46s 240ms/step - loss: 0.0073 - accuracy: 0.9993 - val_loss: 0.3818 - val_accuracy: 0.9049\n",
      "Epoch 5/100\n",
      "193/193 [==============================] - 46s 236ms/step - loss: 0.0039 - accuracy: 0.9995 - val_loss: 0.3828 - val_accuracy: 0.9029\n",
      "Epoch 6/100\n",
      "193/193 [==============================] - 46s 238ms/step - loss: 0.0129 - accuracy: 0.9980 - val_loss: 0.3824 - val_accuracy: 0.9010\n",
      "Epoch 7/100\n",
      "193/193 [==============================] - 46s 238ms/step - loss: 0.0133 - accuracy: 0.9974 - val_loss: 0.4260 - val_accuracy: 0.8824\n",
      "Epoch 8/100\n",
      "193/193 [==============================] - 46s 238ms/step - loss: 0.0108 - accuracy: 0.9982 - val_loss: 0.3818 - val_accuracy: 0.8971\n",
      "Epoch 9/100\n",
      "193/193 [==============================] - 46s 239ms/step - loss: 0.0069 - accuracy: 0.9984 - val_loss: 0.4084 - val_accuracy: 0.9010\n",
      "INFO:tensorflow:Assets written to: models\\oxford_flowers102\\resnet101v2\\assets\n"
     ]
    },
    {
     "name": "stderr",
     "output_type": "stream",
     "text": [
      "INFO:tensorflow:Assets written to: models\\oxford_flowers102\\resnet101v2\\assets\n"
     ]
    },
    {
     "data": {
      "text/plain": [
       "(<keras.callbacks.History at 0x1e2a476b760>,\n",
       " <keras.callbacks.History at 0x1e2d2f37460>)"
      ]
     },
     "execution_count": 14,
     "metadata": {},
     "output_type": "execute_result"
    }
   ],
   "source": [
    "model_name = \"resnet101v2\"\n",
    "dropout_rate = 0.2\n",
    "train_on_dataset(model_name, dataset_name, dropout_rate)"
   ]
  },
  {
   "cell_type": "code",
   "execution_count": 15,
   "id": "478a74a8",
   "metadata": {
    "collapsed": true
   },
   "outputs": [
    {
     "name": "stdout",
     "output_type": "stream",
     "text": [
      "Epoch 1/100\n",
      "193/193 [==============================] - 72s 331ms/step - loss: 2.5433 - accuracy: 0.4371 - val_loss: 1.3972 - val_accuracy: 0.7186\n",
      "Epoch 2/100\n",
      "193/193 [==============================] - 62s 318ms/step - loss: 0.8084 - accuracy: 0.7829 - val_loss: 0.9075 - val_accuracy: 0.7931\n",
      "Epoch 3/100\n",
      "193/193 [==============================] - 62s 320ms/step - loss: 0.4888 - accuracy: 0.8683 - val_loss: 0.7709 - val_accuracy: 0.8176\n",
      "Epoch 4/100\n",
      "193/193 [==============================] - 62s 321ms/step - loss: 0.3467 - accuracy: 0.9047 - val_loss: 0.6860 - val_accuracy: 0.8353\n",
      "Epoch 5/100\n",
      "193/193 [==============================] - 62s 321ms/step - loss: 0.2663 - accuracy: 0.9276 - val_loss: 0.6635 - val_accuracy: 0.8373\n",
      "Epoch 6/100\n",
      "193/193 [==============================] - 61s 315ms/step - loss: 0.2089 - accuracy: 0.9441 - val_loss: 0.6785 - val_accuracy: 0.8343\n",
      "Epoch 7/100\n",
      "193/193 [==============================] - 62s 319ms/step - loss: 0.1696 - accuracy: 0.9523 - val_loss: 0.6228 - val_accuracy: 0.8529\n",
      "Epoch 8/100\n",
      "193/193 [==============================] - 62s 320ms/step - loss: 0.1468 - accuracy: 0.9597 - val_loss: 0.6278 - val_accuracy: 0.8588\n",
      "Epoch 9/100\n",
      "193/193 [==============================] - 62s 321ms/step - loss: 0.1219 - accuracy: 0.9668 - val_loss: 0.6055 - val_accuracy: 0.8578\n",
      "Epoch 10/100\n",
      "193/193 [==============================] - 62s 320ms/step - loss: 0.1200 - accuracy: 0.9647 - val_loss: 0.6201 - val_accuracy: 0.8490\n",
      "Epoch 11/100\n",
      "193/193 [==============================] - 62s 322ms/step - loss: 0.1051 - accuracy: 0.9699 - val_loss: 0.6200 - val_accuracy: 0.8598\n",
      "Epoch 12/100\n",
      "193/193 [==============================] - 62s 319ms/step - loss: 0.0949 - accuracy: 0.9717 - val_loss: 0.6522 - val_accuracy: 0.8431\n",
      "Epoch 13/100\n",
      "193/193 [==============================] - 62s 320ms/step - loss: 0.0856 - accuracy: 0.9743 - val_loss: 0.6316 - val_accuracy: 0.8529\n",
      "Epoch 14/100\n",
      "193/193 [==============================] - 62s 321ms/step - loss: 0.0805 - accuracy: 0.9782 - val_loss: 0.6210 - val_accuracy: 0.8608\n",
      "Epoch 1/100\n",
      "193/193 [==============================] - 75s 354ms/step - loss: 0.1584 - accuracy: 0.9532 - val_loss: 0.5831 - val_accuracy: 0.8598\n",
      "Epoch 2/100\n",
      "193/193 [==============================] - 66s 342ms/step - loss: 0.1081 - accuracy: 0.9654 - val_loss: 0.4708 - val_accuracy: 0.8814\n",
      "Epoch 3/100\n",
      "193/193 [==============================] - 66s 342ms/step - loss: 0.0593 - accuracy: 0.9826 - val_loss: 0.4111 - val_accuracy: 0.9049\n",
      "Epoch 4/100\n",
      "193/193 [==============================] - 66s 341ms/step - loss: 0.0488 - accuracy: 0.9855 - val_loss: 0.4283 - val_accuracy: 0.8961\n",
      "Epoch 5/100\n",
      "193/193 [==============================] - 66s 342ms/step - loss: 0.0533 - accuracy: 0.9831 - val_loss: 0.3746 - val_accuracy: 0.9069\n",
      "Epoch 6/100\n",
      "193/193 [==============================] - 66s 342ms/step - loss: 0.0357 - accuracy: 0.9909 - val_loss: 0.3647 - val_accuracy: 0.9118\n",
      "Epoch 7/100\n",
      "193/193 [==============================] - 66s 341ms/step - loss: 0.0300 - accuracy: 0.9907 - val_loss: 0.4367 - val_accuracy: 0.8912\n",
      "Epoch 8/100\n",
      "193/193 [==============================] - 66s 341ms/step - loss: 0.0236 - accuracy: 0.9946 - val_loss: 0.4117 - val_accuracy: 0.9059\n",
      "Epoch 9/100\n",
      "193/193 [==============================] - 66s 341ms/step - loss: 0.0236 - accuracy: 0.9930 - val_loss: 0.3704 - val_accuracy: 0.9127\n",
      "Epoch 10/100\n",
      "193/193 [==============================] - 66s 341ms/step - loss: 0.0418 - accuracy: 0.9872 - val_loss: 0.4017 - val_accuracy: 0.9049\n",
      "Epoch 11/100\n",
      "193/193 [==============================] - 66s 342ms/step - loss: 0.0347 - accuracy: 0.9904 - val_loss: 0.3005 - val_accuracy: 0.9176\n",
      "Epoch 12/100\n",
      "193/193 [==============================] - 66s 343ms/step - loss: 0.0171 - accuracy: 0.9945 - val_loss: 0.3312 - val_accuracy: 0.9186\n",
      "Epoch 13/100\n",
      "193/193 [==============================] - 67s 344ms/step - loss: 0.0184 - accuracy: 0.9954 - val_loss: 0.3523 - val_accuracy: 0.9078\n",
      "Epoch 14/100\n",
      "193/193 [==============================] - 66s 342ms/step - loss: 0.0078 - accuracy: 0.9987 - val_loss: 0.3349 - val_accuracy: 0.9098\n",
      "Epoch 15/100\n",
      "193/193 [==============================] - 66s 339ms/step - loss: 0.0072 - accuracy: 0.9980 - val_loss: 0.3126 - val_accuracy: 0.9284\n",
      "Epoch 16/100\n",
      "193/193 [==============================] - 66s 339ms/step - loss: 0.0260 - accuracy: 0.9927 - val_loss: 0.4072 - val_accuracy: 0.8961\n",
      "INFO:tensorflow:Assets written to: models\\oxford_flowers102\\resnet152v2\\assets\n"
     ]
    },
    {
     "name": "stderr",
     "output_type": "stream",
     "text": [
      "INFO:tensorflow:Assets written to: models\\oxford_flowers102\\resnet152v2\\assets\n"
     ]
    },
    {
     "data": {
      "text/plain": [
       "(<keras.callbacks.History at 0x1e3562861c0>,\n",
       " <keras.callbacks.History at 0x1e354fa49a0>)"
      ]
     },
     "execution_count": 15,
     "metadata": {},
     "output_type": "execute_result"
    }
   ],
   "source": [
    "model_name = \"resnet152v2\"\n",
    "dropout_rate = 0.55\n",
    "train_on_dataset(model_name, dataset_name, dropout_rate)"
   ]
  },
  {
   "cell_type": "code",
   "execution_count": 16,
   "id": "9ecd2e63",
   "metadata": {
    "collapsed": true
   },
   "outputs": [
    {
     "name": "stdout",
     "output_type": "stream",
     "text": [
      "WARNING:tensorflow:`input_shape` is undefined or non-square, or `rows` is not in [96, 128, 160, 192, 224]. Weights for input shape (224, 224) will be loaded as the default.\n"
     ]
    },
    {
     "name": "stderr",
     "output_type": "stream",
     "text": [
      "WARNING:tensorflow:`input_shape` is undefined or non-square, or `rows` is not in [96, 128, 160, 192, 224]. Weights for input shape (224, 224) will be loaded as the default.\n"
     ]
    },
    {
     "name": "stdout",
     "output_type": "stream",
     "text": [
      "Epoch 1/100\n",
      "193/193 [==============================] - 17s 71ms/step - loss: 1.9309 - accuracy: 0.5609 - val_loss: 0.9760 - val_accuracy: 0.7882\n",
      "Epoch 2/100\n",
      "193/193 [==============================] - 13s 64ms/step - loss: 0.4831 - accuracy: 0.8771 - val_loss: 0.6178 - val_accuracy: 0.8324\n",
      "Epoch 3/100\n",
      "193/193 [==============================] - 13s 64ms/step - loss: 0.2684 - accuracy: 0.9327 - val_loss: 0.5326 - val_accuracy: 0.8422\n",
      "Epoch 4/100\n",
      "193/193 [==============================] - 13s 64ms/step - loss: 0.1731 - accuracy: 0.9597 - val_loss: 0.5088 - val_accuracy: 0.8510\n",
      "Epoch 5/100\n",
      "193/193 [==============================] - 13s 64ms/step - loss: 0.1184 - accuracy: 0.9733 - val_loss: 0.4900 - val_accuracy: 0.8578\n",
      "Epoch 6/100\n",
      "193/193 [==============================] - 12s 63ms/step - loss: 0.0884 - accuracy: 0.9813 - val_loss: 0.4705 - val_accuracy: 0.8657\n",
      "Epoch 7/100\n",
      "193/193 [==============================] - 12s 64ms/step - loss: 0.0707 - accuracy: 0.9865 - val_loss: 0.4645 - val_accuracy: 0.8627\n",
      "Epoch 8/100\n",
      "193/193 [==============================] - 13s 64ms/step - loss: 0.0587 - accuracy: 0.9886 - val_loss: 0.4701 - val_accuracy: 0.8667\n",
      "Epoch 9/100\n",
      "193/193 [==============================] - 12s 63ms/step - loss: 0.0519 - accuracy: 0.9886 - val_loss: 0.4635 - val_accuracy: 0.8667\n",
      "Epoch 10/100\n",
      "193/193 [==============================] - 12s 63ms/step - loss: 0.0431 - accuracy: 0.9914 - val_loss: 0.4413 - val_accuracy: 0.8765\n",
      "Epoch 11/100\n",
      "193/193 [==============================] - 12s 63ms/step - loss: 0.0390 - accuracy: 0.9930 - val_loss: 0.4550 - val_accuracy: 0.8725\n",
      "Epoch 12/100\n",
      "193/193 [==============================] - 12s 63ms/step - loss: 0.0346 - accuracy: 0.9928 - val_loss: 0.4456 - val_accuracy: 0.8686\n",
      "Epoch 13/100\n",
      "193/193 [==============================] - 13s 64ms/step - loss: 0.0290 - accuracy: 0.9943 - val_loss: 0.4657 - val_accuracy: 0.8696\n",
      "Epoch 14/100\n",
      "193/193 [==============================] - 12s 63ms/step - loss: 0.0285 - accuracy: 0.9940 - val_loss: 0.4555 - val_accuracy: 0.8882\n",
      "Epoch 15/100\n",
      "193/193 [==============================] - 13s 64ms/step - loss: 0.0230 - accuracy: 0.9959 - val_loss: 0.4531 - val_accuracy: 0.8775\n",
      "Epoch 1/100\n",
      "193/193 [==============================] - 18s 77ms/step - loss: 0.0781 - accuracy: 0.9766 - val_loss: 0.7503 - val_accuracy: 0.8088\n",
      "Epoch 2/100\n",
      "193/193 [==============================] - 14s 73ms/step - loss: 0.0658 - accuracy: 0.9839 - val_loss: 0.8915 - val_accuracy: 0.7873\n",
      "Epoch 3/100\n",
      "193/193 [==============================] - 14s 73ms/step - loss: 0.0367 - accuracy: 0.9901 - val_loss: 0.7187 - val_accuracy: 0.8304\n",
      "Epoch 4/100\n",
      "193/193 [==============================] - 14s 72ms/step - loss: 0.0299 - accuracy: 0.9925 - val_loss: 0.7312 - val_accuracy: 0.8353\n",
      "Epoch 5/100\n",
      "193/193 [==============================] - 14s 72ms/step - loss: 0.0261 - accuracy: 0.9938 - val_loss: 0.5972 - val_accuracy: 0.8431\n",
      "Epoch 6/100\n",
      "193/193 [==============================] - 14s 72ms/step - loss: 0.0525 - accuracy: 0.9844 - val_loss: 0.6584 - val_accuracy: 0.8431\n",
      "Epoch 7/100\n",
      "193/193 [==============================] - 14s 72ms/step - loss: 0.0342 - accuracy: 0.9917 - val_loss: 0.4334 - val_accuracy: 0.8961\n",
      "Epoch 8/100\n",
      "193/193 [==============================] - 14s 72ms/step - loss: 0.0160 - accuracy: 0.9964 - val_loss: 0.5140 - val_accuracy: 0.8843\n",
      "Epoch 9/100\n",
      "193/193 [==============================] - 14s 73ms/step - loss: 0.0122 - accuracy: 0.9972 - val_loss: 0.3483 - val_accuracy: 0.8990\n",
      "Epoch 10/100\n",
      "193/193 [==============================] - 14s 72ms/step - loss: 0.0096 - accuracy: 0.9982 - val_loss: 0.3856 - val_accuracy: 0.8961\n",
      "Epoch 11/100\n",
      "193/193 [==============================] - 14s 72ms/step - loss: 0.0076 - accuracy: 0.9985 - val_loss: 0.3889 - val_accuracy: 0.8980\n",
      "Epoch 12/100\n",
      "193/193 [==============================] - 14s 72ms/step - loss: 0.0308 - accuracy: 0.9919 - val_loss: 0.7354 - val_accuracy: 0.8422\n",
      "Epoch 13/100\n",
      "193/193 [==============================] - 14s 72ms/step - loss: 0.0152 - accuracy: 0.9964 - val_loss: 0.6521 - val_accuracy: 0.8373\n",
      "Epoch 14/100\n",
      "193/193 [==============================] - 14s 72ms/step - loss: 0.0084 - accuracy: 0.9976 - val_loss: 0.5035 - val_accuracy: 0.8627\n",
      "INFO:tensorflow:Assets written to: models\\oxford_flowers102\\mobilenetv2\\assets\n"
     ]
    },
    {
     "name": "stderr",
     "output_type": "stream",
     "text": [
      "INFO:tensorflow:Assets written to: models\\oxford_flowers102\\mobilenetv2\\assets\n"
     ]
    },
    {
     "data": {
      "text/plain": [
       "(<keras.callbacks.History at 0x1e28cb0ff10>,\n",
       " <keras.callbacks.History at 0x1e2a465f670>)"
      ]
     },
     "execution_count": 16,
     "metadata": {},
     "output_type": "execute_result"
    }
   ],
   "source": [
    "model_name = \"mobilenetv2\"\n",
    "dropout_rate = 0.3\n",
    "train_on_dataset(model_name, dataset_name, dropout_rate)"
   ]
  },
  {
   "cell_type": "markdown",
   "id": "2251b233",
   "metadata": {},
   "source": [
    "# uc merced dataset"
   ]
  },
  {
   "cell_type": "code",
   "execution_count": 3,
   "id": "db9e8bd1",
   "metadata": {},
   "outputs": [],
   "source": [
    "dataset_name = \"uc_merced\""
   ]
  },
  {
   "cell_type": "code",
   "execution_count": 4,
   "id": "90d26cb3",
   "metadata": {
    "collapsed": true
   },
   "outputs": [
    {
     "name": "stdout",
     "output_type": "stream",
     "text": [
      "Epoch 1/100\n",
      "46/46 [==============================] - 28s 433ms/step - loss: 1.8515 - accuracy: 0.4707 - val_loss: 1.3797 - val_accuracy: 0.7333\n",
      "Epoch 2/100\n",
      "46/46 [==============================] - 18s 396ms/step - loss: 0.6708 - accuracy: 0.7816 - val_loss: 0.8594 - val_accuracy: 0.8444\n",
      "Epoch 3/100\n",
      "46/46 [==============================] - 18s 398ms/step - loss: 0.4691 - accuracy: 0.8429 - val_loss: 0.5732 - val_accuracy: 0.8857\n",
      "Epoch 4/100\n",
      "46/46 [==============================] - 18s 393ms/step - loss: 0.3656 - accuracy: 0.8789 - val_loss: 0.4269 - val_accuracy: 0.8984\n",
      "Epoch 5/100\n",
      "46/46 [==============================] - 18s 394ms/step - loss: 0.3167 - accuracy: 0.8918 - val_loss: 0.3380 - val_accuracy: 0.9016\n",
      "Epoch 6/100\n",
      "46/46 [==============================] - 18s 394ms/step - loss: 0.3074 - accuracy: 0.9034 - val_loss: 0.2722 - val_accuracy: 0.9048\n",
      "Epoch 7/100\n",
      "46/46 [==============================] - 18s 394ms/step - loss: 0.2503 - accuracy: 0.9136 - val_loss: 0.2501 - val_accuracy: 0.8984\n",
      "Epoch 8/100\n",
      "46/46 [==============================] - 18s 393ms/step - loss: 0.2176 - accuracy: 0.9306 - val_loss: 0.2218 - val_accuracy: 0.9079\n",
      "Epoch 9/100\n",
      "46/46 [==============================] - 18s 393ms/step - loss: 0.2238 - accuracy: 0.9245 - val_loss: 0.2171 - val_accuracy: 0.9238\n",
      "Epoch 10/100\n",
      "46/46 [==============================] - 18s 395ms/step - loss: 0.1897 - accuracy: 0.9435 - val_loss: 0.2108 - val_accuracy: 0.9206\n",
      "Epoch 11/100\n",
      "46/46 [==============================] - 18s 393ms/step - loss: 0.1677 - accuracy: 0.9483 - val_loss: 0.2326 - val_accuracy: 0.9079\n",
      "Epoch 12/100\n",
      "46/46 [==============================] - 18s 394ms/step - loss: 0.1793 - accuracy: 0.9367 - val_loss: 0.1872 - val_accuracy: 0.9175\n",
      "Epoch 13/100\n",
      "46/46 [==============================] - 18s 396ms/step - loss: 0.1538 - accuracy: 0.9469 - val_loss: 0.1759 - val_accuracy: 0.9206\n",
      "Epoch 14/100\n",
      "46/46 [==============================] - 18s 390ms/step - loss: 0.1357 - accuracy: 0.9544 - val_loss: 0.2004 - val_accuracy: 0.9143\n",
      "Epoch 15/100\n",
      "46/46 [==============================] - 18s 393ms/step - loss: 0.1654 - accuracy: 0.9531 - val_loss: 0.1949 - val_accuracy: 0.9048\n",
      "Epoch 16/100\n",
      "46/46 [==============================] - 18s 397ms/step - loss: 0.1431 - accuracy: 0.9524 - val_loss: 0.1979 - val_accuracy: 0.9270\n",
      "Epoch 17/100\n",
      "46/46 [==============================] - 18s 393ms/step - loss: 0.1358 - accuracy: 0.9571 - val_loss: 0.1936 - val_accuracy: 0.9302\n",
      "Epoch 18/100\n",
      "46/46 [==============================] - 18s 395ms/step - loss: 0.1278 - accuracy: 0.9544 - val_loss: 0.1989 - val_accuracy: 0.9238\n",
      "Epoch 1/100\n",
      "46/46 [==============================] - 24s 409ms/step - loss: 0.1603 - accuracy: 0.9476 - val_loss: 0.1805 - val_accuracy: 0.9238\n",
      "Epoch 2/100\n",
      "46/46 [==============================] - 18s 387ms/step - loss: 0.1205 - accuracy: 0.9585 - val_loss: 0.1543 - val_accuracy: 0.9365\n",
      "Epoch 3/100\n",
      "46/46 [==============================] - 18s 387ms/step - loss: 0.1019 - accuracy: 0.9728 - val_loss: 0.1270 - val_accuracy: 0.9524\n",
      "Epoch 4/100\n",
      "46/46 [==============================] - 18s 388ms/step - loss: 0.0945 - accuracy: 0.9701 - val_loss: 0.1231 - val_accuracy: 0.9492\n",
      "Epoch 5/100\n",
      "46/46 [==============================] - 18s 389ms/step - loss: 0.0739 - accuracy: 0.9748 - val_loss: 0.1057 - val_accuracy: 0.9524\n",
      "Epoch 6/100\n",
      "46/46 [==============================] - 18s 387ms/step - loss: 0.0751 - accuracy: 0.9714 - val_loss: 0.1062 - val_accuracy: 0.9556\n",
      "Epoch 7/100\n",
      "46/46 [==============================] - 18s 386ms/step - loss: 0.0752 - accuracy: 0.9782 - val_loss: 0.1268 - val_accuracy: 0.9587\n",
      "Epoch 8/100\n",
      "46/46 [==============================] - 18s 386ms/step - loss: 0.0600 - accuracy: 0.9789 - val_loss: 0.1170 - val_accuracy: 0.9556\n",
      "Epoch 9/100\n",
      "46/46 [==============================] - 18s 385ms/step - loss: 0.0586 - accuracy: 0.9816 - val_loss: 0.1075 - val_accuracy: 0.9556\n",
      "Epoch 10/100\n",
      "46/46 [==============================] - 18s 385ms/step - loss: 0.0548 - accuracy: 0.9850 - val_loss: 0.1099 - val_accuracy: 0.9524\n",
      "INFO:tensorflow:Assets written to: models\\uc_merced\\effnetB0\\assets\n"
     ]
    },
    {
     "name": "stderr",
     "output_type": "stream",
     "text": [
      "INFO:tensorflow:Assets written to: models\\uc_merced\\effnetB0\\assets\n"
     ]
    },
    {
     "data": {
      "text/plain": [
       "(<keras.callbacks.History at 0x15032f1c3d0>,\n",
       " <keras.callbacks.History at 0x15060780550>)"
      ]
     },
     "execution_count": 4,
     "metadata": {},
     "output_type": "execute_result"
    }
   ],
   "source": [
    "model_name = \"effnetB0\"\n",
    "dropout_rate = 0.3\n",
    "train_on_dataset(model_name, dataset_name, dropout_rate)"
   ]
  },
  {
   "cell_type": "code",
   "execution_count": 5,
   "id": "20a67b6b",
   "metadata": {
    "collapsed": true
   },
   "outputs": [
    {
     "name": "stdout",
     "output_type": "stream",
     "text": [
      "Epoch 1/100\n",
      "46/46 [==============================] - 19s 222ms/step - loss: 1.7326 - accuracy: 0.5000 - val_loss: 1.0778 - val_accuracy: 0.8476\n",
      "Epoch 2/100\n",
      "46/46 [==============================] - 8s 163ms/step - loss: 0.4707 - accuracy: 0.8524 - val_loss: 0.6210 - val_accuracy: 0.8921\n",
      "Epoch 3/100\n",
      "46/46 [==============================] - 8s 161ms/step - loss: 0.2944 - accuracy: 0.9061 - val_loss: 0.4166 - val_accuracy: 0.9048\n",
      "Epoch 4/100\n",
      "46/46 [==============================] - 7s 158ms/step - loss: 0.2187 - accuracy: 0.9374 - val_loss: 0.3098 - val_accuracy: 0.9143\n",
      "Epoch 5/100\n",
      "46/46 [==============================] - 7s 157ms/step - loss: 0.1660 - accuracy: 0.9524 - val_loss: 0.2352 - val_accuracy: 0.9238\n",
      "Epoch 6/100\n",
      "46/46 [==============================] - 7s 157ms/step - loss: 0.1326 - accuracy: 0.9605 - val_loss: 0.1910 - val_accuracy: 0.9397\n",
      "Epoch 7/100\n",
      "46/46 [==============================] - 7s 157ms/step - loss: 0.1122 - accuracy: 0.9633 - val_loss: 0.1713 - val_accuracy: 0.9460\n",
      "Epoch 8/100\n",
      "46/46 [==============================] - 7s 157ms/step - loss: 0.0814 - accuracy: 0.9810 - val_loss: 0.1551 - val_accuracy: 0.9429\n",
      "Epoch 9/100\n",
      "46/46 [==============================] - 8s 161ms/step - loss: 0.0775 - accuracy: 0.9782 - val_loss: 0.1407 - val_accuracy: 0.9460\n",
      "Epoch 10/100\n",
      "46/46 [==============================] - 7s 156ms/step - loss: 0.0622 - accuracy: 0.9857 - val_loss: 0.1440 - val_accuracy: 0.9524\n",
      "Epoch 11/100\n",
      "46/46 [==============================] - 7s 160ms/step - loss: 0.0567 - accuracy: 0.9857 - val_loss: 0.1371 - val_accuracy: 0.9524\n",
      "Epoch 12/100\n",
      "46/46 [==============================] - 8s 163ms/step - loss: 0.0490 - accuracy: 0.9898 - val_loss: 0.1350 - val_accuracy: 0.9460\n",
      "Epoch 13/100\n",
      "46/46 [==============================] - 7s 160ms/step - loss: 0.0592 - accuracy: 0.9878 - val_loss: 0.1238 - val_accuracy: 0.9524\n",
      "Epoch 14/100\n",
      "46/46 [==============================] - 7s 157ms/step - loss: 0.0391 - accuracy: 0.9905 - val_loss: 0.1327 - val_accuracy: 0.9460\n",
      "Epoch 15/100\n",
      "46/46 [==============================] - 7s 157ms/step - loss: 0.0315 - accuracy: 0.9959 - val_loss: 0.1308 - val_accuracy: 0.9492\n",
      "Epoch 16/100\n",
      "46/46 [==============================] - 8s 162ms/step - loss: 0.0355 - accuracy: 0.9918 - val_loss: 0.1316 - val_accuracy: 0.9492\n",
      "Epoch 17/100\n",
      "46/46 [==============================] - 7s 159ms/step - loss: 0.0394 - accuracy: 0.9912 - val_loss: 0.1314 - val_accuracy: 0.9492\n",
      "Epoch 18/100\n",
      "46/46 [==============================] - 7s 159ms/step - loss: 0.0327 - accuracy: 0.9932 - val_loss: 0.1310 - val_accuracy: 0.9524\n",
      "Epoch 1/100\n",
      "46/46 [==============================] - 16s 214ms/step - loss: 0.0422 - accuracy: 0.9884 - val_loss: 0.1178 - val_accuracy: 0.9556\n",
      "Epoch 2/100\n",
      "46/46 [==============================] - 8s 174ms/step - loss: 0.0335 - accuracy: 0.9905 - val_loss: 0.1038 - val_accuracy: 0.9619\n",
      "Epoch 3/100\n",
      "46/46 [==============================] - 8s 172ms/step - loss: 0.0238 - accuracy: 0.9966 - val_loss: 0.1073 - val_accuracy: 0.9619\n",
      "Epoch 4/100\n",
      "46/46 [==============================] - 8s 173ms/step - loss: 0.0246 - accuracy: 0.9932 - val_loss: 0.1032 - val_accuracy: 0.9619\n",
      "Epoch 5/100\n",
      "46/46 [==============================] - 8s 170ms/step - loss: 0.0163 - accuracy: 0.9973 - val_loss: 0.1049 - val_accuracy: 0.9587\n",
      "Epoch 6/100\n",
      "46/46 [==============================] - 8s 169ms/step - loss: 0.0195 - accuracy: 0.9946 - val_loss: 0.1330 - val_accuracy: 0.9619\n",
      "Epoch 7/100\n",
      "46/46 [==============================] - 8s 168ms/step - loss: 0.0132 - accuracy: 0.9980 - val_loss: 0.1070 - val_accuracy: 0.9619\n",
      "Epoch 8/100\n",
      "46/46 [==============================] - 8s 169ms/step - loss: 0.0099 - accuracy: 0.9980 - val_loss: 0.1068 - val_accuracy: 0.9619\n",
      "Epoch 9/100\n",
      "46/46 [==============================] - 8s 171ms/step - loss: 0.0131 - accuracy: 0.9959 - val_loss: 0.0920 - val_accuracy: 0.9683\n",
      "Epoch 10/100\n",
      "46/46 [==============================] - 8s 172ms/step - loss: 0.0069 - accuracy: 0.9993 - val_loss: 0.1039 - val_accuracy: 0.9619\n",
      "Epoch 11/100\n",
      "46/46 [==============================] - 8s 170ms/step - loss: 0.0082 - accuracy: 0.9986 - val_loss: 0.0976 - val_accuracy: 0.9651\n",
      "Epoch 12/100\n",
      "46/46 [==============================] - 8s 171ms/step - loss: 0.0087 - accuracy: 0.9973 - val_loss: 0.1013 - val_accuracy: 0.9651\n",
      "Epoch 13/100\n",
      "46/46 [==============================] - 8s 169ms/step - loss: 0.0054 - accuracy: 1.0000 - val_loss: 0.1090 - val_accuracy: 0.9651\n",
      "Epoch 14/100\n",
      "46/46 [==============================] - 8s 171ms/step - loss: 0.0044 - accuracy: 0.9993 - val_loss: 0.1019 - val_accuracy: 0.9651\n",
      "INFO:tensorflow:Assets written to: models\\uc_merced\\effnetB1\\assets\n"
     ]
    },
    {
     "name": "stderr",
     "output_type": "stream",
     "text": [
      "INFO:tensorflow:Assets written to: models\\uc_merced\\effnetB1\\assets\n"
     ]
    },
    {
     "data": {
      "text/plain": [
       "(<keras.callbacks.History at 0x16c39e9e5b0>,\n",
       " <keras.callbacks.History at 0x16c991f7e80>)"
      ]
     },
     "execution_count": 5,
     "metadata": {},
     "output_type": "execute_result"
    }
   ],
   "source": [
    "model_name = \"effnetB1\"\n",
    "dropout_rate = 0.3\n",
    "train_on_dataset(model_name, dataset_name, dropout_rate)"
   ]
  },
  {
   "cell_type": "code",
   "execution_count": 6,
   "id": "e44c0f01",
   "metadata": {
    "collapsed": true
   },
   "outputs": [
    {
     "name": "stdout",
     "output_type": "stream",
     "text": [
      "Epoch 1/100\n",
      "46/46 [==============================] - 21s 273ms/step - loss: 1.7065 - accuracy: 0.5150 - val_loss: 1.2504 - val_accuracy: 0.8635\n",
      "Epoch 2/100\n",
      "46/46 [==============================] - 9s 192ms/step - loss: 0.4565 - accuracy: 0.8599 - val_loss: 0.7500 - val_accuracy: 0.9206\n",
      "Epoch 3/100\n",
      "46/46 [==============================] - 9s 194ms/step - loss: 0.2734 - accuracy: 0.9156 - val_loss: 0.4859 - val_accuracy: 0.9365\n",
      "Epoch 4/100\n",
      "46/46 [==============================] - 9s 194ms/step - loss: 0.2066 - accuracy: 0.9367 - val_loss: 0.3352 - val_accuracy: 0.9492\n",
      "Epoch 5/100\n",
      "46/46 [==============================] - 9s 191ms/step - loss: 0.1543 - accuracy: 0.9531 - val_loss: 0.2512 - val_accuracy: 0.9556\n",
      "Epoch 6/100\n",
      "46/46 [==============================] - 9s 192ms/step - loss: 0.1265 - accuracy: 0.9653 - val_loss: 0.2031 - val_accuracy: 0.9556\n",
      "Epoch 7/100\n",
      "46/46 [==============================] - 9s 193ms/step - loss: 0.1074 - accuracy: 0.9728 - val_loss: 0.1732 - val_accuracy: 0.9556\n",
      "Epoch 8/100\n",
      "46/46 [==============================] - 9s 193ms/step - loss: 0.0739 - accuracy: 0.9844 - val_loss: 0.1653 - val_accuracy: 0.9556\n",
      "Epoch 9/100\n",
      "46/46 [==============================] - 9s 192ms/step - loss: 0.0697 - accuracy: 0.9803 - val_loss: 0.1427 - val_accuracy: 0.9587\n",
      "Epoch 10/100\n",
      "46/46 [==============================] - 9s 190ms/step - loss: 0.0686 - accuracy: 0.9823 - val_loss: 0.1433 - val_accuracy: 0.9587\n",
      "Epoch 11/100\n",
      "46/46 [==============================] - 9s 193ms/step - loss: 0.0621 - accuracy: 0.9810 - val_loss: 0.1385 - val_accuracy: 0.9556\n",
      "Epoch 12/100\n",
      "46/46 [==============================] - 9s 192ms/step - loss: 0.0596 - accuracy: 0.9823 - val_loss: 0.1573 - val_accuracy: 0.9524\n",
      "Epoch 13/100\n",
      "46/46 [==============================] - 9s 190ms/step - loss: 0.0534 - accuracy: 0.9850 - val_loss: 0.1505 - val_accuracy: 0.9429\n",
      "Epoch 14/100\n",
      "46/46 [==============================] - 9s 190ms/step - loss: 0.0363 - accuracy: 0.9932 - val_loss: 0.1417 - val_accuracy: 0.9524\n",
      "Epoch 15/100\n",
      "46/46 [==============================] - 9s 190ms/step - loss: 0.0390 - accuracy: 0.9898 - val_loss: 0.1388 - val_accuracy: 0.9524\n",
      "Epoch 16/100\n",
      "46/46 [==============================] - 9s 193ms/step - loss: 0.0423 - accuracy: 0.9891 - val_loss: 0.1442 - val_accuracy: 0.9492\n",
      "Epoch 1/100\n",
      "46/46 [==============================] - 18s 254ms/step - loss: 0.0564 - accuracy: 0.9850 - val_loss: 0.1304 - val_accuracy: 0.9492\n",
      "Epoch 2/100\n",
      "46/46 [==============================] - 10s 211ms/step - loss: 0.0296 - accuracy: 0.9946 - val_loss: 0.1540 - val_accuracy: 0.9429\n",
      "Epoch 3/100\n",
      "46/46 [==============================] - 10s 210ms/step - loss: 0.0348 - accuracy: 0.9905 - val_loss: 0.1401 - val_accuracy: 0.9619\n",
      "Epoch 4/100\n",
      "46/46 [==============================] - 10s 214ms/step - loss: 0.0254 - accuracy: 0.9925 - val_loss: 0.1292 - val_accuracy: 0.9619\n",
      "Epoch 5/100\n",
      "46/46 [==============================] - 10s 211ms/step - loss: 0.0229 - accuracy: 0.9932 - val_loss: 0.1493 - val_accuracy: 0.9651\n",
      "Epoch 6/100\n",
      "46/46 [==============================] - 10s 212ms/step - loss: 0.0135 - accuracy: 0.9966 - val_loss: 0.1259 - val_accuracy: 0.9619\n",
      "Epoch 7/100\n",
      "46/46 [==============================] - 10s 211ms/step - loss: 0.0118 - accuracy: 0.9980 - val_loss: 0.1307 - val_accuracy: 0.9651\n",
      "Epoch 8/100\n",
      "46/46 [==============================] - 10s 213ms/step - loss: 0.0204 - accuracy: 0.9946 - val_loss: 0.1433 - val_accuracy: 0.9683\n",
      "Epoch 9/100\n",
      "46/46 [==============================] - 10s 214ms/step - loss: 0.0116 - accuracy: 0.9986 - val_loss: 0.1188 - val_accuracy: 0.9683\n",
      "Epoch 10/100\n",
      "46/46 [==============================] - 10s 211ms/step - loss: 0.0111 - accuracy: 0.9973 - val_loss: 0.1130 - val_accuracy: 0.9651\n",
      "Epoch 11/100\n",
      "46/46 [==============================] - 10s 210ms/step - loss: 0.0085 - accuracy: 0.9986 - val_loss: 0.1368 - val_accuracy: 0.9619\n",
      "Epoch 12/100\n",
      "46/46 [==============================] - 10s 210ms/step - loss: 0.0101 - accuracy: 0.9980 - val_loss: 0.1290 - val_accuracy: 0.9619\n",
      "Epoch 13/100\n",
      "46/46 [==============================] - 10s 210ms/step - loss: 0.0087 - accuracy: 0.9980 - val_loss: 0.1308 - val_accuracy: 0.9619\n",
      "Epoch 14/100\n",
      "46/46 [==============================] - 10s 210ms/step - loss: 0.0056 - accuracy: 1.0000 - val_loss: 0.1179 - val_accuracy: 0.9619\n",
      "Epoch 15/100\n",
      "46/46 [==============================] - 10s 211ms/step - loss: 0.0153 - accuracy: 0.9973 - val_loss: 0.1166 - val_accuracy: 0.9556\n",
      "INFO:tensorflow:Assets written to: models\\uc_merced\\effnetB2\\assets\n"
     ]
    },
    {
     "name": "stderr",
     "output_type": "stream",
     "text": [
      "INFO:tensorflow:Assets written to: models\\uc_merced\\effnetB2\\assets\n"
     ]
    },
    {
     "data": {
      "text/plain": [
       "(<keras.callbacks.History at 0x16cb1147850>,\n",
       " <keras.callbacks.History at 0x16cb2533820>)"
      ]
     },
     "execution_count": 6,
     "metadata": {},
     "output_type": "execute_result"
    }
   ],
   "source": [
    "model_name = \"effnetB2\"\n",
    "dropout_rate = 0.3\n",
    "train_on_dataset(model_name, dataset_name, dropout_rate)"
   ]
  },
  {
   "cell_type": "code",
   "execution_count": 5,
   "id": "7dba0e8a",
   "metadata": {
    "collapsed": true
   },
   "outputs": [
    {
     "name": "stdout",
     "output_type": "stream",
     "text": [
      "Epoch 1/100\n",
      "46/46 [==============================] - 30s 430ms/step - loss: 2.0456 - accuracy: 0.4510 - val_loss: 1.1659 - val_accuracy: 0.8381\n",
      "Epoch 2/100\n",
      "46/46 [==============================] - 15s 319ms/step - loss: 0.5869 - accuracy: 0.8116 - val_loss: 0.6832 - val_accuracy: 0.8857\n",
      "Epoch 3/100\n",
      "46/46 [==============================] - 15s 317ms/step - loss: 0.4014 - accuracy: 0.8735 - val_loss: 0.4544 - val_accuracy: 0.9079\n",
      "Epoch 4/100\n",
      "46/46 [==============================] - 15s 318ms/step - loss: 0.2649 - accuracy: 0.9224 - val_loss: 0.3284 - val_accuracy: 0.9175\n",
      "Epoch 5/100\n",
      "46/46 [==============================] - 15s 316ms/step - loss: 0.2213 - accuracy: 0.9272 - val_loss: 0.2652 - val_accuracy: 0.9206\n",
      "Epoch 6/100\n",
      "46/46 [==============================] - 15s 318ms/step - loss: 0.1698 - accuracy: 0.9408 - val_loss: 0.2244 - val_accuracy: 0.9333\n",
      "Epoch 7/100\n",
      "46/46 [==============================] - 15s 316ms/step - loss: 0.1520 - accuracy: 0.9517 - val_loss: 0.2113 - val_accuracy: 0.9365\n",
      "Epoch 8/100\n",
      "46/46 [==============================] - 15s 318ms/step - loss: 0.1226 - accuracy: 0.9626 - val_loss: 0.1962 - val_accuracy: 0.9492\n",
      "Epoch 9/100\n",
      "46/46 [==============================] - 15s 316ms/step - loss: 0.1162 - accuracy: 0.9687 - val_loss: 0.1960 - val_accuracy: 0.9429\n",
      "Epoch 10/100\n",
      "46/46 [==============================] - 15s 319ms/step - loss: 0.0991 - accuracy: 0.9721 - val_loss: 0.2001 - val_accuracy: 0.9524\n",
      "Epoch 11/100\n",
      "46/46 [==============================] - 15s 319ms/step - loss: 0.0848 - accuracy: 0.9728 - val_loss: 0.1804 - val_accuracy: 0.9460\n",
      "Epoch 12/100\n",
      "46/46 [==============================] - 15s 317ms/step - loss: 0.0703 - accuracy: 0.9810 - val_loss: 0.1838 - val_accuracy: 0.9492\n",
      "Epoch 13/100\n",
      "46/46 [==============================] - 15s 320ms/step - loss: 0.0774 - accuracy: 0.9782 - val_loss: 0.1786 - val_accuracy: 0.9460\n",
      "Epoch 14/100\n",
      "46/46 [==============================] - 15s 318ms/step - loss: 0.0741 - accuracy: 0.9776 - val_loss: 0.1750 - val_accuracy: 0.9460\n",
      "Epoch 15/100\n",
      "46/46 [==============================] - 15s 317ms/step - loss: 0.0686 - accuracy: 0.9796 - val_loss: 0.1788 - val_accuracy: 0.9460\n",
      "Epoch 16/100\n",
      "46/46 [==============================] - 15s 318ms/step - loss: 0.0706 - accuracy: 0.9755 - val_loss: 0.1648 - val_accuracy: 0.9429\n",
      "Epoch 17/100\n",
      "46/46 [==============================] - 15s 316ms/step - loss: 0.0633 - accuracy: 0.9816 - val_loss: 0.1746 - val_accuracy: 0.9429\n",
      "Epoch 18/100\n",
      "46/46 [==============================] - 15s 316ms/step - loss: 0.0663 - accuracy: 0.9782 - val_loss: 0.1691 - val_accuracy: 0.9429\n",
      "Epoch 19/100\n",
      "46/46 [==============================] - 15s 314ms/step - loss: 0.0623 - accuracy: 0.9782 - val_loss: 0.1863 - val_accuracy: 0.9492\n",
      "Epoch 20/100\n",
      "46/46 [==============================] - 15s 316ms/step - loss: 0.0538 - accuracy: 0.9803 - val_loss: 0.1864 - val_accuracy: 0.9460\n",
      "Epoch 21/100\n",
      "46/46 [==============================] - 15s 320ms/step - loss: 0.0632 - accuracy: 0.9803 - val_loss: 0.1893 - val_accuracy: 0.9492\n",
      "Epoch 1/100\n",
      "46/46 [==============================] - 26s 393ms/step - loss: 0.0672 - accuracy: 0.9810 - val_loss: 0.1514 - val_accuracy: 0.9524\n",
      "Epoch 2/100\n",
      "46/46 [==============================] - 16s 346ms/step - loss: 0.0521 - accuracy: 0.9850 - val_loss: 0.1621 - val_accuracy: 0.9492\n",
      "Epoch 3/100\n",
      "46/46 [==============================] - 16s 342ms/step - loss: 0.0259 - accuracy: 0.9952 - val_loss: 0.1638 - val_accuracy: 0.9492\n",
      "Epoch 4/100\n",
      "46/46 [==============================] - 16s 341ms/step - loss: 0.0310 - accuracy: 0.9925 - val_loss: 0.1664 - val_accuracy: 0.9556\n",
      "Epoch 5/100\n",
      "46/46 [==============================] - 16s 341ms/step - loss: 0.0238 - accuracy: 0.9939 - val_loss: 0.1679 - val_accuracy: 0.9492\n",
      "Epoch 6/100\n",
      "46/46 [==============================] - 16s 345ms/step - loss: 0.0234 - accuracy: 0.9912 - val_loss: 0.1454 - val_accuracy: 0.9556\n",
      "Epoch 7/100\n",
      "46/46 [==============================] - 16s 342ms/step - loss: 0.0243 - accuracy: 0.9918 - val_loss: 0.1959 - val_accuracy: 0.9492\n",
      "Epoch 8/100\n",
      "46/46 [==============================] - 16s 343ms/step - loss: 0.0152 - accuracy: 0.9980 - val_loss: 0.1685 - val_accuracy: 0.9524\n",
      "Epoch 9/100\n",
      "46/46 [==============================] - 16s 344ms/step - loss: 0.0130 - accuracy: 0.9980 - val_loss: 0.1613 - val_accuracy: 0.9556\n",
      "Epoch 10/100\n",
      "46/46 [==============================] - 16s 343ms/step - loss: 0.0174 - accuracy: 0.9952 - val_loss: 0.1662 - val_accuracy: 0.9524\n",
      "Epoch 11/100\n",
      "46/46 [==============================] - 16s 347ms/step - loss: 0.0120 - accuracy: 0.9966 - val_loss: 0.1659 - val_accuracy: 0.9587\n",
      "INFO:tensorflow:Assets written to: models\\uc_merced\\effnetB3\\assets\n"
     ]
    },
    {
     "name": "stderr",
     "output_type": "stream",
     "text": [
      "INFO:tensorflow:Assets written to: models\\uc_merced\\effnetB3\\assets\n"
     ]
    },
    {
     "data": {
      "text/plain": [
       "(<keras.callbacks.History at 0x151f9d4d7c0>,\n",
       " <keras.callbacks.History at 0x151f9edfb50>)"
      ]
     },
     "execution_count": 5,
     "metadata": {},
     "output_type": "execute_result"
    }
   ],
   "source": [
    "model_name = \"effnetB3\"\n",
    "dropout_rate = 0.45\n",
    "train_on_dataset(model_name, dataset_name, dropout_rate)"
   ]
  },
  {
   "cell_type": "code",
   "execution_count": 22,
   "id": "010da2c8",
   "metadata": {
    "collapsed": true
   },
   "outputs": [
    {
     "name": "stdout",
     "output_type": "stream",
     "text": [
      "Epoch 1/100\n",
      "46/46 [==============================] - 15s 115ms/step - loss: 1.5107 - accuracy: 0.5782 - val_loss: 1.1382 - val_accuracy: 0.8000\n",
      "Epoch 2/100\n",
      "46/46 [==============================] - 4s 86ms/step - loss: 0.3317 - accuracy: 0.9088 - val_loss: 0.6933 - val_accuracy: 0.8984\n",
      "Epoch 3/100\n",
      "46/46 [==============================] - 4s 85ms/step - loss: 0.1892 - accuracy: 0.9442 - val_loss: 0.4585 - val_accuracy: 0.9238\n",
      "Epoch 4/100\n",
      "46/46 [==============================] - 4s 86ms/step - loss: 0.1111 - accuracy: 0.9755 - val_loss: 0.3267 - val_accuracy: 0.9397\n",
      "Epoch 5/100\n",
      "46/46 [==============================] - 4s 86ms/step - loss: 0.0951 - accuracy: 0.9823 - val_loss: 0.2482 - val_accuracy: 0.9460\n",
      "Epoch 6/100\n",
      "46/46 [==============================] - 4s 86ms/step - loss: 0.0646 - accuracy: 0.9884 - val_loss: 0.2021 - val_accuracy: 0.9492\n",
      "Epoch 7/100\n",
      "46/46 [==============================] - 4s 86ms/step - loss: 0.0544 - accuracy: 0.9905 - val_loss: 0.1757 - val_accuracy: 0.9524\n",
      "Epoch 8/100\n",
      "46/46 [==============================] - 4s 86ms/step - loss: 0.0430 - accuracy: 0.9973 - val_loss: 0.1644 - val_accuracy: 0.9397\n",
      "Epoch 9/100\n",
      "46/46 [==============================] - 4s 85ms/step - loss: 0.0331 - accuracy: 0.9993 - val_loss: 0.1448 - val_accuracy: 0.9460\n",
      "Epoch 10/100\n",
      "46/46 [==============================] - 4s 85ms/step - loss: 0.0351 - accuracy: 0.9932 - val_loss: 0.1344 - val_accuracy: 0.9587\n",
      "Epoch 11/100\n",
      "46/46 [==============================] - 4s 83ms/step - loss: 0.0288 - accuracy: 0.9973 - val_loss: 0.1391 - val_accuracy: 0.9429\n",
      "Epoch 12/100\n",
      "46/46 [==============================] - 4s 86ms/step - loss: 0.0245 - accuracy: 0.9980 - val_loss: 0.1312 - val_accuracy: 0.9492\n",
      "Epoch 13/100\n",
      "46/46 [==============================] - 4s 85ms/step - loss: 0.0195 - accuracy: 0.9986 - val_loss: 0.1241 - val_accuracy: 0.9524\n",
      "Epoch 14/100\n",
      "46/46 [==============================] - 4s 85ms/step - loss: 0.0221 - accuracy: 0.9973 - val_loss: 0.1222 - val_accuracy: 0.9556\n",
      "Epoch 15/100\n",
      "46/46 [==============================] - 4s 86ms/step - loss: 0.0161 - accuracy: 0.9993 - val_loss: 0.1204 - val_accuracy: 0.9524\n",
      "Epoch 16/100\n",
      "46/46 [==============================] - 4s 84ms/step - loss: 0.0150 - accuracy: 0.9993 - val_loss: 0.1251 - val_accuracy: 0.9556\n",
      "Epoch 17/100\n",
      "46/46 [==============================] - 4s 84ms/step - loss: 0.0126 - accuracy: 0.9993 - val_loss: 0.1258 - val_accuracy: 0.9492\n",
      "Epoch 18/100\n",
      "46/46 [==============================] - 4s 87ms/step - loss: 0.0130 - accuracy: 1.0000 - val_loss: 0.1179 - val_accuracy: 0.9524\n",
      "Epoch 19/100\n",
      "46/46 [==============================] - 4s 83ms/step - loss: 0.0132 - accuracy: 0.9986 - val_loss: 0.1191 - val_accuracy: 0.9587\n",
      "Epoch 20/100\n",
      "46/46 [==============================] - 4s 83ms/step - loss: 0.0101 - accuracy: 1.0000 - val_loss: 0.1192 - val_accuracy: 0.9460\n",
      "Epoch 21/100\n",
      "46/46 [==============================] - 4s 86ms/step - loss: 0.0101 - accuracy: 1.0000 - val_loss: 0.1155 - val_accuracy: 0.9587\n",
      "Epoch 22/100\n",
      "46/46 [==============================] - 4s 87ms/step - loss: 0.0096 - accuracy: 0.9993 - val_loss: 0.1140 - val_accuracy: 0.9587\n",
      "Epoch 23/100\n",
      "46/46 [==============================] - 4s 85ms/step - loss: 0.0102 - accuracy: 0.9986 - val_loss: 0.1161 - val_accuracy: 0.9587\n",
      "Epoch 24/100\n",
      "46/46 [==============================] - 4s 83ms/step - loss: 0.0074 - accuracy: 1.0000 - val_loss: 0.1185 - val_accuracy: 0.9492\n",
      "Epoch 25/100\n",
      "46/46 [==============================] - 4s 84ms/step - loss: 0.0072 - accuracy: 1.0000 - val_loss: 0.1167 - val_accuracy: 0.9524\n",
      "Epoch 26/100\n",
      "46/46 [==============================] - 4s 83ms/step - loss: 0.0090 - accuracy: 1.0000 - val_loss: 0.1164 - val_accuracy: 0.9524\n",
      "Epoch 27/100\n",
      "46/46 [==============================] - 4s 86ms/step - loss: 0.0060 - accuracy: 1.0000 - val_loss: 0.1140 - val_accuracy: 0.9619\n",
      "Epoch 28/100\n",
      "46/46 [==============================] - 4s 85ms/step - loss: 0.0053 - accuracy: 1.0000 - val_loss: 0.1139 - val_accuracy: 0.9587\n",
      "Epoch 29/100\n",
      "46/46 [==============================] - 4s 83ms/step - loss: 0.0063 - accuracy: 1.0000 - val_loss: 0.1168 - val_accuracy: 0.9524\n",
      "Epoch 30/100\n",
      "46/46 [==============================] - 4s 84ms/step - loss: 0.0055 - accuracy: 1.0000 - val_loss: 0.1155 - val_accuracy: 0.9556\n",
      "Epoch 31/100\n",
      "46/46 [==============================] - 4s 86ms/step - loss: 0.0069 - accuracy: 1.0000 - val_loss: 0.1086 - val_accuracy: 0.9556\n",
      "Epoch 32/100\n",
      "46/46 [==============================] - 4s 84ms/step - loss: 0.0053 - accuracy: 1.0000 - val_loss: 0.1123 - val_accuracy: 0.9587\n",
      "Epoch 33/100\n",
      "46/46 [==============================] - 4s 84ms/step - loss: 0.0041 - accuracy: 1.0000 - val_loss: 0.1158 - val_accuracy: 0.9651\n",
      "Epoch 34/100\n",
      "46/46 [==============================] - 4s 83ms/step - loss: 0.0058 - accuracy: 0.9993 - val_loss: 0.1102 - val_accuracy: 0.9619\n",
      "Epoch 35/100\n",
      "46/46 [==============================] - 4s 84ms/step - loss: 0.0044 - accuracy: 1.0000 - val_loss: 0.1088 - val_accuracy: 0.9587\n",
      "Epoch 36/100\n",
      "46/46 [==============================] - 4s 85ms/step - loss: 0.0050 - accuracy: 1.0000 - val_loss: 0.1091 - val_accuracy: 0.9619\n",
      "Epoch 1/100\n",
      "46/46 [==============================] - 10s 120ms/step - loss: 0.0046 - accuracy: 1.0000 - val_loss: 0.1138 - val_accuracy: 0.9587\n",
      "Epoch 2/100\n",
      "46/46 [==============================] - 5s 90ms/step - loss: 0.0034 - accuracy: 1.0000 - val_loss: 0.1212 - val_accuracy: 0.9524\n",
      "Epoch 3/100\n",
      "46/46 [==============================] - 5s 92ms/step - loss: 0.0033 - accuracy: 1.0000 - val_loss: 0.1079 - val_accuracy: 0.9651\n",
      "Epoch 4/100\n",
      "46/46 [==============================] - 5s 93ms/step - loss: 0.0018 - accuracy: 1.0000 - val_loss: 0.1060 - val_accuracy: 0.9619\n",
      "Epoch 5/100\n",
      "46/46 [==============================] - 5s 92ms/step - loss: 0.0017 - accuracy: 1.0000 - val_loss: 0.1018 - val_accuracy: 0.9651\n",
      "Epoch 6/100\n",
      "46/46 [==============================] - 5s 91ms/step - loss: 0.0013 - accuracy: 1.0000 - val_loss: 0.1068 - val_accuracy: 0.9683\n",
      "Epoch 7/100\n",
      "46/46 [==============================] - 5s 90ms/step - loss: 0.0011 - accuracy: 1.0000 - val_loss: 0.1114 - val_accuracy: 0.9651\n",
      "Epoch 8/100\n",
      "46/46 [==============================] - 5s 90ms/step - loss: 0.0010 - accuracy: 1.0000 - val_loss: 0.1073 - val_accuracy: 0.9651\n",
      "Epoch 9/100\n",
      "46/46 [==============================] - 5s 94ms/step - loss: 0.0012 - accuracy: 1.0000 - val_loss: 0.1018 - val_accuracy: 0.9746\n",
      "Epoch 10/100\n",
      "46/46 [==============================] - 5s 94ms/step - loss: 8.9463e-04 - accuracy: 1.0000 - val_loss: 0.1048 - val_accuracy: 0.9683\n",
      "INFO:tensorflow:Assets written to: models\\uc_merced\\effnetv2B0\\assets\n"
     ]
    },
    {
     "name": "stderr",
     "output_type": "stream",
     "text": [
      "INFO:tensorflow:Assets written to: models\\uc_merced\\effnetv2B0\\assets\n"
     ]
    },
    {
     "data": {
      "text/plain": [
       "(<keras.callbacks.History at 0x199185c44c0>,\n",
       " <keras.callbacks.History at 0x198cb022cd0>)"
      ]
     },
     "execution_count": 22,
     "metadata": {},
     "output_type": "execute_result"
    }
   ],
   "source": [
    "model_name = \"effnetv2B0\"\n",
    "dropout_rate = 0.2\n",
    "train_on_dataset(model_name, dataset_name, dropout_rate)"
   ]
  },
  {
   "cell_type": "code",
   "execution_count": 23,
   "id": "8fa9a294",
   "metadata": {
    "collapsed": true
   },
   "outputs": [
    {
     "name": "stdout",
     "output_type": "stream",
     "text": [
      "Epoch 1/100\n",
      "46/46 [==============================] - 14s 159ms/step - loss: 2.3091 - accuracy: 0.3959 - val_loss: 1.3223 - val_accuracy: 0.7968\n",
      "Epoch 2/100\n",
      "46/46 [==============================] - 6s 122ms/step - loss: 0.7338 - accuracy: 0.7660 - val_loss: 0.7666 - val_accuracy: 0.8698\n",
      "Epoch 3/100\n",
      "46/46 [==============================] - 6s 124ms/step - loss: 0.4705 - accuracy: 0.8469 - val_loss: 0.5009 - val_accuracy: 0.9111\n",
      "Epoch 4/100\n",
      "46/46 [==============================] - 6s 124ms/step - loss: 0.3427 - accuracy: 0.8884 - val_loss: 0.3475 - val_accuracy: 0.9175\n",
      "Epoch 5/100\n",
      "46/46 [==============================] - 6s 123ms/step - loss: 0.2507 - accuracy: 0.9224 - val_loss: 0.2650 - val_accuracy: 0.9460\n",
      "Epoch 6/100\n",
      "46/46 [==============================] - 6s 123ms/step - loss: 0.2094 - accuracy: 0.9347 - val_loss: 0.2132 - val_accuracy: 0.9460\n",
      "Epoch 7/100\n",
      "46/46 [==============================] - 6s 121ms/step - loss: 0.1844 - accuracy: 0.9395 - val_loss: 0.1861 - val_accuracy: 0.9429\n",
      "Epoch 8/100\n",
      "46/46 [==============================] - 6s 121ms/step - loss: 0.1453 - accuracy: 0.9537 - val_loss: 0.1772 - val_accuracy: 0.9365\n",
      "Epoch 9/100\n",
      "46/46 [==============================] - 6s 122ms/step - loss: 0.1387 - accuracy: 0.9503 - val_loss: 0.1504 - val_accuracy: 0.9587\n",
      "Epoch 10/100\n",
      "46/46 [==============================] - 6s 121ms/step - loss: 0.1262 - accuracy: 0.9605 - val_loss: 0.1405 - val_accuracy: 0.9556\n",
      "Epoch 11/100\n",
      "46/46 [==============================] - 6s 121ms/step - loss: 0.1049 - accuracy: 0.9646 - val_loss: 0.1385 - val_accuracy: 0.9619\n",
      "Epoch 12/100\n",
      "46/46 [==============================] - 6s 121ms/step - loss: 0.0843 - accuracy: 0.9755 - val_loss: 0.1269 - val_accuracy: 0.9587\n",
      "Epoch 13/100\n",
      "46/46 [==============================] - 6s 120ms/step - loss: 0.0792 - accuracy: 0.9776 - val_loss: 0.1219 - val_accuracy: 0.9556\n",
      "Epoch 14/100\n",
      "46/46 [==============================] - 6s 120ms/step - loss: 0.0732 - accuracy: 0.9796 - val_loss: 0.1121 - val_accuracy: 0.9683\n",
      "Epoch 15/100\n",
      "46/46 [==============================] - 6s 118ms/step - loss: 0.0625 - accuracy: 0.9837 - val_loss: 0.1141 - val_accuracy: 0.9651\n",
      "Epoch 16/100\n",
      "46/46 [==============================] - 6s 120ms/step - loss: 0.0910 - accuracy: 0.9707 - val_loss: 0.1079 - val_accuracy: 0.9714\n",
      "Epoch 17/100\n",
      "46/46 [==============================] - 6s 118ms/step - loss: 0.0669 - accuracy: 0.9782 - val_loss: 0.1171 - val_accuracy: 0.9619\n",
      "Epoch 18/100\n",
      "46/46 [==============================] - 6s 118ms/step - loss: 0.0476 - accuracy: 0.9884 - val_loss: 0.1087 - val_accuracy: 0.9651\n",
      "Epoch 19/100\n",
      "46/46 [==============================] - 6s 120ms/step - loss: 0.0554 - accuracy: 0.9789 - val_loss: 0.1099 - val_accuracy: 0.9651\n",
      "Epoch 20/100\n",
      "46/46 [==============================] - 6s 124ms/step - loss: 0.0466 - accuracy: 0.9891 - val_loss: 0.1038 - val_accuracy: 0.9714\n",
      "Epoch 21/100\n",
      "46/46 [==============================] - 6s 121ms/step - loss: 0.0425 - accuracy: 0.9912 - val_loss: 0.1041 - val_accuracy: 0.9714\n",
      "Epoch 22/100\n",
      "46/46 [==============================] - 6s 125ms/step - loss: 0.0537 - accuracy: 0.9837 - val_loss: 0.1004 - val_accuracy: 0.9683\n",
      "Epoch 23/100\n",
      "46/46 [==============================] - 6s 120ms/step - loss: 0.0391 - accuracy: 0.9878 - val_loss: 0.1013 - val_accuracy: 0.9714\n",
      "Epoch 24/100\n",
      "46/46 [==============================] - 6s 121ms/step - loss: 0.0346 - accuracy: 0.9925 - val_loss: 0.0992 - val_accuracy: 0.9714\n",
      "Epoch 25/100\n",
      "46/46 [==============================] - 6s 118ms/step - loss: 0.0366 - accuracy: 0.9898 - val_loss: 0.1010 - val_accuracy: 0.9714\n",
      "Epoch 26/100\n",
      "46/46 [==============================] - 6s 120ms/step - loss: 0.0353 - accuracy: 0.9905 - val_loss: 0.0990 - val_accuracy: 0.9714\n",
      "Epoch 27/100\n",
      "46/46 [==============================] - 6s 123ms/step - loss: 0.0412 - accuracy: 0.9857 - val_loss: 0.0948 - val_accuracy: 0.9714\n",
      "Epoch 28/100\n",
      "46/46 [==============================] - 6s 121ms/step - loss: 0.0277 - accuracy: 0.9939 - val_loss: 0.0955 - val_accuracy: 0.9746\n",
      "Epoch 29/100\n",
      "46/46 [==============================] - 6s 122ms/step - loss: 0.0277 - accuracy: 0.9946 - val_loss: 0.0947 - val_accuracy: 0.9746\n",
      "Epoch 30/100\n",
      "46/46 [==============================] - 6s 122ms/step - loss: 0.0349 - accuracy: 0.9898 - val_loss: 0.1054 - val_accuracy: 0.9746\n",
      "Epoch 31/100\n",
      "46/46 [==============================] - 6s 124ms/step - loss: 0.0295 - accuracy: 0.9905 - val_loss: 0.1058 - val_accuracy: 0.9683\n",
      "Epoch 32/100\n",
      "46/46 [==============================] - 6s 119ms/step - loss: 0.0258 - accuracy: 0.9925 - val_loss: 0.1066 - val_accuracy: 0.9683\n",
      "Epoch 33/100\n",
      "46/46 [==============================] - 6s 120ms/step - loss: 0.0286 - accuracy: 0.9925 - val_loss: 0.0997 - val_accuracy: 0.9714\n",
      "Epoch 34/100\n",
      "46/46 [==============================] - 6s 121ms/step - loss: 0.0223 - accuracy: 0.9939 - val_loss: 0.0989 - val_accuracy: 0.9683\n",
      "Epoch 1/100\n",
      "46/46 [==============================] - 13s 168ms/step - loss: 0.0366 - accuracy: 0.9891 - val_loss: 0.1004 - val_accuracy: 0.9714\n",
      "Epoch 2/100\n",
      "46/46 [==============================] - 6s 130ms/step - loss: 0.0208 - accuracy: 0.9925 - val_loss: 0.0932 - val_accuracy: 0.9714\n",
      "Epoch 3/100\n",
      "46/46 [==============================] - 6s 130ms/step - loss: 0.0151 - accuracy: 0.9966 - val_loss: 0.0884 - val_accuracy: 0.9746\n",
      "Epoch 4/100\n",
      "46/46 [==============================] - 6s 130ms/step - loss: 0.0150 - accuracy: 0.9973 - val_loss: 0.0803 - val_accuracy: 0.9778\n",
      "Epoch 5/100\n",
      "46/46 [==============================] - 6s 128ms/step - loss: 0.0152 - accuracy: 0.9952 - val_loss: 0.0997 - val_accuracy: 0.9778\n",
      "Epoch 6/100\n",
      "46/46 [==============================] - 6s 128ms/step - loss: 0.0138 - accuracy: 0.9973 - val_loss: 0.0921 - val_accuracy: 0.9746\n",
      "Epoch 7/100\n",
      "46/46 [==============================] - 6s 131ms/step - loss: 0.0129 - accuracy: 0.9966 - val_loss: 0.1023 - val_accuracy: 0.9746\n",
      "Epoch 8/100\n",
      "46/46 [==============================] - 6s 128ms/step - loss: 0.0175 - accuracy: 0.9959 - val_loss: 0.0822 - val_accuracy: 0.9778\n",
      "Epoch 9/100\n",
      "46/46 [==============================] - 6s 130ms/step - loss: 0.0085 - accuracy: 0.9986 - val_loss: 0.0777 - val_accuracy: 0.9778\n",
      "Epoch 10/100\n",
      "46/46 [==============================] - 6s 132ms/step - loss: 0.0078 - accuracy: 0.9993 - val_loss: 0.0848 - val_accuracy: 0.9810\n",
      "Epoch 11/100\n",
      "46/46 [==============================] - 6s 127ms/step - loss: 0.0050 - accuracy: 0.9993 - val_loss: 0.0870 - val_accuracy: 0.9746\n",
      "Epoch 12/100\n",
      "46/46 [==============================] - 6s 128ms/step - loss: 0.0081 - accuracy: 0.9980 - val_loss: 0.0837 - val_accuracy: 0.9810\n",
      "Epoch 13/100\n",
      "46/46 [==============================] - 6s 128ms/step - loss: 0.0065 - accuracy: 0.9993 - val_loss: 0.0842 - val_accuracy: 0.9810\n",
      "Epoch 14/100\n",
      "46/46 [==============================] - 6s 130ms/step - loss: 0.0078 - accuracy: 0.9980 - val_loss: 0.0875 - val_accuracy: 0.9778\n",
      "INFO:tensorflow:Assets written to: models\\uc_merced\\effnetv2B1\\assets\n"
     ]
    },
    {
     "name": "stderr",
     "output_type": "stream",
     "text": [
      "INFO:tensorflow:Assets written to: models\\uc_merced\\effnetv2B1\\assets\n"
     ]
    },
    {
     "data": {
      "text/plain": [
       "(<keras.callbacks.History at 0x199119a71c0>,\n",
       " <keras.callbacks.History at 0x198cae98820>)"
      ]
     },
     "execution_count": 23,
     "metadata": {},
     "output_type": "execute_result"
    }
   ],
   "source": [
    "model_name = \"effnetv2B1\"\n",
    "dropout_rate = 0.55\n",
    "train_on_dataset(model_name, dataset_name, dropout_rate)"
   ]
  },
  {
   "cell_type": "code",
   "execution_count": 24,
   "id": "f0877663",
   "metadata": {
    "collapsed": true
   },
   "outputs": [
    {
     "name": "stdout",
     "output_type": "stream",
     "text": [
      "Epoch 1/100\n",
      "46/46 [==============================] - 16s 188ms/step - loss: 1.5949 - accuracy: 0.5531 - val_loss: 1.2323 - val_accuracy: 0.8254\n",
      "Epoch 2/100\n",
      "46/46 [==============================] - 7s 150ms/step - loss: 0.4123 - accuracy: 0.8837 - val_loss: 0.7703 - val_accuracy: 0.9016\n",
      "Epoch 3/100\n",
      "46/46 [==============================] - 7s 149ms/step - loss: 0.2494 - accuracy: 0.9265 - val_loss: 0.5200 - val_accuracy: 0.9143\n",
      "Epoch 4/100\n",
      "46/46 [==============================] - 7s 149ms/step - loss: 0.1557 - accuracy: 0.9578 - val_loss: 0.3647 - val_accuracy: 0.9333\n",
      "Epoch 5/100\n",
      "46/46 [==============================] - 7s 150ms/step - loss: 0.1077 - accuracy: 0.9707 - val_loss: 0.2749 - val_accuracy: 0.9429\n",
      "Epoch 6/100\n",
      "46/46 [==============================] - 7s 150ms/step - loss: 0.0955 - accuracy: 0.9762 - val_loss: 0.2252 - val_accuracy: 0.9429\n",
      "Epoch 7/100\n",
      "46/46 [==============================] - 7s 151ms/step - loss: 0.0773 - accuracy: 0.9796 - val_loss: 0.1883 - val_accuracy: 0.9492\n",
      "Epoch 8/100\n",
      "46/46 [==============================] - 7s 151ms/step - loss: 0.0563 - accuracy: 0.9905 - val_loss: 0.1783 - val_accuracy: 0.9524\n",
      "Epoch 9/100\n",
      "46/46 [==============================] - 7s 150ms/step - loss: 0.0491 - accuracy: 0.9912 - val_loss: 0.1649 - val_accuracy: 0.9492\n",
      "Epoch 10/100\n",
      "46/46 [==============================] - 7s 152ms/step - loss: 0.0391 - accuracy: 0.9959 - val_loss: 0.1548 - val_accuracy: 0.9492\n",
      "Epoch 11/100\n",
      "46/46 [==============================] - 7s 153ms/step - loss: 0.0419 - accuracy: 0.9891 - val_loss: 0.1541 - val_accuracy: 0.9556\n",
      "Epoch 12/100\n",
      "46/46 [==============================] - 8s 156ms/step - loss: 0.0290 - accuracy: 0.9973 - val_loss: 0.1478 - val_accuracy: 0.9619\n",
      "Epoch 13/100\n",
      "46/46 [==============================] - 7s 152ms/step - loss: 0.0268 - accuracy: 0.9973 - val_loss: 0.1437 - val_accuracy: 0.9619\n",
      "Epoch 14/100\n",
      "46/46 [==============================] - 7s 151ms/step - loss: 0.0322 - accuracy: 0.9966 - val_loss: 0.1351 - val_accuracy: 0.9587\n",
      "Epoch 15/100\n",
      "46/46 [==============================] - 7s 151ms/step - loss: 0.0228 - accuracy: 0.9980 - val_loss: 0.1393 - val_accuracy: 0.9651\n",
      "Epoch 16/100\n",
      "46/46 [==============================] - 8s 154ms/step - loss: 0.0204 - accuracy: 0.9980 - val_loss: 0.1350 - val_accuracy: 0.9619\n",
      "Epoch 17/100\n",
      "46/46 [==============================] - 7s 148ms/step - loss: 0.0189 - accuracy: 0.9966 - val_loss: 0.1364 - val_accuracy: 0.9619\n",
      "Epoch 18/100\n",
      "46/46 [==============================] - 7s 150ms/step - loss: 0.0195 - accuracy: 0.9980 - val_loss: 0.1273 - val_accuracy: 0.9619\n",
      "Epoch 19/100\n",
      "46/46 [==============================] - 7s 148ms/step - loss: 0.0189 - accuracy: 0.9966 - val_loss: 0.1454 - val_accuracy: 0.9651\n",
      "Epoch 20/100\n",
      "46/46 [==============================] - 7s 148ms/step - loss: 0.0150 - accuracy: 0.9986 - val_loss: 0.1360 - val_accuracy: 0.9587\n",
      "Epoch 21/100\n",
      "46/46 [==============================] - 7s 148ms/step - loss: 0.0121 - accuracy: 1.0000 - val_loss: 0.1370 - val_accuracy: 0.9619\n",
      "Epoch 22/100\n",
      "46/46 [==============================] - 7s 148ms/step - loss: 0.0132 - accuracy: 0.9980 - val_loss: 0.1349 - val_accuracy: 0.9619\n",
      "Epoch 23/100\n",
      "46/46 [==============================] - 7s 150ms/step - loss: 0.0114 - accuracy: 0.9986 - val_loss: 0.1392 - val_accuracy: 0.9619\n",
      "Epoch 1/100\n",
      "46/46 [==============================] - 16s 205ms/step - loss: 0.0140 - accuracy: 0.9993 - val_loss: 0.1262 - val_accuracy: 0.9683\n",
      "Epoch 2/100\n",
      "46/46 [==============================] - 8s 171ms/step - loss: 0.0128 - accuracy: 0.9980 - val_loss: 0.1105 - val_accuracy: 0.9746\n",
      "Epoch 3/100\n",
      "46/46 [==============================] - 8s 168ms/step - loss: 0.0118 - accuracy: 0.9973 - val_loss: 0.1196 - val_accuracy: 0.9651\n",
      "Epoch 4/100\n",
      "46/46 [==============================] - 8s 166ms/step - loss: 0.0069 - accuracy: 1.0000 - val_loss: 0.1388 - val_accuracy: 0.9651\n",
      "Epoch 5/100\n",
      "46/46 [==============================] - 8s 166ms/step - loss: 0.0046 - accuracy: 1.0000 - val_loss: 0.1224 - val_accuracy: 0.9619\n",
      "Epoch 6/100\n",
      "46/46 [==============================] - 8s 170ms/step - loss: 0.0051 - accuracy: 1.0000 - val_loss: 0.1276 - val_accuracy: 0.9619\n",
      "Epoch 7/100\n",
      "46/46 [==============================] - 8s 170ms/step - loss: 0.0036 - accuracy: 1.0000 - val_loss: 0.1310 - val_accuracy: 0.9651\n",
      "INFO:tensorflow:Assets written to: models\\uc_merced\\effnetv2B2\\assets\n"
     ]
    },
    {
     "name": "stderr",
     "output_type": "stream",
     "text": [
      "INFO:tensorflow:Assets written to: models\\uc_merced\\effnetv2B2\\assets\n"
     ]
    },
    {
     "data": {
      "text/plain": [
       "(<keras.callbacks.History at 0x1996eab38b0>,\n",
       " <keras.callbacks.History at 0x1992db75790>)"
      ]
     },
     "execution_count": 24,
     "metadata": {},
     "output_type": "execute_result"
    }
   ],
   "source": [
    "model_name = \"effnetv2B2\"\n",
    "dropout_rate = 0.3\n",
    "train_on_dataset(model_name, dataset_name, dropout_rate)"
   ]
  },
  {
   "cell_type": "code",
   "execution_count": 25,
   "id": "3025a0fa",
   "metadata": {
    "collapsed": true
   },
   "outputs": [
    {
     "name": "stdout",
     "output_type": "stream",
     "text": [
      "Epoch 1/100\n",
      "46/46 [==============================] - 22s 299ms/step - loss: 2.1702 - accuracy: 0.4408 - val_loss: 1.2257 - val_accuracy: 0.7937\n",
      "Epoch 2/100\n",
      "46/46 [==============================] - 12s 253ms/step - loss: 0.5777 - accuracy: 0.8129 - val_loss: 0.7280 - val_accuracy: 0.8825\n",
      "Epoch 3/100\n",
      "46/46 [==============================] - 12s 253ms/step - loss: 0.3845 - accuracy: 0.8687 - val_loss: 0.4682 - val_accuracy: 0.9175\n",
      "Epoch 4/100\n",
      "46/46 [==============================] - 12s 252ms/step - loss: 0.2678 - accuracy: 0.9177 - val_loss: 0.3493 - val_accuracy: 0.9175\n",
      "Epoch 5/100\n",
      "46/46 [==============================] - 12s 253ms/step - loss: 0.2084 - accuracy: 0.9333 - val_loss: 0.2716 - val_accuracy: 0.9333\n",
      "Epoch 6/100\n",
      "46/46 [==============================] - 12s 257ms/step - loss: 0.1627 - accuracy: 0.9476 - val_loss: 0.2295 - val_accuracy: 0.9397\n",
      "Epoch 7/100\n",
      "46/46 [==============================] - 12s 253ms/step - loss: 0.1299 - accuracy: 0.9571 - val_loss: 0.1970 - val_accuracy: 0.9397\n",
      "Epoch 8/100\n",
      "46/46 [==============================] - 12s 253ms/step - loss: 0.1048 - accuracy: 0.9660 - val_loss: 0.1933 - val_accuracy: 0.9460\n",
      "Epoch 9/100\n",
      "46/46 [==============================] - 12s 253ms/step - loss: 0.0975 - accuracy: 0.9701 - val_loss: 0.1852 - val_accuracy: 0.9460\n",
      "Epoch 10/100\n",
      "46/46 [==============================] - 12s 254ms/step - loss: 0.0942 - accuracy: 0.9694 - val_loss: 0.1806 - val_accuracy: 0.9333\n",
      "Epoch 11/100\n",
      "46/46 [==============================] - 12s 254ms/step - loss: 0.0690 - accuracy: 0.9837 - val_loss: 0.1801 - val_accuracy: 0.9429\n",
      "Epoch 12/100\n",
      "46/46 [==============================] - 12s 250ms/step - loss: 0.0722 - accuracy: 0.9796 - val_loss: 0.1881 - val_accuracy: 0.9460\n",
      "Epoch 13/100\n",
      "46/46 [==============================] - 12s 253ms/step - loss: 0.0652 - accuracy: 0.9803 - val_loss: 0.1795 - val_accuracy: 0.9429\n",
      "Epoch 14/100\n",
      "46/46 [==============================] - 12s 254ms/step - loss: 0.0635 - accuracy: 0.9823 - val_loss: 0.1773 - val_accuracy: 0.9524\n",
      "Epoch 15/100\n",
      "46/46 [==============================] - 12s 253ms/step - loss: 0.0559 - accuracy: 0.9871 - val_loss: 0.1684 - val_accuracy: 0.9524\n",
      "Epoch 16/100\n",
      "46/46 [==============================] - 12s 253ms/step - loss: 0.0511 - accuracy: 0.9850 - val_loss: 0.1591 - val_accuracy: 0.9651\n",
      "Epoch 17/100\n",
      "46/46 [==============================] - 12s 250ms/step - loss: 0.0465 - accuracy: 0.9857 - val_loss: 0.1662 - val_accuracy: 0.9556\n",
      "Epoch 18/100\n",
      "46/46 [==============================] - 12s 250ms/step - loss: 0.0458 - accuracy: 0.9864 - val_loss: 0.1669 - val_accuracy: 0.9524\n",
      "Epoch 19/100\n",
      "46/46 [==============================] - 12s 251ms/step - loss: 0.0424 - accuracy: 0.9857 - val_loss: 0.1780 - val_accuracy: 0.9556\n",
      "Epoch 20/100\n",
      "46/46 [==============================] - 12s 250ms/step - loss: 0.0377 - accuracy: 0.9884 - val_loss: 0.1792 - val_accuracy: 0.9556\n",
      "Epoch 21/100\n",
      "46/46 [==============================] - 12s 254ms/step - loss: 0.0368 - accuracy: 0.9891 - val_loss: 0.1651 - val_accuracy: 0.9587\n",
      "Epoch 1/100\n",
      "46/46 [==============================] - 21s 314ms/step - loss: 0.0430 - accuracy: 0.9878 - val_loss: 0.1697 - val_accuracy: 0.9556\n",
      "Epoch 2/100\n",
      "46/46 [==============================] - 13s 272ms/step - loss: 0.0315 - accuracy: 0.9905 - val_loss: 0.1579 - val_accuracy: 0.9651\n",
      "Epoch 3/100\n",
      "46/46 [==============================] - 13s 272ms/step - loss: 0.0266 - accuracy: 0.9925 - val_loss: 0.1497 - val_accuracy: 0.9587\n",
      "Epoch 4/100\n",
      "46/46 [==============================] - 13s 269ms/step - loss: 0.0232 - accuracy: 0.9932 - val_loss: 0.1501 - val_accuracy: 0.9651\n",
      "Epoch 5/100\n",
      "46/46 [==============================] - 13s 272ms/step - loss: 0.0197 - accuracy: 0.9939 - val_loss: 0.1466 - val_accuracy: 0.9524\n",
      "Epoch 6/100\n",
      "46/46 [==============================] - 13s 269ms/step - loss: 0.0122 - accuracy: 0.9980 - val_loss: 0.1487 - val_accuracy: 0.9619\n",
      "Epoch 7/100\n",
      "46/46 [==============================] - 13s 269ms/step - loss: 0.0155 - accuracy: 0.9959 - val_loss: 0.1600 - val_accuracy: 0.9619\n",
      "Epoch 8/100\n",
      "46/46 [==============================] - 13s 272ms/step - loss: 0.0126 - accuracy: 0.9973 - val_loss: 0.1460 - val_accuracy: 0.9651\n",
      "Epoch 9/100\n",
      "46/46 [==============================] - 13s 269ms/step - loss: 0.0077 - accuracy: 0.9986 - val_loss: 0.1575 - val_accuracy: 0.9651\n",
      "Epoch 10/100\n",
      "46/46 [==============================] - 13s 272ms/step - loss: 0.0081 - accuracy: 0.9986 - val_loss: 0.1446 - val_accuracy: 0.9619\n",
      "Epoch 11/100\n",
      "46/46 [==============================] - 13s 269ms/step - loss: 0.0068 - accuracy: 0.9993 - val_loss: 0.1503 - val_accuracy: 0.9651\n",
      "Epoch 12/100\n",
      "46/46 [==============================] - 13s 269ms/step - loss: 0.0064 - accuracy: 0.9986 - val_loss: 0.1533 - val_accuracy: 0.9651\n",
      "Epoch 13/100\n",
      "46/46 [==============================] - 13s 269ms/step - loss: 0.0061 - accuracy: 0.9986 - val_loss: 0.1646 - val_accuracy: 0.9651\n",
      "Epoch 14/100\n",
      "46/46 [==============================] - 13s 272ms/step - loss: 0.0068 - accuracy: 0.9986 - val_loss: 0.1425 - val_accuracy: 0.9683\n",
      "Epoch 15/100\n",
      "46/46 [==============================] - 13s 269ms/step - loss: 0.0054 - accuracy: 0.9986 - val_loss: 0.1531 - val_accuracy: 0.9619\n",
      "Epoch 16/100\n",
      "46/46 [==============================] - 13s 269ms/step - loss: 0.0054 - accuracy: 0.9986 - val_loss: 0.1426 - val_accuracy: 0.9683\n",
      "Epoch 17/100\n",
      "46/46 [==============================] - 13s 269ms/step - loss: 0.0033 - accuracy: 1.0000 - val_loss: 0.1454 - val_accuracy: 0.9683\n",
      "Epoch 18/100\n",
      "46/46 [==============================] - 13s 270ms/step - loss: 0.0030 - accuracy: 1.0000 - val_loss: 0.1457 - val_accuracy: 0.9683\n",
      "Epoch 19/100\n",
      "46/46 [==============================] - 13s 273ms/step - loss: 0.0027 - accuracy: 1.0000 - val_loss: 0.1442 - val_accuracy: 0.9683\n",
      "INFO:tensorflow:Assets written to: models\\uc_merced\\effnetv2B3\\assets\n"
     ]
    },
    {
     "name": "stderr",
     "output_type": "stream",
     "text": [
      "INFO:tensorflow:Assets written to: models\\uc_merced\\effnetv2B3\\assets\n"
     ]
    },
    {
     "data": {
      "text/plain": [
       "(<keras.callbacks.History at 0x199993e5820>,\n",
       " <keras.callbacks.History at 0x199c51fed90>)"
      ]
     },
     "execution_count": 25,
     "metadata": {},
     "output_type": "execute_result"
    }
   ],
   "source": [
    "model_name = \"effnetv2B3\"\n",
    "dropout_rate = 0.55\n",
    "train_on_dataset(model_name, dataset_name, dropout_rate)"
   ]
  },
  {
   "cell_type": "code",
   "execution_count": 26,
   "id": "bdaad63e",
   "metadata": {
    "collapsed": true
   },
   "outputs": [
    {
     "name": "stdout",
     "output_type": "stream",
     "text": [
      "Epoch 1/100\n",
      "46/46 [==============================] - 14s 173ms/step - loss: 2.0419 - accuracy: 0.4109 - val_loss: 1.4218 - val_accuracy: 0.6190\n",
      "Epoch 2/100\n",
      "46/46 [==============================] - 7s 137ms/step - loss: 0.6351 - accuracy: 0.8340 - val_loss: 0.7985 - val_accuracy: 0.8381\n",
      "Epoch 3/100\n",
      "46/46 [==============================] - 7s 137ms/step - loss: 0.3653 - accuracy: 0.9122 - val_loss: 0.5481 - val_accuracy: 0.8952\n",
      "Epoch 4/100\n",
      "46/46 [==============================] - 7s 136ms/step - loss: 0.2729 - accuracy: 0.9361 - val_loss: 0.4183 - val_accuracy: 0.9111\n",
      "Epoch 5/100\n",
      "46/46 [==============================] - 7s 136ms/step - loss: 0.2061 - accuracy: 0.9558 - val_loss: 0.3408 - val_accuracy: 0.9397\n",
      "Epoch 6/100\n",
      "46/46 [==============================] - 7s 137ms/step - loss: 0.1618 - accuracy: 0.9667 - val_loss: 0.2891 - val_accuracy: 0.9429\n",
      "Epoch 7/100\n",
      "46/46 [==============================] - 7s 136ms/step - loss: 0.1300 - accuracy: 0.9762 - val_loss: 0.2546 - val_accuracy: 0.9460\n",
      "Epoch 8/100\n",
      "46/46 [==============================] - 7s 137ms/step - loss: 0.1207 - accuracy: 0.9762 - val_loss: 0.2277 - val_accuracy: 0.9556\n",
      "Epoch 9/100\n",
      "46/46 [==============================] - 7s 137ms/step - loss: 0.0992 - accuracy: 0.9810 - val_loss: 0.2065 - val_accuracy: 0.9556\n",
      "Epoch 10/100\n",
      "46/46 [==============================] - 7s 137ms/step - loss: 0.0804 - accuracy: 0.9898 - val_loss: 0.1911 - val_accuracy: 0.9524\n",
      "Epoch 11/100\n",
      "46/46 [==============================] - 7s 137ms/step - loss: 0.0779 - accuracy: 0.9891 - val_loss: 0.1806 - val_accuracy: 0.9524\n",
      "Epoch 12/100\n",
      "46/46 [==============================] - 7s 136ms/step - loss: 0.0699 - accuracy: 0.9884 - val_loss: 0.1664 - val_accuracy: 0.9587\n",
      "Epoch 13/100\n",
      "46/46 [==============================] - 7s 137ms/step - loss: 0.0622 - accuracy: 0.9918 - val_loss: 0.1559 - val_accuracy: 0.9587\n",
      "Epoch 14/100\n",
      "46/46 [==============================] - 7s 137ms/step - loss: 0.0623 - accuracy: 0.9830 - val_loss: 0.1557 - val_accuracy: 0.9556\n",
      "Epoch 15/100\n",
      "46/46 [==============================] - 7s 137ms/step - loss: 0.0591 - accuracy: 0.9912 - val_loss: 0.1508 - val_accuracy: 0.9587\n",
      "Epoch 16/100\n",
      "46/46 [==============================] - 7s 137ms/step - loss: 0.0508 - accuracy: 0.9918 - val_loss: 0.1497 - val_accuracy: 0.9524\n",
      "Epoch 17/100\n",
      "46/46 [==============================] - 7s 137ms/step - loss: 0.0436 - accuracy: 0.9959 - val_loss: 0.1443 - val_accuracy: 0.9619\n",
      "Epoch 18/100\n",
      "46/46 [==============================] - 7s 137ms/step - loss: 0.0382 - accuracy: 0.9952 - val_loss: 0.1420 - val_accuracy: 0.9587\n",
      "Epoch 19/100\n",
      "46/46 [==============================] - 7s 137ms/step - loss: 0.0416 - accuracy: 0.9946 - val_loss: 0.1341 - val_accuracy: 0.9651\n",
      "Epoch 20/100\n",
      "46/46 [==============================] - 7s 134ms/step - loss: 0.0348 - accuracy: 0.9959 - val_loss: 0.1387 - val_accuracy: 0.9683\n",
      "Epoch 21/100\n",
      "46/46 [==============================] - 7s 137ms/step - loss: 0.0342 - accuracy: 0.9980 - val_loss: 0.1329 - val_accuracy: 0.9651\n",
      "Epoch 22/100\n",
      "46/46 [==============================] - 6s 133ms/step - loss: 0.0301 - accuracy: 0.9966 - val_loss: 0.1329 - val_accuracy: 0.9619\n",
      "Epoch 23/100\n",
      "46/46 [==============================] - 7s 134ms/step - loss: 0.0286 - accuracy: 0.9980 - val_loss: 0.1342 - val_accuracy: 0.9619\n",
      "Epoch 24/100\n",
      "46/46 [==============================] - 7s 137ms/step - loss: 0.0303 - accuracy: 0.9946 - val_loss: 0.1281 - val_accuracy: 0.9619\n",
      "Epoch 25/100\n",
      "46/46 [==============================] - 7s 134ms/step - loss: 0.0313 - accuracy: 0.9959 - val_loss: 0.1305 - val_accuracy: 0.9619\n",
      "Epoch 26/100\n",
      "46/46 [==============================] - 7s 134ms/step - loss: 0.0254 - accuracy: 0.9986 - val_loss: 0.1290 - val_accuracy: 0.9746\n",
      "Epoch 27/100\n",
      "46/46 [==============================] - 7s 137ms/step - loss: 0.0279 - accuracy: 0.9966 - val_loss: 0.1257 - val_accuracy: 0.9651\n",
      "Epoch 28/100\n",
      "46/46 [==============================] - 7s 137ms/step - loss: 0.0219 - accuracy: 0.9980 - val_loss: 0.1232 - val_accuracy: 0.9683\n",
      "Epoch 29/100\n",
      "46/46 [==============================] - 7s 134ms/step - loss: 0.0197 - accuracy: 0.9980 - val_loss: 0.1264 - val_accuracy: 0.9714\n",
      "Epoch 30/100\n",
      "46/46 [==============================] - 7s 137ms/step - loss: 0.0194 - accuracy: 0.9980 - val_loss: 0.1221 - val_accuracy: 0.9714\n",
      "Epoch 31/100\n",
      "46/46 [==============================] - 7s 134ms/step - loss: 0.0175 - accuracy: 0.9986 - val_loss: 0.1268 - val_accuracy: 0.9746\n",
      "Epoch 32/100\n",
      "46/46 [==============================] - 7s 134ms/step - loss: 0.0192 - accuracy: 0.9986 - val_loss: 0.1279 - val_accuracy: 0.9714\n",
      "Epoch 33/100\n",
      "46/46 [==============================] - 7s 134ms/step - loss: 0.0161 - accuracy: 0.9986 - val_loss: 0.1279 - val_accuracy: 0.9683\n",
      "Epoch 34/100\n",
      "46/46 [==============================] - 7s 134ms/step - loss: 0.0182 - accuracy: 0.9966 - val_loss: 0.1263 - val_accuracy: 0.9683\n",
      "Epoch 35/100\n",
      "46/46 [==============================] - 7s 138ms/step - loss: 0.0165 - accuracy: 0.9973 - val_loss: 0.1222 - val_accuracy: 0.9651\n",
      "Epoch 1/100\n",
      "46/46 [==============================] - 13s 174ms/step - loss: 0.0176 - accuracy: 0.9980 - val_loss: 0.1177 - val_accuracy: 0.9683\n",
      "Epoch 2/100\n",
      "46/46 [==============================] - 7s 137ms/step - loss: 0.0150 - accuracy: 0.9986 - val_loss: 0.1208 - val_accuracy: 0.9714\n",
      "Epoch 3/100\n",
      "46/46 [==============================] - 7s 136ms/step - loss: 0.0127 - accuracy: 1.0000 - val_loss: 0.1209 - val_accuracy: 0.9746\n",
      "Epoch 4/100\n",
      "46/46 [==============================] - 7s 136ms/step - loss: 0.0156 - accuracy: 0.9980 - val_loss: 0.1239 - val_accuracy: 0.9714\n",
      "Epoch 5/100\n",
      "46/46 [==============================] - 7s 136ms/step - loss: 0.0128 - accuracy: 0.9993 - val_loss: 0.1216 - val_accuracy: 0.9683\n",
      "Epoch 6/100\n",
      "46/46 [==============================] - 7s 139ms/step - loss: 0.0107 - accuracy: 1.0000 - val_loss: 0.1191 - val_accuracy: 0.9778\n",
      "INFO:tensorflow:Assets written to: models\\uc_merced\\densenet121\\assets\n"
     ]
    },
    {
     "name": "stderr",
     "output_type": "stream",
     "text": [
      "INFO:tensorflow:Assets written to: models\\uc_merced\\densenet121\\assets\n"
     ]
    },
    {
     "data": {
      "text/plain": [
       "(<keras.callbacks.History at 0x1997ad6ca00>,\n",
       " <keras.callbacks.History at 0x19971652340>)"
      ]
     },
     "execution_count": 26,
     "metadata": {},
     "output_type": "execute_result"
    }
   ],
   "source": [
    "model_name = \"densenet121\"\n",
    "dropout_rate = 0.3\n",
    "train_on_dataset(model_name, dataset_name, dropout_rate)"
   ]
  },
  {
   "cell_type": "code",
   "execution_count": 27,
   "id": "89b997a2",
   "metadata": {
    "collapsed": true
   },
   "outputs": [
    {
     "name": "stdout",
     "output_type": "stream",
     "text": [
      "Epoch 1/100\n",
      "46/46 [==============================] - 18s 220ms/step - loss: 1.9498 - accuracy: 0.4320 - val_loss: 1.2567 - val_accuracy: 0.5873\n",
      "Epoch 2/100\n",
      "46/46 [==============================] - 8s 167ms/step - loss: 0.6224 - accuracy: 0.8224 - val_loss: 0.6639 - val_accuracy: 0.8571\n",
      "Epoch 3/100\n",
      "46/46 [==============================] - 8s 168ms/step - loss: 0.3536 - accuracy: 0.9082 - val_loss: 0.4244 - val_accuracy: 0.9270\n",
      "Epoch 4/100\n",
      "46/46 [==============================] - 8s 167ms/step - loss: 0.2705 - accuracy: 0.9272 - val_loss: 0.3140 - val_accuracy: 0.9556\n",
      "Epoch 5/100\n",
      "46/46 [==============================] - 8s 167ms/step - loss: 0.1955 - accuracy: 0.9510 - val_loss: 0.2552 - val_accuracy: 0.9524\n",
      "Epoch 6/100\n",
      "46/46 [==============================] - 8s 167ms/step - loss: 0.1750 - accuracy: 0.9565 - val_loss: 0.2212 - val_accuracy: 0.9556\n",
      "Epoch 7/100\n",
      "46/46 [==============================] - 8s 167ms/step - loss: 0.1285 - accuracy: 0.9721 - val_loss: 0.1955 - val_accuracy: 0.9556\n",
      "Epoch 8/100\n",
      "46/46 [==============================] - 8s 167ms/step - loss: 0.1073 - accuracy: 0.9748 - val_loss: 0.1721 - val_accuracy: 0.9587\n",
      "Epoch 9/100\n",
      "46/46 [==============================] - 8s 168ms/step - loss: 0.0891 - accuracy: 0.9857 - val_loss: 0.1608 - val_accuracy: 0.9556\n",
      "Epoch 10/100\n",
      "46/46 [==============================] - 8s 167ms/step - loss: 0.0809 - accuracy: 0.9871 - val_loss: 0.1519 - val_accuracy: 0.9556\n",
      "Epoch 11/100\n",
      "46/46 [==============================] - 8s 168ms/step - loss: 0.0724 - accuracy: 0.9905 - val_loss: 0.1390 - val_accuracy: 0.9587\n",
      "Epoch 12/100\n",
      "46/46 [==============================] - 8s 167ms/step - loss: 0.0629 - accuracy: 0.9912 - val_loss: 0.1313 - val_accuracy: 0.9587\n",
      "Epoch 13/100\n",
      "46/46 [==============================] - 8s 168ms/step - loss: 0.0569 - accuracy: 0.9905 - val_loss: 0.1236 - val_accuracy: 0.9651\n",
      "Epoch 14/100\n",
      "46/46 [==============================] - 8s 168ms/step - loss: 0.0505 - accuracy: 0.9912 - val_loss: 0.1153 - val_accuracy: 0.9619\n",
      "Epoch 15/100\n",
      "46/46 [==============================] - 8s 163ms/step - loss: 0.0503 - accuracy: 0.9932 - val_loss: 0.1196 - val_accuracy: 0.9556\n",
      "Epoch 16/100\n",
      "46/46 [==============================] - 8s 169ms/step - loss: 0.0432 - accuracy: 0.9939 - val_loss: 0.1052 - val_accuracy: 0.9746\n",
      "Epoch 17/100\n",
      "46/46 [==============================] - 8s 168ms/step - loss: 0.0485 - accuracy: 0.9905 - val_loss: 0.1008 - val_accuracy: 0.9651\n",
      "Epoch 18/100\n",
      "46/46 [==============================] - 8s 167ms/step - loss: 0.0401 - accuracy: 0.9925 - val_loss: 0.0963 - val_accuracy: 0.9683\n",
      "Epoch 19/100\n",
      "46/46 [==============================] - 8s 168ms/step - loss: 0.0371 - accuracy: 0.9925 - val_loss: 0.0942 - val_accuracy: 0.9714\n",
      "Epoch 20/100\n",
      "46/46 [==============================] - 8s 163ms/step - loss: 0.0325 - accuracy: 0.9966 - val_loss: 0.0975 - val_accuracy: 0.9651\n",
      "Epoch 21/100\n",
      "46/46 [==============================] - 8s 163ms/step - loss: 0.0299 - accuracy: 0.9973 - val_loss: 0.0972 - val_accuracy: 0.9746\n",
      "Epoch 22/100\n",
      "46/46 [==============================] - 8s 163ms/step - loss: 0.0364 - accuracy: 0.9925 - val_loss: 0.0957 - val_accuracy: 0.9714\n",
      "Epoch 23/100\n",
      "46/46 [==============================] - 8s 163ms/step - loss: 0.0270 - accuracy: 0.9966 - val_loss: 0.0960 - val_accuracy: 0.9746\n",
      "Epoch 24/100\n",
      "46/46 [==============================] - 8s 168ms/step - loss: 0.0266 - accuracy: 0.9946 - val_loss: 0.0993 - val_accuracy: 0.9683\n",
      "Epoch 1/100\n",
      "46/46 [==============================] - 17s 229ms/step - loss: 0.0322 - accuracy: 0.9952 - val_loss: 0.0946 - val_accuracy: 0.9746\n",
      "Epoch 2/100\n",
      "46/46 [==============================] - 8s 174ms/step - loss: 0.0338 - accuracy: 0.9959 - val_loss: 0.0960 - val_accuracy: 0.9746\n",
      "Epoch 3/100\n",
      "46/46 [==============================] - 9s 178ms/step - loss: 0.0285 - accuracy: 0.9959 - val_loss: 0.0887 - val_accuracy: 0.9714\n",
      "Epoch 4/100\n",
      "46/46 [==============================] - 8s 174ms/step - loss: 0.0260 - accuracy: 0.9966 - val_loss: 0.0904 - val_accuracy: 0.9714\n",
      "Epoch 5/100\n",
      "46/46 [==============================] - 9s 178ms/step - loss: 0.0255 - accuracy: 0.9973 - val_loss: 0.0815 - val_accuracy: 0.9778\n",
      "Epoch 6/100\n",
      "46/46 [==============================] - 8s 174ms/step - loss: 0.0258 - accuracy: 0.9952 - val_loss: 0.0841 - val_accuracy: 0.9778\n",
      "Epoch 7/100\n",
      "46/46 [==============================] - 8s 173ms/step - loss: 0.0204 - accuracy: 0.9986 - val_loss: 0.0836 - val_accuracy: 0.9714\n",
      "Epoch 8/100\n",
      "46/46 [==============================] - 9s 179ms/step - loss: 0.0196 - accuracy: 0.9980 - val_loss: 0.0776 - val_accuracy: 0.9778\n",
      "Epoch 9/100\n",
      "46/46 [==============================] - 8s 174ms/step - loss: 0.0197 - accuracy: 0.9986 - val_loss: 0.0786 - val_accuracy: 0.9810\n",
      "Epoch 10/100\n",
      "46/46 [==============================] - 8s 174ms/step - loss: 0.0153 - accuracy: 1.0000 - val_loss: 0.0777 - val_accuracy: 0.9810\n",
      "Epoch 11/100\n",
      "46/46 [==============================] - 8s 174ms/step - loss: 0.0141 - accuracy: 0.9993 - val_loss: 0.0796 - val_accuracy: 0.9746\n",
      "Epoch 12/100\n",
      "46/46 [==============================] - 8s 174ms/step - loss: 0.0139 - accuracy: 0.9993 - val_loss: 0.0835 - val_accuracy: 0.9714\n",
      "Epoch 13/100\n",
      "46/46 [==============================] - 9s 178ms/step - loss: 0.0120 - accuracy: 0.9986 - val_loss: 0.0787 - val_accuracy: 0.9714\n",
      "INFO:tensorflow:Assets written to: models\\uc_merced\\densenet169\\assets\n"
     ]
    },
    {
     "name": "stderr",
     "output_type": "stream",
     "text": [
      "INFO:tensorflow:Assets written to: models\\uc_merced\\densenet169\\assets\n"
     ]
    },
    {
     "data": {
      "text/plain": [
       "(<keras.callbacks.History at 0x199fda6dd30>,\n",
       " <keras.callbacks.History at 0x19a0be6da60>)"
      ]
     },
     "execution_count": 27,
     "metadata": {},
     "output_type": "execute_result"
    }
   ],
   "source": [
    "model_name = \"densenet169\"\n",
    "dropout_rate = 0.45\n",
    "train_on_dataset(model_name, dataset_name, dropout_rate)"
   ]
  },
  {
   "cell_type": "code",
   "execution_count": 28,
   "id": "1e878300",
   "metadata": {
    "collapsed": true
   },
   "outputs": [
    {
     "name": "stdout",
     "output_type": "stream",
     "text": [
      "Epoch 1/100\n",
      "46/46 [==============================] - 18s 263ms/step - loss: 1.8515 - accuracy: 0.4762 - val_loss: 0.7939 - val_accuracy: 0.7937\n",
      "Epoch 2/100\n",
      "46/46 [==============================] - 11s 229ms/step - loss: 0.4810 - accuracy: 0.8490 - val_loss: 0.4453 - val_accuracy: 0.8952\n",
      "Epoch 3/100\n",
      "46/46 [==============================] - 11s 229ms/step - loss: 0.2984 - accuracy: 0.9088 - val_loss: 0.3184 - val_accuracy: 0.9206\n",
      "Epoch 4/100\n",
      "46/46 [==============================] - 11s 228ms/step - loss: 0.2009 - accuracy: 0.9374 - val_loss: 0.2798 - val_accuracy: 0.9111\n",
      "Epoch 5/100\n",
      "46/46 [==============================] - 11s 229ms/step - loss: 0.1532 - accuracy: 0.9565 - val_loss: 0.2482 - val_accuracy: 0.9270\n",
      "Epoch 6/100\n",
      "46/46 [==============================] - 11s 228ms/step - loss: 0.1222 - accuracy: 0.9653 - val_loss: 0.2395 - val_accuracy: 0.9206\n",
      "Epoch 7/100\n",
      "46/46 [==============================] - 11s 229ms/step - loss: 0.0931 - accuracy: 0.9789 - val_loss: 0.2193 - val_accuracy: 0.9270\n",
      "Epoch 8/100\n",
      "46/46 [==============================] - 11s 229ms/step - loss: 0.0699 - accuracy: 0.9864 - val_loss: 0.2173 - val_accuracy: 0.9238\n",
      "Epoch 9/100\n",
      "46/46 [==============================] - 11s 225ms/step - loss: 0.0610 - accuracy: 0.9884 - val_loss: 0.2174 - val_accuracy: 0.9270\n",
      "Epoch 10/100\n",
      "46/46 [==============================] - 11s 225ms/step - loss: 0.0651 - accuracy: 0.9871 - val_loss: 0.2186 - val_accuracy: 0.9238\n",
      "Epoch 11/100\n",
      "46/46 [==============================] - 11s 229ms/step - loss: 0.0519 - accuracy: 0.9884 - val_loss: 0.2162 - val_accuracy: 0.9238\n",
      "Epoch 12/100\n",
      "46/46 [==============================] - 11s 230ms/step - loss: 0.0464 - accuracy: 0.9898 - val_loss: 0.2135 - val_accuracy: 0.9238\n",
      "Epoch 13/100\n",
      "46/46 [==============================] - 11s 230ms/step - loss: 0.0516 - accuracy: 0.9871 - val_loss: 0.2084 - val_accuracy: 0.9270\n",
      "Epoch 14/100\n",
      "46/46 [==============================] - 11s 226ms/step - loss: 0.0358 - accuracy: 0.9912 - val_loss: 0.2117 - val_accuracy: 0.9206\n",
      "Epoch 15/100\n",
      "46/46 [==============================] - 11s 225ms/step - loss: 0.0272 - accuracy: 0.9959 - val_loss: 0.2086 - val_accuracy: 0.9238\n",
      "Epoch 16/100\n",
      "46/46 [==============================] - 11s 229ms/step - loss: 0.0326 - accuracy: 0.9939 - val_loss: 0.1910 - val_accuracy: 0.9270\n",
      "Epoch 17/100\n",
      "46/46 [==============================] - 11s 225ms/step - loss: 0.0290 - accuracy: 0.9952 - val_loss: 0.1963 - val_accuracy: 0.9302\n",
      "Epoch 18/100\n",
      "46/46 [==============================] - 11s 226ms/step - loss: 0.0297 - accuracy: 0.9939 - val_loss: 0.1963 - val_accuracy: 0.9365\n",
      "Epoch 19/100\n",
      "46/46 [==============================] - 11s 226ms/step - loss: 0.0264 - accuracy: 0.9932 - val_loss: 0.1931 - val_accuracy: 0.9302\n",
      "Epoch 20/100\n",
      "46/46 [==============================] - 11s 226ms/step - loss: 0.0206 - accuracy: 0.9966 - val_loss: 0.1944 - val_accuracy: 0.9238\n",
      "Epoch 21/100\n",
      "46/46 [==============================] - 11s 229ms/step - loss: 0.0177 - accuracy: 0.9986 - val_loss: 0.1923 - val_accuracy: 0.9270\n",
      "Epoch 1/100\n",
      "46/46 [==============================] - 18s 281ms/step - loss: 0.0372 - accuracy: 0.9891 - val_loss: 0.3215 - val_accuracy: 0.9206\n",
      "Epoch 2/100\n",
      "46/46 [==============================] - 12s 249ms/step - loss: 0.0351 - accuracy: 0.9891 - val_loss: 0.1626 - val_accuracy: 0.9429\n",
      "Epoch 3/100\n",
      "46/46 [==============================] - 12s 245ms/step - loss: 0.0173 - accuracy: 0.9959 - val_loss: 0.1958 - val_accuracy: 0.9460\n",
      "Epoch 4/100\n",
      "46/46 [==============================] - 12s 244ms/step - loss: 0.0158 - accuracy: 0.9952 - val_loss: 0.2002 - val_accuracy: 0.9429\n",
      "Epoch 5/100\n",
      "46/46 [==============================] - 12s 246ms/step - loss: 0.0121 - accuracy: 0.9980 - val_loss: 0.1693 - val_accuracy: 0.9556\n",
      "Epoch 6/100\n",
      "46/46 [==============================] - 12s 246ms/step - loss: 0.0044 - accuracy: 0.9993 - val_loss: 0.1648 - val_accuracy: 0.9587\n",
      "Epoch 7/100\n",
      "46/46 [==============================] - 12s 250ms/step - loss: 0.0028 - accuracy: 1.0000 - val_loss: 0.1328 - val_accuracy: 0.9683\n",
      "Epoch 8/100\n",
      "46/46 [==============================] - 12s 250ms/step - loss: 0.0017 - accuracy: 1.0000 - val_loss: 0.1285 - val_accuracy: 0.9683\n",
      "Epoch 9/100\n",
      "46/46 [==============================] - 12s 245ms/step - loss: 0.0011 - accuracy: 1.0000 - val_loss: 0.1721 - val_accuracy: 0.9556\n",
      "Epoch 10/100\n",
      "46/46 [==============================] - 12s 245ms/step - loss: 0.0015 - accuracy: 1.0000 - val_loss: 0.1667 - val_accuracy: 0.9587\n",
      "Epoch 11/100\n",
      "46/46 [==============================] - 12s 246ms/step - loss: 8.9553e-04 - accuracy: 1.0000 - val_loss: 0.1506 - val_accuracy: 0.9587\n",
      "Epoch 12/100\n",
      "46/46 [==============================] - 12s 246ms/step - loss: 8.2396e-04 - accuracy: 1.0000 - val_loss: 0.1430 - val_accuracy: 0.9651\n",
      "Epoch 13/100\n",
      "46/46 [==============================] - 12s 249ms/step - loss: 7.3850e-04 - accuracy: 1.0000 - val_loss: 0.1434 - val_accuracy: 0.9683\n",
      "INFO:tensorflow:Assets written to: models\\uc_merced\\resnet101v2\\assets\n"
     ]
    },
    {
     "name": "stderr",
     "output_type": "stream",
     "text": [
      "INFO:tensorflow:Assets written to: models\\uc_merced\\resnet101v2\\assets\n"
     ]
    },
    {
     "data": {
      "text/plain": [
       "(<keras.callbacks.History at 0x199daff24c0>,\n",
       " <keras.callbacks.History at 0x19a2c9e2940>)"
      ]
     },
     "execution_count": 28,
     "metadata": {},
     "output_type": "execute_result"
    }
   ],
   "source": [
    "model_name = \"resnet101v2\"\n",
    "dropout_rate = 0.45\n",
    "train_on_dataset(model_name, dataset_name, dropout_rate)"
   ]
  },
  {
   "cell_type": "code",
   "execution_count": 29,
   "id": "c0b41a93",
   "metadata": {
    "collapsed": true
   },
   "outputs": [
    {
     "name": "stdout",
     "output_type": "stream",
     "text": [
      "Epoch 1/100\n",
      "46/46 [==============================] - 32s 392ms/step - loss: 1.8877 - accuracy: 0.4612 - val_loss: 0.8232 - val_accuracy: 0.8190\n",
      "Epoch 2/100\n",
      "46/46 [==============================] - 16s 334ms/step - loss: 0.4999 - accuracy: 0.8435 - val_loss: 0.4822 - val_accuracy: 0.8794\n",
      "Epoch 3/100\n",
      "46/46 [==============================] - 16s 336ms/step - loss: 0.2951 - accuracy: 0.9082 - val_loss: 0.3600 - val_accuracy: 0.9206\n",
      "Epoch 4/100\n",
      "46/46 [==============================] - 16s 336ms/step - loss: 0.1957 - accuracy: 0.9429 - val_loss: 0.2963 - val_accuracy: 0.9397\n",
      "Epoch 5/100\n",
      "46/46 [==============================] - 16s 336ms/step - loss: 0.1553 - accuracy: 0.9619 - val_loss: 0.2614 - val_accuracy: 0.9365\n",
      "Epoch 6/100\n",
      "46/46 [==============================] - 16s 335ms/step - loss: 0.1185 - accuracy: 0.9673 - val_loss: 0.2460 - val_accuracy: 0.9333\n",
      "Epoch 7/100\n",
      "46/46 [==============================] - 16s 337ms/step - loss: 0.0975 - accuracy: 0.9789 - val_loss: 0.2268 - val_accuracy: 0.9397\n",
      "Epoch 8/100\n",
      "46/46 [==============================] - 16s 336ms/step - loss: 0.0712 - accuracy: 0.9830 - val_loss: 0.2136 - val_accuracy: 0.9460\n",
      "Epoch 9/100\n",
      "46/46 [==============================] - 16s 337ms/step - loss: 0.0623 - accuracy: 0.9864 - val_loss: 0.2113 - val_accuracy: 0.9333\n",
      "Epoch 10/100\n",
      "46/46 [==============================] - 16s 338ms/step - loss: 0.0543 - accuracy: 0.9884 - val_loss: 0.2032 - val_accuracy: 0.9429\n",
      "Epoch 11/100\n",
      "46/46 [==============================] - 16s 336ms/step - loss: 0.0527 - accuracy: 0.9878 - val_loss: 0.2017 - val_accuracy: 0.9365\n",
      "Epoch 12/100\n",
      "46/46 [==============================] - 16s 331ms/step - loss: 0.0476 - accuracy: 0.9884 - val_loss: 0.2049 - val_accuracy: 0.9302\n",
      "Epoch 13/100\n",
      "46/46 [==============================] - 16s 338ms/step - loss: 0.0414 - accuracy: 0.9905 - val_loss: 0.1962 - val_accuracy: 0.9302\n",
      "Epoch 14/100\n",
      "46/46 [==============================] - 16s 337ms/step - loss: 0.0428 - accuracy: 0.9891 - val_loss: 0.1942 - val_accuracy: 0.9365\n",
      "Epoch 15/100\n",
      "46/46 [==============================] - 16s 338ms/step - loss: 0.0324 - accuracy: 0.9918 - val_loss: 0.1762 - val_accuracy: 0.9397\n",
      "Epoch 16/100\n",
      "46/46 [==============================] - 16s 330ms/step - loss: 0.0314 - accuracy: 0.9939 - val_loss: 0.1947 - val_accuracy: 0.9333\n",
      "Epoch 17/100\n",
      "46/46 [==============================] - 16s 331ms/step - loss: 0.0245 - accuracy: 0.9959 - val_loss: 0.2000 - val_accuracy: 0.9333\n",
      "Epoch 18/100\n",
      "46/46 [==============================] - 16s 331ms/step - loss: 0.0322 - accuracy: 0.9905 - val_loss: 0.2102 - val_accuracy: 0.9270\n",
      "Epoch 19/100\n",
      "46/46 [==============================] - 16s 332ms/step - loss: 0.0239 - accuracy: 0.9952 - val_loss: 0.2028 - val_accuracy: 0.9302\n",
      "Epoch 20/100\n",
      "46/46 [==============================] - 16s 337ms/step - loss: 0.0224 - accuracy: 0.9952 - val_loss: 0.1953 - val_accuracy: 0.9270\n",
      "Epoch 1/100\n",
      "46/46 [==============================] - 26s 413ms/step - loss: 0.0480 - accuracy: 0.9850 - val_loss: 0.2046 - val_accuracy: 0.9460\n",
      "Epoch 2/100\n",
      "46/46 [==============================] - 17s 359ms/step - loss: 0.0284 - accuracy: 0.9871 - val_loss: 0.1800 - val_accuracy: 0.9333\n",
      "Epoch 3/100\n",
      "46/46 [==============================] - 17s 354ms/step - loss: 0.0147 - accuracy: 0.9966 - val_loss: 0.1939 - val_accuracy: 0.9333\n",
      "Epoch 4/100\n",
      "46/46 [==============================] - 17s 353ms/step - loss: 0.0055 - accuracy: 1.0000 - val_loss: 0.1980 - val_accuracy: 0.9365\n",
      "Epoch 5/100\n",
      "46/46 [==============================] - 17s 353ms/step - loss: 0.0053 - accuracy: 0.9993 - val_loss: 0.2117 - val_accuracy: 0.9333\n",
      "Epoch 6/100\n",
      "46/46 [==============================] - 17s 355ms/step - loss: 0.0034 - accuracy: 0.9986 - val_loss: 0.1815 - val_accuracy: 0.9429\n",
      "Epoch 7/100\n",
      "46/46 [==============================] - 17s 361ms/step - loss: 0.0034 - accuracy: 0.9993 - val_loss: 0.1285 - val_accuracy: 0.9492\n",
      "Epoch 8/100\n",
      "46/46 [==============================] - 17s 361ms/step - loss: 0.0015 - accuracy: 1.0000 - val_loss: 0.1158 - val_accuracy: 0.9587\n",
      "Epoch 9/100\n",
      "46/46 [==============================] - 17s 355ms/step - loss: 0.0015 - accuracy: 0.9993 - val_loss: 0.1181 - val_accuracy: 0.9556\n",
      "Epoch 10/100\n",
      "46/46 [==============================] - 17s 354ms/step - loss: 0.0034 - accuracy: 0.9993 - val_loss: 0.2035 - val_accuracy: 0.9429\n",
      "Epoch 11/100\n",
      "46/46 [==============================] - 17s 354ms/step - loss: 0.0028 - accuracy: 0.9986 - val_loss: 0.1352 - val_accuracy: 0.9492\n",
      "Epoch 12/100\n",
      "46/46 [==============================] - 17s 354ms/step - loss: 0.0024 - accuracy: 1.0000 - val_loss: 0.1230 - val_accuracy: 0.9524\n",
      "Epoch 13/100\n",
      "46/46 [==============================] - 17s 360ms/step - loss: 0.0011 - accuracy: 1.0000 - val_loss: 0.1136 - val_accuracy: 0.9587\n",
      "Epoch 14/100\n",
      "46/46 [==============================] - 17s 360ms/step - loss: 6.9316e-04 - accuracy: 1.0000 - val_loss: 0.1058 - val_accuracy: 0.9524\n",
      "Epoch 15/100\n",
      "46/46 [==============================] - 17s 355ms/step - loss: 4.1829e-04 - accuracy: 1.0000 - val_loss: 0.1076 - val_accuracy: 0.9619\n",
      "Epoch 16/100\n",
      "46/46 [==============================] - 17s 355ms/step - loss: 4.2827e-04 - accuracy: 1.0000 - val_loss: 0.1229 - val_accuracy: 0.9556\n",
      "Epoch 17/100\n",
      "46/46 [==============================] - 17s 354ms/step - loss: 3.5306e-04 - accuracy: 1.0000 - val_loss: 0.1238 - val_accuracy: 0.9619\n",
      "Epoch 18/100\n",
      "46/46 [==============================] - 17s 355ms/step - loss: 3.1056e-04 - accuracy: 1.0000 - val_loss: 0.1144 - val_accuracy: 0.9587\n",
      "Epoch 19/100\n",
      "46/46 [==============================] - 17s 360ms/step - loss: 3.9049e-04 - accuracy: 1.0000 - val_loss: 0.1343 - val_accuracy: 0.9524\n",
      "INFO:tensorflow:Assets written to: models\\uc_merced\\resnet152v2\\assets\n"
     ]
    },
    {
     "name": "stderr",
     "output_type": "stream",
     "text": [
      "INFO:tensorflow:Assets written to: models\\uc_merced\\resnet152v2\\assets\n"
     ]
    },
    {
     "data": {
      "text/plain": [
       "(<keras.callbacks.History at 0x19a0187b130>,\n",
       " <keras.callbacks.History at 0x19a761a55e0>)"
      ]
     },
     "execution_count": 29,
     "metadata": {},
     "output_type": "execute_result"
    }
   ],
   "source": [
    "model_name = \"resnet152v2\"\n",
    "dropout_rate = 0.45\n",
    "train_on_dataset(model_name, dataset_name, dropout_rate)"
   ]
  },
  {
   "cell_type": "code",
   "execution_count": 30,
   "id": "ba0e3214",
   "metadata": {
    "collapsed": true
   },
   "outputs": [
    {
     "name": "stdout",
     "output_type": "stream",
     "text": [
      "WARNING:tensorflow:`input_shape` is undefined or non-square, or `rows` is not in [96, 128, 160, 192, 224]. Weights for input shape (224, 224) will be loaded as the default.\n"
     ]
    },
    {
     "name": "stderr",
     "output_type": "stream",
     "text": [
      "WARNING:tensorflow:`input_shape` is undefined or non-square, or `rows` is not in [96, 128, 160, 192, 224]. Weights for input shape (224, 224) will be loaded as the default.\n"
     ]
    },
    {
     "name": "stdout",
     "output_type": "stream",
     "text": [
      "Epoch 1/100\n",
      "46/46 [==============================] - 7s 83ms/step - loss: 2.4486 - accuracy: 0.3728 - val_loss: 0.8564 - val_accuracy: 0.7524\n",
      "Epoch 2/100\n",
      "46/46 [==============================] - 4s 67ms/step - loss: 0.7535 - accuracy: 0.7748 - val_loss: 0.4342 - val_accuracy: 0.8889\n",
      "Epoch 3/100\n",
      "46/46 [==============================] - 4s 66ms/step - loss: 0.4405 - accuracy: 0.8551 - val_loss: 0.2828 - val_accuracy: 0.9270\n",
      "Epoch 4/100\n",
      "46/46 [==============================] - 4s 66ms/step - loss: 0.2811 - accuracy: 0.9136 - val_loss: 0.2172 - val_accuracy: 0.9460\n",
      "Epoch 5/100\n",
      "46/46 [==============================] - 4s 66ms/step - loss: 0.2279 - accuracy: 0.9190 - val_loss: 0.2000 - val_accuracy: 0.9429\n",
      "Epoch 6/100\n",
      "46/46 [==============================] - 4s 66ms/step - loss: 0.1602 - accuracy: 0.9483 - val_loss: 0.1889 - val_accuracy: 0.9365\n",
      "Epoch 7/100\n",
      "46/46 [==============================] - 4s 67ms/step - loss: 0.1422 - accuracy: 0.9585 - val_loss: 0.1741 - val_accuracy: 0.9397\n",
      "Epoch 8/100\n",
      "46/46 [==============================] - 4s 67ms/step - loss: 0.1325 - accuracy: 0.9571 - val_loss: 0.1655 - val_accuracy: 0.9524\n",
      "Epoch 9/100\n",
      "46/46 [==============================] - 4s 66ms/step - loss: 0.1314 - accuracy: 0.9565 - val_loss: 0.1456 - val_accuracy: 0.9524\n",
      "Epoch 10/100\n",
      "46/46 [==============================] - 4s 66ms/step - loss: 0.0897 - accuracy: 0.9680 - val_loss: 0.1429 - val_accuracy: 0.9556\n",
      "Epoch 11/100\n",
      "46/46 [==============================] - 4s 66ms/step - loss: 0.1080 - accuracy: 0.9626 - val_loss: 0.1398 - val_accuracy: 0.9651\n",
      "Epoch 12/100\n",
      "46/46 [==============================] - 4s 66ms/step - loss: 0.0743 - accuracy: 0.9803 - val_loss: 0.1396 - val_accuracy: 0.9492\n",
      "Epoch 13/100\n",
      "46/46 [==============================] - 4s 66ms/step - loss: 0.0726 - accuracy: 0.9769 - val_loss: 0.1263 - val_accuracy: 0.9619\n",
      "Epoch 14/100\n",
      "46/46 [==============================] - 4s 67ms/step - loss: 0.0757 - accuracy: 0.9735 - val_loss: 0.1217 - val_accuracy: 0.9619\n",
      "Epoch 15/100\n",
      "46/46 [==============================] - 3s 65ms/step - loss: 0.0474 - accuracy: 0.9884 - val_loss: 0.1278 - val_accuracy: 0.9524\n",
      "Epoch 16/100\n",
      "46/46 [==============================] - 4s 66ms/step - loss: 0.0547 - accuracy: 0.9810 - val_loss: 0.1212 - val_accuracy: 0.9651\n",
      "Epoch 17/100\n",
      "46/46 [==============================] - 4s 67ms/step - loss: 0.0514 - accuracy: 0.9857 - val_loss: 0.1199 - val_accuracy: 0.9651\n",
      "Epoch 18/100\n",
      "46/46 [==============================] - 4s 65ms/step - loss: 0.0411 - accuracy: 0.9898 - val_loss: 0.1201 - val_accuracy: 0.9619\n",
      "Epoch 19/100\n",
      "46/46 [==============================] - 4s 67ms/step - loss: 0.0382 - accuracy: 0.9898 - val_loss: 0.1172 - val_accuracy: 0.9619\n",
      "Epoch 20/100\n",
      "46/46 [==============================] - 3s 65ms/step - loss: 0.0452 - accuracy: 0.9878 - val_loss: 0.1206 - val_accuracy: 0.9556\n",
      "Epoch 21/100\n",
      "46/46 [==============================] - 3s 65ms/step - loss: 0.0366 - accuracy: 0.9864 - val_loss: 0.1321 - val_accuracy: 0.9556\n",
      "Epoch 22/100\n",
      "46/46 [==============================] - 3s 65ms/step - loss: 0.0325 - accuracy: 0.9905 - val_loss: 0.1303 - val_accuracy: 0.9556\n",
      "Epoch 23/100\n",
      "46/46 [==============================] - 4s 65ms/step - loss: 0.0414 - accuracy: 0.9871 - val_loss: 0.1226 - val_accuracy: 0.9587\n",
      "Epoch 24/100\n",
      "46/46 [==============================] - 4s 66ms/step - loss: 0.0265 - accuracy: 0.9932 - val_loss: 0.1149 - val_accuracy: 0.9619\n",
      "Epoch 25/100\n",
      "46/46 [==============================] - 4s 66ms/step - loss: 0.0317 - accuracy: 0.9932 - val_loss: 0.1113 - val_accuracy: 0.9683\n",
      "Epoch 26/100\n",
      "46/46 [==============================] - 4s 65ms/step - loss: 0.0268 - accuracy: 0.9932 - val_loss: 0.1119 - val_accuracy: 0.9619\n",
      "Epoch 27/100\n",
      "46/46 [==============================] - 4s 65ms/step - loss: 0.0251 - accuracy: 0.9946 - val_loss: 0.1124 - val_accuracy: 0.9651\n",
      "Epoch 28/100\n",
      "46/46 [==============================] - 3s 65ms/step - loss: 0.0248 - accuracy: 0.9946 - val_loss: 0.1135 - val_accuracy: 0.9746\n",
      "Epoch 29/100\n",
      "46/46 [==============================] - 4s 66ms/step - loss: 0.0269 - accuracy: 0.9932 - val_loss: 0.1060 - val_accuracy: 0.9714\n",
      "Epoch 30/100\n",
      "46/46 [==============================] - 4s 66ms/step - loss: 0.0254 - accuracy: 0.9932 - val_loss: 0.1049 - val_accuracy: 0.9746\n",
      "Epoch 31/100\n",
      "46/46 [==============================] - 4s 66ms/step - loss: 0.0217 - accuracy: 0.9939 - val_loss: 0.1043 - val_accuracy: 0.9714\n",
      "Epoch 32/100\n",
      "46/46 [==============================] - 4s 66ms/step - loss: 0.0236 - accuracy: 0.9939 - val_loss: 0.1010 - val_accuracy: 0.9714\n",
      "Epoch 33/100\n",
      "46/46 [==============================] - 4s 65ms/step - loss: 0.0234 - accuracy: 0.9925 - val_loss: 0.1117 - val_accuracy: 0.9619\n",
      "Epoch 34/100\n",
      "46/46 [==============================] - 3s 65ms/step - loss: 0.0177 - accuracy: 0.9939 - val_loss: 0.1058 - val_accuracy: 0.9714\n",
      "Epoch 35/100\n",
      "46/46 [==============================] - 3s 65ms/step - loss: 0.0218 - accuracy: 0.9946 - val_loss: 0.1081 - val_accuracy: 0.9746\n",
      "Epoch 36/100\n",
      "46/46 [==============================] - 3s 65ms/step - loss: 0.0258 - accuracy: 0.9912 - val_loss: 0.1016 - val_accuracy: 0.9714\n",
      "Epoch 37/100\n",
      "46/46 [==============================] - 4s 66ms/step - loss: 0.0197 - accuracy: 0.9952 - val_loss: 0.0972 - val_accuracy: 0.9714\n",
      "Epoch 38/100\n",
      "46/46 [==============================] - 4s 66ms/step - loss: 0.0207 - accuracy: 0.9932 - val_loss: 0.0913 - val_accuracy: 0.9714\n",
      "Epoch 39/100\n",
      "46/46 [==============================] - 4s 65ms/step - loss: 0.0149 - accuracy: 0.9973 - val_loss: 0.0969 - val_accuracy: 0.9714\n",
      "Epoch 40/100\n",
      "46/46 [==============================] - 4s 65ms/step - loss: 0.0166 - accuracy: 0.9952 - val_loss: 0.0973 - val_accuracy: 0.9683\n",
      "Epoch 41/100\n",
      "46/46 [==============================] - 3s 65ms/step - loss: 0.0149 - accuracy: 0.9959 - val_loss: 0.1047 - val_accuracy: 0.9651\n",
      "Epoch 42/100\n",
      "46/46 [==============================] - 4s 65ms/step - loss: 0.0201 - accuracy: 0.9939 - val_loss: 0.0999 - val_accuracy: 0.9683\n",
      "Epoch 43/100\n",
      "46/46 [==============================] - 4s 67ms/step - loss: 0.0127 - accuracy: 0.9973 - val_loss: 0.1017 - val_accuracy: 0.9714\n",
      "Epoch 1/100\n",
      "46/46 [==============================] - 7s 89ms/step - loss: 0.0493 - accuracy: 0.9837 - val_loss: 0.2249 - val_accuracy: 0.9175\n",
      "Epoch 2/100\n",
      "46/46 [==============================] - 4s 73ms/step - loss: 0.0431 - accuracy: 0.9850 - val_loss: 0.2859 - val_accuracy: 0.9175\n",
      "Epoch 3/100\n",
      "46/46 [==============================] - 4s 73ms/step - loss: 0.0424 - accuracy: 0.9837 - val_loss: 0.4446 - val_accuracy: 0.8825\n",
      "Epoch 4/100\n",
      "46/46 [==============================] - 4s 73ms/step - loss: 0.0292 - accuracy: 0.9898 - val_loss: 0.2342 - val_accuracy: 0.9302\n",
      "Epoch 5/100\n",
      "46/46 [==============================] - 4s 73ms/step - loss: 0.0357 - accuracy: 0.9871 - val_loss: 0.2507 - val_accuracy: 0.9302\n",
      "Epoch 6/100\n",
      "46/46 [==============================] - 4s 74ms/step - loss: 0.0195 - accuracy: 0.9932 - val_loss: 0.1583 - val_accuracy: 0.9460\n",
      "Epoch 7/100\n",
      "46/46 [==============================] - 4s 73ms/step - loss: 0.0216 - accuracy: 0.9939 - val_loss: 0.2161 - val_accuracy: 0.9365\n",
      "Epoch 8/100\n",
      "46/46 [==============================] - 4s 74ms/step - loss: 0.0192 - accuracy: 0.9932 - val_loss: 0.3526 - val_accuracy: 0.9048\n",
      "Epoch 9/100\n",
      "46/46 [==============================] - 4s 74ms/step - loss: 0.0097 - accuracy: 0.9973 - val_loss: 0.1392 - val_accuracy: 0.9492\n",
      "Epoch 10/100\n",
      "46/46 [==============================] - 4s 73ms/step - loss: 0.0098 - accuracy: 0.9973 - val_loss: 0.1696 - val_accuracy: 0.9429\n",
      "Epoch 11/100\n",
      "46/46 [==============================] - 4s 73ms/step - loss: 0.0121 - accuracy: 0.9966 - val_loss: 0.3818 - val_accuracy: 0.9175\n",
      "Epoch 12/100\n",
      "46/46 [==============================] - 4s 72ms/step - loss: 0.0115 - accuracy: 0.9973 - val_loss: 0.2257 - val_accuracy: 0.9429\n",
      "Epoch 13/100\n",
      "46/46 [==============================] - 4s 73ms/step - loss: 0.0124 - accuracy: 0.9952 - val_loss: 0.3998 - val_accuracy: 0.9079\n",
      "Epoch 14/100\n",
      "46/46 [==============================] - 4s 74ms/step - loss: 0.0119 - accuracy: 0.9973 - val_loss: 0.3232 - val_accuracy: 0.9302\n",
      "INFO:tensorflow:Assets written to: models\\uc_merced\\mobilenetv2\\assets\n"
     ]
    },
    {
     "name": "stderr",
     "output_type": "stream",
     "text": [
      "INFO:tensorflow:Assets written to: models\\uc_merced\\mobilenetv2\\assets\n"
     ]
    },
    {
     "data": {
      "text/plain": [
       "(<keras.callbacks.History at 0x19a29aa0670>,\n",
       " <keras.callbacks.History at 0x1998774d250>)"
      ]
     },
     "execution_count": 30,
     "metadata": {},
     "output_type": "execute_result"
    }
   ],
   "source": [
    "model_name = \"mobilenetv2\"\n",
    "dropout_rate = 0.55\n",
    "train_on_dataset(model_name, dataset_name, dropout_rate)"
   ]
  },
  {
   "cell_type": "code",
   "execution_count": null,
   "id": "c595d871",
   "metadata": {},
   "outputs": [],
   "source": []
  }
 ],
 "metadata": {
  "kernelspec": {
   "display_name": "zavrsni_env",
   "language": "python",
   "name": "zavrsni_env"
  },
  "language_info": {
   "codemirror_mode": {
    "name": "ipython",
    "version": 3
   },
   "file_extension": ".py",
   "mimetype": "text/x-python",
   "name": "python",
   "nbconvert_exporter": "python",
   "pygments_lexer": "ipython3",
   "version": "3.8.10"
  }
 },
 "nbformat": 4,
 "nbformat_minor": 5
}
